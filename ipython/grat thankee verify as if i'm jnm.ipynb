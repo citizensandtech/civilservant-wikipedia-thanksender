{
 "cells": [
  {
   "cell_type": "code",
   "execution_count": null,
   "metadata": {},
   "outputs": [],
   "source": [
    "library(tidyverse)\n",
    "library(magrittr)\n",
    "data.path = Sys.getenv('TRESORDIR', '~/Tresors')\n",
    "tresor.path = 'CivilServant/projects/wikipedia-integration/gratitude-study/Data Drills/thankee/post_experiment_analysis'\n",
    "fname = 'grat-thankee-all-pre-post-treatment-vars.csv'\n",
    "f.path = file.path(data.path, tresor.path, fname)\n",
    "df <- read.csv(f.path)"
   ]
  },
  {
   "cell_type": "code",
   "execution_count": null,
   "metadata": {},
   "outputs": [],
   "source": [
    "df$two.week.retention  %<>% as.logical\n",
    "df$complier  %<>% as.logical\n",
    "df$has.email  %<>% as.logical\n",
    "df$thanks.not.received.skipped %<>% as.logical\n",
    "df$thanks.not.received.not.seen  %<>% as.logical\n",
    "df$thanks.not.received.error  %<>% as.logical\n",
    "df$thanks.not.received.user.deleted  %<>% as.logical\n",
    "df$received.multiple.thanks  %<>% as.logical\n",
    "df$complier.app.any.reason  %<>% as.logical"
   ]
  },
  {
   "cell_type": "code",
   "execution_count": null,
   "metadata": {},
   "outputs": [],
   "source": [
    "df  %>%  names"
   ]
  },
  {
   "cell_type": "code",
   "execution_count": null,
   "metadata": {},
   "outputs": [],
   "source": [
    "df  %>% head(1)"
   ]
  },
  {
   "cell_type": "code",
   "execution_count": null,
   "metadata": {},
   "outputs": [],
   "source": [
    "df %>% group_by(randomization.arm)  %>% summarize(mean.labor.hours.per.day.diff = mean(labor.hours.per.day.diff))"
   ]
  },
  {
   "cell_type": "code",
   "execution_count": null,
   "metadata": {},
   "outputs": [],
   "source": []
  }
 ],
 "metadata": {
  "kernelspec": {
   "display_name": "R",
   "language": "R",
   "name": "ir"
  },
  "language_info": {
   "codemirror_mode": "r",
   "file_extension": ".r",
   "mimetype": "text/x-r-source",
   "name": "R",
   "pygments_lexer": "r",
   "version": "3.6.3"
  }
 },
 "nbformat": 4,
 "nbformat_minor": 2
}
