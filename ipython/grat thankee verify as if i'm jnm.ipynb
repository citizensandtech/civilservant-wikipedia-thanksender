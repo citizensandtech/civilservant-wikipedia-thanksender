{
 "cells": [
  {
   "cell_type": "code",
   "execution_count": 1,
   "metadata": {},
   "outputs": [
    {
     "name": "stderr",
     "output_type": "stream",
     "text": [
      "── \u001b[1mAttaching packages\u001b[22m ─────────────────────────────────────── tidyverse 1.3.0 ──\n",
      "\n",
      "\u001b[32m✔\u001b[39m \u001b[34mggplot2\u001b[39m 3.2.1     \u001b[32m✔\u001b[39m \u001b[34mpurrr  \u001b[39m 0.3.3\n",
      "\u001b[32m✔\u001b[39m \u001b[34mtibble \u001b[39m 2.1.3     \u001b[32m✔\u001b[39m \u001b[34mdplyr  \u001b[39m 0.8.3\n",
      "\u001b[32m✔\u001b[39m \u001b[34mtidyr  \u001b[39m 1.0.0     \u001b[32m✔\u001b[39m \u001b[34mstringr\u001b[39m 1.4.0\n",
      "\u001b[32m✔\u001b[39m \u001b[34mreadr  \u001b[39m 1.3.1     \u001b[32m✔\u001b[39m \u001b[34mforcats\u001b[39m 0.4.0\n",
      "\n",
      "── \u001b[1mConflicts\u001b[22m ────────────────────────────────────────── tidyverse_conflicts() ──\n",
      "\u001b[31m✖\u001b[39m \u001b[34mdplyr\u001b[39m::\u001b[32mfilter()\u001b[39m masks \u001b[34mstats\u001b[39m::filter()\n",
      "\u001b[31m✖\u001b[39m \u001b[34mdplyr\u001b[39m::\u001b[32mlag()\u001b[39m    masks \u001b[34mstats\u001b[39m::lag()\n",
      "\n",
      "\n",
      "Attaching package: ‘magrittr’\n",
      "\n",
      "\n",
      "The following object is masked from ‘package:purrr’:\n",
      "\n",
      "    set_names\n",
      "\n",
      "\n",
      "The following object is masked from ‘package:tidyr’:\n",
      "\n",
      "    extract\n",
      "\n",
      "\n"
     ]
    }
   ],
   "source": [
    "library(tidyverse)\n",
    "library(magrittr)\n",
    "data.path = Sys.getenv('TRESORDIR', '~/Tresors')\n",
    "tresor.path = 'CivilServant/projects/wikipedia-integration/gratitude-study/Data Drills/thankee/post_experiment_analysis'\n",
    "fname = 'grat-thankee-all-pre-post-treatment-vars.csv'\n",
    "f.path = file.path(data.path, tresor.path, fname)\n",
    "df <- read.csv(f.path)"
   ]
  },
  {
   "cell_type": "code",
   "execution_count": 2,
   "metadata": {},
   "outputs": [],
   "source": [
    "df$two.week.retention  %<>% as.logical\n",
    "df$complier  %<>% as.logical\n",
    "df$has.email  %<>% as.logical\n",
    "df$thanks.not.received.skipped %<>% as.logical\n",
    "df$thanks.not.received.not.seen  %<>% as.logical\n",
    "df$thanks.not.received.error  %<>% as.logical\n",
    "df$thanks.not.received.user.deleted  %<>% as.logical\n",
    "df$received.multiple.thanks  %<>% as.logical\n",
    "df$complier.app.any.reason  %<>% as.logical"
   ]
  },
  {
   "cell_type": "code",
   "execution_count": 3,
   "metadata": {},
   "outputs": [
    {
     "data": {
      "text/html": [
       "<style>\n",
       ".list-inline {list-style: none; margin:0; padding: 0}\n",
       ".list-inline>li {display: inline-block}\n",
       ".list-inline>li:not(:last-child)::after {content: \"\\00b7\"; padding: 0 .5ex}\n",
       "</style>\n",
       "<ol class=list-inline><li>'private.anonymous.id'</li><li>'randomization.block.id'</li><li>'labor.hours.per.day.diff'</li><li>'two.week.retention'</li><li>'thanks.sent'</li><li>'thanks.sent.pre.treatment'</li><li>'wikipedians.value.contributions'</li><li>'community.friendly'</li><li>'complier'</li><li>'lang'</li><li>'prev.experience.assignment'</li><li>'prev.experience.treatment'</li><li>'year'</li><li>'has.email'</li><li>'remembered.thanks'</li><li>'overall.exp'</li><li>'social.value.1'</li><li>'social.value.3'</li><li>'social.value.4'</li><li>'social.warmth.2'</li><li>'social.warmth.3'</li><li>'randomization.arm'</li><li>'number.thanks.received'</li><li>'number.skips.received'</li><li>'thanks.not.received.skipped'</li><li>'thanks.not.received.not.seen'</li><li>'thanks.not.received.error'</li><li>'thanks.not.received.user.deleted'</li><li>'received.multiple.thanks'</li><li>'complier.app.any.reason'</li></ol>\n"
      ],
      "text/latex": [
       "\\begin{enumerate*}\n",
       "\\item 'private.anonymous.id'\n",
       "\\item 'randomization.block.id'\n",
       "\\item 'labor.hours.per.day.diff'\n",
       "\\item 'two.week.retention'\n",
       "\\item 'thanks.sent'\n",
       "\\item 'thanks.sent.pre.treatment'\n",
       "\\item 'wikipedians.value.contributions'\n",
       "\\item 'community.friendly'\n",
       "\\item 'complier'\n",
       "\\item 'lang'\n",
       "\\item 'prev.experience.assignment'\n",
       "\\item 'prev.experience.treatment'\n",
       "\\item 'year'\n",
       "\\item 'has.email'\n",
       "\\item 'remembered.thanks'\n",
       "\\item 'overall.exp'\n",
       "\\item 'social.value.1'\n",
       "\\item 'social.value.3'\n",
       "\\item 'social.value.4'\n",
       "\\item 'social.warmth.2'\n",
       "\\item 'social.warmth.3'\n",
       "\\item 'randomization.arm'\n",
       "\\item 'number.thanks.received'\n",
       "\\item 'number.skips.received'\n",
       "\\item 'thanks.not.received.skipped'\n",
       "\\item 'thanks.not.received.not.seen'\n",
       "\\item 'thanks.not.received.error'\n",
       "\\item 'thanks.not.received.user.deleted'\n",
       "\\item 'received.multiple.thanks'\n",
       "\\item 'complier.app.any.reason'\n",
       "\\end{enumerate*}\n"
      ],
      "text/markdown": [
       "1. 'private.anonymous.id'\n",
       "2. 'randomization.block.id'\n",
       "3. 'labor.hours.per.day.diff'\n",
       "4. 'two.week.retention'\n",
       "5. 'thanks.sent'\n",
       "6. 'thanks.sent.pre.treatment'\n",
       "7. 'wikipedians.value.contributions'\n",
       "8. 'community.friendly'\n",
       "9. 'complier'\n",
       "10. 'lang'\n",
       "11. 'prev.experience.assignment'\n",
       "12. 'prev.experience.treatment'\n",
       "13. 'year'\n",
       "14. 'has.email'\n",
       "15. 'remembered.thanks'\n",
       "16. 'overall.exp'\n",
       "17. 'social.value.1'\n",
       "18. 'social.value.3'\n",
       "19. 'social.value.4'\n",
       "20. 'social.warmth.2'\n",
       "21. 'social.warmth.3'\n",
       "22. 'randomization.arm'\n",
       "23. 'number.thanks.received'\n",
       "24. 'number.skips.received'\n",
       "25. 'thanks.not.received.skipped'\n",
       "26. 'thanks.not.received.not.seen'\n",
       "27. 'thanks.not.received.error'\n",
       "28. 'thanks.not.received.user.deleted'\n",
       "29. 'received.multiple.thanks'\n",
       "30. 'complier.app.any.reason'\n",
       "\n",
       "\n"
      ],
      "text/plain": [
       " [1] \"private.anonymous.id\"             \"randomization.block.id\"          \n",
       " [3] \"labor.hours.per.day.diff\"         \"two.week.retention\"              \n",
       " [5] \"thanks.sent\"                      \"thanks.sent.pre.treatment\"       \n",
       " [7] \"wikipedians.value.contributions\"  \"community.friendly\"              \n",
       " [9] \"complier\"                         \"lang\"                            \n",
       "[11] \"prev.experience.assignment\"       \"prev.experience.treatment\"       \n",
       "[13] \"year\"                             \"has.email\"                       \n",
       "[15] \"remembered.thanks\"                \"overall.exp\"                     \n",
       "[17] \"social.value.1\"                   \"social.value.3\"                  \n",
       "[19] \"social.value.4\"                   \"social.warmth.2\"                 \n",
       "[21] \"social.warmth.3\"                  \"randomization.arm\"               \n",
       "[23] \"number.thanks.received\"           \"number.skips.received\"           \n",
       "[25] \"thanks.not.received.skipped\"      \"thanks.not.received.not.seen\"    \n",
       "[27] \"thanks.not.received.error\"        \"thanks.not.received.user.deleted\"\n",
       "[29] \"received.multiple.thanks\"         \"complier.app.any.reason\"         "
      ]
     },
     "metadata": {},
     "output_type": "display_data"
    }
   ],
   "source": [
    "df  %>%  names"
   ]
  },
  {
   "cell_type": "code",
   "execution_count": 4,
   "metadata": {},
   "outputs": [
    {
     "data": {
      "text/html": [
       "<table>\n",
       "<caption>A data.frame: 1 × 30</caption>\n",
       "<thead>\n",
       "\t<tr><th></th><th scope=col>private.anonymous.id</th><th scope=col>randomization.block.id</th><th scope=col>labor.hours.per.day.diff</th><th scope=col>two.week.retention</th><th scope=col>thanks.sent</th><th scope=col>thanks.sent.pre.treatment</th><th scope=col>wikipedians.value.contributions</th><th scope=col>community.friendly</th><th scope=col>complier</th><th scope=col>lang</th><th scope=col>⋯</th><th scope=col>social.warmth.3</th><th scope=col>randomization.arm</th><th scope=col>number.thanks.received</th><th scope=col>number.skips.received</th><th scope=col>thanks.not.received.skipped</th><th scope=col>thanks.not.received.not.seen</th><th scope=col>thanks.not.received.error</th><th scope=col>thanks.not.received.user.deleted</th><th scope=col>received.multiple.thanks</th><th scope=col>complier.app.any.reason</th></tr>\n",
       "\t<tr><th></th><th scope=col>&lt;fct&gt;</th><th scope=col>&lt;int&gt;</th><th scope=col>&lt;dbl&gt;</th><th scope=col>&lt;lgl&gt;</th><th scope=col>&lt;int&gt;</th><th scope=col>&lt;int&gt;</th><th scope=col>&lt;dbl&gt;</th><th scope=col>&lt;dbl&gt;</th><th scope=col>&lt;lgl&gt;</th><th scope=col>&lt;fct&gt;</th><th scope=col>⋯</th><th scope=col>&lt;dbl&gt;</th><th scope=col>&lt;int&gt;</th><th scope=col>&lt;dbl&gt;</th><th scope=col>&lt;dbl&gt;</th><th scope=col>&lt;lgl&gt;</th><th scope=col>&lt;lgl&gt;</th><th scope=col>&lt;lgl&gt;</th><th scope=col>&lt;lgl&gt;</th><th scope=col>&lt;lgl&gt;</th><th scope=col>&lt;lgl&gt;</th></tr>\n",
       "</thead>\n",
       "<tbody>\n",
       "\t<tr><th scope=row>1</th><td>ef13d6ae-da6e-5e02-8ec5-3157e585d965</td><td>5987</td><td>0</td><td>FALSE</td><td>0</td><td>0</td><td>NA</td><td>NA</td><td>FALSE</td><td>ar</td><td>⋯</td><td>NA</td><td>0</td><td>0</td><td>0</td><td>FALSE</td><td>TRUE</td><td>FALSE</td><td>FALSE</td><td>FALSE</td><td>FALSE</td></tr>\n",
       "</tbody>\n",
       "</table>\n"
      ],
      "text/latex": [
       "A data.frame: 1 × 30\n",
       "\\begin{tabular}{r|lllllllllllllllllllll}\n",
       "  & private.anonymous.id & randomization.block.id & labor.hours.per.day.diff & two.week.retention & thanks.sent & thanks.sent.pre.treatment & wikipedians.value.contributions & community.friendly & complier & lang & ⋯ & social.warmth.3 & randomization.arm & number.thanks.received & number.skips.received & thanks.not.received.skipped & thanks.not.received.not.seen & thanks.not.received.error & thanks.not.received.user.deleted & received.multiple.thanks & complier.app.any.reason\\\\\n",
       "  & <fct> & <int> & <dbl> & <lgl> & <int> & <int> & <dbl> & <dbl> & <lgl> & <fct> & ⋯ & <dbl> & <int> & <dbl> & <dbl> & <lgl> & <lgl> & <lgl> & <lgl> & <lgl> & <lgl>\\\\\n",
       "\\hline\n",
       "\t1 & ef13d6ae-da6e-5e02-8ec5-3157e585d965 & 5987 & 0 & FALSE & 0 & 0 & NA & NA & FALSE & ar & ⋯ & NA & 0 & 0 & 0 & FALSE & TRUE & FALSE & FALSE & FALSE & FALSE\\\\\n",
       "\\end{tabular}\n"
      ],
      "text/markdown": [
       "\n",
       "A data.frame: 1 × 30\n",
       "\n",
       "| <!--/--> | private.anonymous.id &lt;fct&gt; | randomization.block.id &lt;int&gt; | labor.hours.per.day.diff &lt;dbl&gt; | two.week.retention &lt;lgl&gt; | thanks.sent &lt;int&gt; | thanks.sent.pre.treatment &lt;int&gt; | wikipedians.value.contributions &lt;dbl&gt; | community.friendly &lt;dbl&gt; | complier &lt;lgl&gt; | lang &lt;fct&gt; | ⋯ ⋯ | social.warmth.3 &lt;dbl&gt; | randomization.arm &lt;int&gt; | number.thanks.received &lt;dbl&gt; | number.skips.received &lt;dbl&gt; | thanks.not.received.skipped &lt;lgl&gt; | thanks.not.received.not.seen &lt;lgl&gt; | thanks.not.received.error &lt;lgl&gt; | thanks.not.received.user.deleted &lt;lgl&gt; | received.multiple.thanks &lt;lgl&gt; | complier.app.any.reason &lt;lgl&gt; |\n",
       "|---|---|---|---|---|---|---|---|---|---|---|---|---|---|---|---|---|---|---|---|---|---|\n",
       "| 1 | ef13d6ae-da6e-5e02-8ec5-3157e585d965 | 5987 | 0 | FALSE | 0 | 0 | NA | NA | FALSE | ar | ⋯ | NA | 0 | 0 | 0 | FALSE | TRUE | FALSE | FALSE | FALSE | FALSE |\n",
       "\n"
      ],
      "text/plain": [
       "  private.anonymous.id                 randomization.block.id\n",
       "1 ef13d6ae-da6e-5e02-8ec5-3157e585d965 5987                  \n",
       "  labor.hours.per.day.diff two.week.retention thanks.sent\n",
       "1 0                        FALSE              0          \n",
       "  thanks.sent.pre.treatment wikipedians.value.contributions community.friendly\n",
       "1 0                         NA                              NA                \n",
       "  complier lang ⋯ social.warmth.3 randomization.arm number.thanks.received\n",
       "1 FALSE    ar   ⋯ NA              0                 0                     \n",
       "  number.skips.received thanks.not.received.skipped\n",
       "1 0                     FALSE                      \n",
       "  thanks.not.received.not.seen thanks.not.received.error\n",
       "1 TRUE                         FALSE                    \n",
       "  thanks.not.received.user.deleted received.multiple.thanks\n",
       "1 FALSE                            FALSE                   \n",
       "  complier.app.any.reason\n",
       "1 FALSE                  "
      ]
     },
     "metadata": {},
     "output_type": "display_data"
    }
   ],
   "source": [
    "df  %>% head(1)"
   ]
  },
  {
   "cell_type": "code",
   "execution_count": 5,
   "metadata": {},
   "outputs": [
    {
     "data": {
      "text/html": [
       "<table>\n",
       "<caption>A tibble: 2 × 2</caption>\n",
       "<thead>\n",
       "\t<tr><th scope=col>randomization.arm</th><th scope=col>mean.labor.hours.per.day.diff</th></tr>\n",
       "\t<tr><th scope=col>&lt;int&gt;</th><th scope=col>&lt;dbl&gt;</th></tr>\n",
       "</thead>\n",
       "<tbody>\n",
       "\t<tr><td>0</td><td>-0.007281035</td></tr>\n",
       "\t<tr><td>1</td><td>-0.005509955</td></tr>\n",
       "</tbody>\n",
       "</table>\n"
      ],
      "text/latex": [
       "A tibble: 2 × 2\n",
       "\\begin{tabular}{ll}\n",
       " randomization.arm & mean.labor.hours.per.day.diff\\\\\n",
       " <int> & <dbl>\\\\\n",
       "\\hline\n",
       "\t 0 & -0.007281035\\\\\n",
       "\t 1 & -0.005509955\\\\\n",
       "\\end{tabular}\n"
      ],
      "text/markdown": [
       "\n",
       "A tibble: 2 × 2\n",
       "\n",
       "| randomization.arm &lt;int&gt; | mean.labor.hours.per.day.diff &lt;dbl&gt; |\n",
       "|---|---|\n",
       "| 0 | -0.007281035 |\n",
       "| 1 | -0.005509955 |\n",
       "\n"
      ],
      "text/plain": [
       "  randomization.arm mean.labor.hours.per.day.diff\n",
       "1 0                 -0.007281035                 \n",
       "2 1                 -0.005509955                 "
      ]
     },
     "metadata": {},
     "output_type": "display_data"
    }
   ],
   "source": [
    "df %>% group_by(randomization.arm)  %>% summarize(mean.labor.hours.per.day.diff = mean(labor.hours.per.day.diff))"
   ]
  },
  {
   "cell_type": "code",
   "execution_count": 6,
   "metadata": {},
   "outputs": [
    {
     "data": {
      "text/html": [
       "<table>\n",
       "<caption>A tibble: 2 × 2</caption>\n",
       "<thead>\n",
       "\t<tr><th scope=col>randomization.arm</th><th scope=col>mean.thanks.sent.pre.treatment</th></tr>\n",
       "\t<tr><th scope=col>&lt;int&gt;</th><th scope=col>&lt;dbl&gt;</th></tr>\n",
       "</thead>\n",
       "<tbody>\n",
       "\t<tr><td>0</td><td>4.269443</td></tr>\n",
       "\t<tr><td>1</td><td>3.758452</td></tr>\n",
       "</tbody>\n",
       "</table>\n"
      ],
      "text/latex": [
       "A tibble: 2 × 2\n",
       "\\begin{tabular}{ll}\n",
       " randomization.arm & mean.thanks.sent.pre.treatment\\\\\n",
       " <int> & <dbl>\\\\\n",
       "\\hline\n",
       "\t 0 & 4.269443\\\\\n",
       "\t 1 & 3.758452\\\\\n",
       "\\end{tabular}\n"
      ],
      "text/markdown": [
       "\n",
       "A tibble: 2 × 2\n",
       "\n",
       "| randomization.arm &lt;int&gt; | mean.thanks.sent.pre.treatment &lt;dbl&gt; |\n",
       "|---|---|\n",
       "| 0 | 4.269443 |\n",
       "| 1 | 3.758452 |\n",
       "\n"
      ],
      "text/plain": [
       "  randomization.arm mean.thanks.sent.pre.treatment\n",
       "1 0                 4.269443                      \n",
       "2 1                 3.758452                      "
      ]
     },
     "metadata": {},
     "output_type": "display_data"
    }
   ],
   "source": [
    "df %>% group_by(randomization.arm)  %>% summarize(mean.thanks.sent.pre.treatment = mean(thanks.sent.pre.treatment))"
   ]
  },
  {
   "cell_type": "code",
   "execution_count": null,
   "metadata": {},
   "outputs": [],
   "source": []
  }
 ],
 "metadata": {
  "kernelspec": {
   "display_name": "R",
   "language": "R",
   "name": "ir"
  },
  "language_info": {
   "codemirror_mode": "r",
   "file_extension": ".r",
   "mimetype": "text/x-r-source",
   "name": "R",
   "pygments_lexer": "r",
   "version": "3.6.3"
  }
 },
 "nbformat": 4,
 "nbformat_minor": 2
}
