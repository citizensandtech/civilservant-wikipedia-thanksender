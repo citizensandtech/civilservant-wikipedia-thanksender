{
 "cells": [
  {
   "cell_type": "code",
   "execution_count": 77,
   "metadata": {},
   "outputs": [],
   "source": [
    "library(tidyverse)\n",
    "library(magrittr)\n",
    "data.path = Sys.getenv('TRESORDIR', '~/Tresors')\n",
    "tresor.path = 'CivilServant/projects/wikipedia-integration/gratitude-study/Data Drills/thankee/post_experiment_analysis'\n",
    "fname = 'grat-thankee-all-pre-post-treatment-vars.csv'\n",
    "f.path = file.path(data.path, tresor.path, fname)\n",
    "df <- read.csv(f.path)"
   ]
  },
  {
   "cell_type": "code",
   "execution_count": 78,
   "metadata": {},
   "outputs": [],
   "source": [
    "df$two.week.retention  %<>% as.logical\n",
    "df$complier  %<>% as.logical\n",
    "df$has.email  %<>% as.logical\n",
    "df$thanks.not.received.skipped %<>% as.logical\n",
    "df$thanks.not.received.not.seen  %<>% as.logical\n",
    "df$thanks.not.received.error  %<>% as.logical\n",
    "df$thanks.not.received.user.deleted  %<>% as.logical\n",
    "df$received.multiple.thanks  %<>% as.logical\n",
    "df$complier.app.any.reason  %<>% as.logical"
   ]
  },
  {
   "cell_type": "code",
   "execution_count": 38,
   "metadata": {},
   "outputs": [
    {
     "data": {
      "text/html": [
       "<style>\n",
       ".list-inline {list-style: none; margin:0; padding: 0}\n",
       ".list-inline>li {display: inline-block}\n",
       ".list-inline>li:not(:last-child)::after {content: \"\\00b7\"; padding: 0 .5ex}\n",
       "</style>\n",
       "<ol class=list-inline><li>'private.anonymous.id'</li><li>'randomization.block.id'</li><li>'labor.hours.per.day.diff'</li><li>'two.week.retention'</li><li>'thanks.sent'</li><li>'wikipedians.value.contributions'</li><li>'community.friendly'</li><li>'complier'</li><li>'lang'</li><li>'prev.experience.assignment'</li><li>'prev.experience.treatment'</li><li>'year'</li><li>'has.email'</li><li>'remembered.thanks'</li><li>'overall.exp'</li><li>'social.value.1'</li><li>'social.value.3'</li><li>'social.value.4'</li><li>'social.warmth.2'</li><li>'social.warmth.3'</li><li>'randomization.arm'</li><li>'number.thanks.received'</li><li>'number.skips.received'</li><li>'thanks.not.received.skipped'</li><li>'thanks.not.received.not.seen'</li><li>'thanks.not.received.error'</li><li>'thanks.not.received.user.deleted'</li><li>'received.multiple.thanks'</li><li>'complier.app.any.reason'</li></ol>\n"
      ],
      "text/latex": [
       "\\begin{enumerate*}\n",
       "\\item 'private.anonymous.id'\n",
       "\\item 'randomization.block.id'\n",
       "\\item 'labor.hours.per.day.diff'\n",
       "\\item 'two.week.retention'\n",
       "\\item 'thanks.sent'\n",
       "\\item 'wikipedians.value.contributions'\n",
       "\\item 'community.friendly'\n",
       "\\item 'complier'\n",
       "\\item 'lang'\n",
       "\\item 'prev.experience.assignment'\n",
       "\\item 'prev.experience.treatment'\n",
       "\\item 'year'\n",
       "\\item 'has.email'\n",
       "\\item 'remembered.thanks'\n",
       "\\item 'overall.exp'\n",
       "\\item 'social.value.1'\n",
       "\\item 'social.value.3'\n",
       "\\item 'social.value.4'\n",
       "\\item 'social.warmth.2'\n",
       "\\item 'social.warmth.3'\n",
       "\\item 'randomization.arm'\n",
       "\\item 'number.thanks.received'\n",
       "\\item 'number.skips.received'\n",
       "\\item 'thanks.not.received.skipped'\n",
       "\\item 'thanks.not.received.not.seen'\n",
       "\\item 'thanks.not.received.error'\n",
       "\\item 'thanks.not.received.user.deleted'\n",
       "\\item 'received.multiple.thanks'\n",
       "\\item 'complier.app.any.reason'\n",
       "\\end{enumerate*}\n"
      ],
      "text/markdown": [
       "1. 'private.anonymous.id'\n",
       "2. 'randomization.block.id'\n",
       "3. 'labor.hours.per.day.diff'\n",
       "4. 'two.week.retention'\n",
       "5. 'thanks.sent'\n",
       "6. 'wikipedians.value.contributions'\n",
       "7. 'community.friendly'\n",
       "8. 'complier'\n",
       "9. 'lang'\n",
       "10. 'prev.experience.assignment'\n",
       "11. 'prev.experience.treatment'\n",
       "12. 'year'\n",
       "13. 'has.email'\n",
       "14. 'remembered.thanks'\n",
       "15. 'overall.exp'\n",
       "16. 'social.value.1'\n",
       "17. 'social.value.3'\n",
       "18. 'social.value.4'\n",
       "19. 'social.warmth.2'\n",
       "20. 'social.warmth.3'\n",
       "21. 'randomization.arm'\n",
       "22. 'number.thanks.received'\n",
       "23. 'number.skips.received'\n",
       "24. 'thanks.not.received.skipped'\n",
       "25. 'thanks.not.received.not.seen'\n",
       "26. 'thanks.not.received.error'\n",
       "27. 'thanks.not.received.user.deleted'\n",
       "28. 'received.multiple.thanks'\n",
       "29. 'complier.app.any.reason'\n",
       "\n",
       "\n"
      ],
      "text/plain": [
       " [1] \"private.anonymous.id\"             \"randomization.block.id\"          \n",
       " [3] \"labor.hours.per.day.diff\"         \"two.week.retention\"              \n",
       " [5] \"thanks.sent\"                      \"wikipedians.value.contributions\" \n",
       " [7] \"community.friendly\"               \"complier\"                        \n",
       " [9] \"lang\"                             \"prev.experience.assignment\"      \n",
       "[11] \"prev.experience.treatment\"        \"year\"                            \n",
       "[13] \"has.email\"                        \"remembered.thanks\"               \n",
       "[15] \"overall.exp\"                      \"social.value.1\"                  \n",
       "[17] \"social.value.3\"                   \"social.value.4\"                  \n",
       "[19] \"social.warmth.2\"                  \"social.warmth.3\"                 \n",
       "[21] \"randomization.arm\"                \"number.thanks.received\"          \n",
       "[23] \"number.skips.received\"            \"thanks.not.received.skipped\"     \n",
       "[25] \"thanks.not.received.not.seen\"     \"thanks.not.received.error\"       \n",
       "[27] \"thanks.not.received.user.deleted\" \"received.multiple.thanks\"        \n",
       "[29] \"complier.app.any.reason\"         "
      ]
     },
     "metadata": {},
     "output_type": "display_data"
    }
   ],
   "source": [
    "df  %>%  names"
   ]
  },
  {
   "cell_type": "code",
   "execution_count": 76,
   "metadata": {},
   "outputs": [
    {
     "data": {
      "text/html": [
       "<table>\n",
       "<caption>A data.frame: 6 × 29</caption>\n",
       "<thead>\n",
       "\t<tr><th></th><th scope=col>private.anonymous.id</th><th scope=col>randomization.block.id</th><th scope=col>labor.hours.per.day.diff</th><th scope=col>two.week.retention</th><th scope=col>thanks.sent</th><th scope=col>wikipedians.value.contributions</th><th scope=col>community.friendly</th><th scope=col>complier</th><th scope=col>lang</th><th scope=col>prev.experience.assignment</th><th scope=col>⋯</th><th scope=col>social.warmth.3</th><th scope=col>randomization.arm</th><th scope=col>number.thanks.received</th><th scope=col>number.skips.received</th><th scope=col>thanks.not.received.skipped</th><th scope=col>thanks.not.received.not.seen</th><th scope=col>thanks.not.received.error</th><th scope=col>thanks.not.received.user.deleted</th><th scope=col>received.multiple.thanks</th><th scope=col>complier.app.any.reason</th></tr>\n",
       "\t<tr><th></th><th scope=col>&lt;fct&gt;</th><th scope=col>&lt;int&gt;</th><th scope=col>&lt;dbl&gt;</th><th scope=col>&lt;lgl&gt;</th><th scope=col>&lt;int&gt;</th><th scope=col>&lt;dbl&gt;</th><th scope=col>&lt;dbl&gt;</th><th scope=col>&lt;lgl&gt;</th><th scope=col>&lt;fct&gt;</th><th scope=col>&lt;fct&gt;</th><th scope=col>⋯</th><th scope=col>&lt;dbl&gt;</th><th scope=col>&lt;int&gt;</th><th scope=col>&lt;dbl&gt;</th><th scope=col>&lt;dbl&gt;</th><th scope=col>&lt;lgl&gt;</th><th scope=col>&lt;lgl&gt;</th><th scope=col>&lt;lgl&gt;</th><th scope=col>&lt;lgl&gt;</th><th scope=col>&lt;lgl&gt;</th><th scope=col>&lt;lgl&gt;</th></tr>\n",
       "</thead>\n",
       "<tbody>\n",
       "\t<tr><th scope=row>1</th><td>ef13d6ae-da6e-5e02-8ec5-3157e585d965</td><td>5987</td><td> 0.000000000</td><td>FALSE</td><td>0</td><td>NA</td><td>NA</td><td>FALSE</td><td>ar</td><td>bin_365</td><td>⋯</td><td>NA</td><td>0</td><td>0</td><td>0</td><td>FALSE</td><td>TRUE</td><td>FALSE</td><td>FALSE</td><td>FALSE</td><td>FALSE</td></tr>\n",
       "\t<tr><th scope=row>2</th><td>74bc1a56-bb86-5623-af63-80cc60f1674f</td><td>6312</td><td>-0.002843915</td><td>FALSE</td><td>0</td><td>NA</td><td>NA</td><td>FALSE</td><td>ar</td><td>bin_365</td><td>⋯</td><td>NA</td><td>1</td><td>0</td><td>0</td><td>FALSE</td><td>TRUE</td><td>FALSE</td><td>FALSE</td><td>FALSE</td><td>FALSE</td></tr>\n",
       "\t<tr><th scope=row>3</th><td>4df5c46e-6f6c-59bf-80fd-75111ac4356e</td><td>5852</td><td>-0.002843915</td><td> TRUE</td><td>0</td><td>NA</td><td>NA</td><td>FALSE</td><td>ar</td><td>bin_365</td><td>⋯</td><td>NA</td><td>1</td><td>0</td><td>0</td><td>FALSE</td><td>TRUE</td><td>FALSE</td><td>FALSE</td><td>FALSE</td><td>FALSE</td></tr>\n",
       "\t<tr><th scope=row>4</th><td>1706eca3-581f-5d24-a779-9a884c8ff5e9</td><td>6224</td><td> 0.000000000</td><td>FALSE</td><td>0</td><td>NA</td><td>NA</td><td>FALSE</td><td>ar</td><td>bin_365</td><td>⋯</td><td>NA</td><td>1</td><td>0</td><td>0</td><td>FALSE</td><td>TRUE</td><td>FALSE</td><td>FALSE</td><td>FALSE</td><td>FALSE</td></tr>\n",
       "\t<tr><th scope=row>5</th><td>9c88e502-0618-5b3e-99c7-d483a7a2f133</td><td>6247</td><td>-0.007056878</td><td>FALSE</td><td>0</td><td>NA</td><td>NA</td><td>FALSE</td><td>ar</td><td>bin_365</td><td>⋯</td><td>NA</td><td>0</td><td>0</td><td>0</td><td>FALSE</td><td>TRUE</td><td>FALSE</td><td>FALSE</td><td>FALSE</td><td>FALSE</td></tr>\n",
       "\t<tr><th scope=row>6</th><td>e58aed9e-bf2b-5dec-a87e-28cba041861f</td><td>6105</td><td> 0.000000000</td><td>FALSE</td><td>0</td><td>NA</td><td>NA</td><td>FALSE</td><td>ar</td><td>bin_365</td><td>⋯</td><td>NA</td><td>0</td><td>0</td><td>0</td><td>FALSE</td><td>TRUE</td><td>FALSE</td><td>FALSE</td><td>FALSE</td><td>FALSE</td></tr>\n",
       "</tbody>\n",
       "</table>\n"
      ],
      "text/latex": [
       "A data.frame: 6 × 29\n",
       "\\begin{tabular}{r|lllllllllllllllllllll}\n",
       "  & private.anonymous.id & randomization.block.id & labor.hours.per.day.diff & two.week.retention & thanks.sent & wikipedians.value.contributions & community.friendly & complier & lang & prev.experience.assignment & ⋯ & social.warmth.3 & randomization.arm & number.thanks.received & number.skips.received & thanks.not.received.skipped & thanks.not.received.not.seen & thanks.not.received.error & thanks.not.received.user.deleted & received.multiple.thanks & complier.app.any.reason\\\\\n",
       "  & <fct> & <int> & <dbl> & <lgl> & <int> & <dbl> & <dbl> & <lgl> & <fct> & <fct> & ⋯ & <dbl> & <int> & <dbl> & <dbl> & <lgl> & <lgl> & <lgl> & <lgl> & <lgl> & <lgl>\\\\\n",
       "\\hline\n",
       "\t1 & ef13d6ae-da6e-5e02-8ec5-3157e585d965 & 5987 &  0.000000000 & FALSE & 0 & NA & NA & FALSE & ar & bin\\_365 & ⋯ & NA & 0 & 0 & 0 & FALSE & TRUE & FALSE & FALSE & FALSE & FALSE\\\\\n",
       "\t2 & 74bc1a56-bb86-5623-af63-80cc60f1674f & 6312 & -0.002843915 & FALSE & 0 & NA & NA & FALSE & ar & bin\\_365 & ⋯ & NA & 1 & 0 & 0 & FALSE & TRUE & FALSE & FALSE & FALSE & FALSE\\\\\n",
       "\t3 & 4df5c46e-6f6c-59bf-80fd-75111ac4356e & 5852 & -0.002843915 &  TRUE & 0 & NA & NA & FALSE & ar & bin\\_365 & ⋯ & NA & 1 & 0 & 0 & FALSE & TRUE & FALSE & FALSE & FALSE & FALSE\\\\\n",
       "\t4 & 1706eca3-581f-5d24-a779-9a884c8ff5e9 & 6224 &  0.000000000 & FALSE & 0 & NA & NA & FALSE & ar & bin\\_365 & ⋯ & NA & 1 & 0 & 0 & FALSE & TRUE & FALSE & FALSE & FALSE & FALSE\\\\\n",
       "\t5 & 9c88e502-0618-5b3e-99c7-d483a7a2f133 & 6247 & -0.007056878 & FALSE & 0 & NA & NA & FALSE & ar & bin\\_365 & ⋯ & NA & 0 & 0 & 0 & FALSE & TRUE & FALSE & FALSE & FALSE & FALSE\\\\\n",
       "\t6 & e58aed9e-bf2b-5dec-a87e-28cba041861f & 6105 &  0.000000000 & FALSE & 0 & NA & NA & FALSE & ar & bin\\_365 & ⋯ & NA & 0 & 0 & 0 & FALSE & TRUE & FALSE & FALSE & FALSE & FALSE\\\\\n",
       "\\end{tabular}\n"
      ],
      "text/markdown": [
       "\n",
       "A data.frame: 6 × 29\n",
       "\n",
       "| <!--/--> | private.anonymous.id &lt;fct&gt; | randomization.block.id &lt;int&gt; | labor.hours.per.day.diff &lt;dbl&gt; | two.week.retention &lt;lgl&gt; | thanks.sent &lt;int&gt; | wikipedians.value.contributions &lt;dbl&gt; | community.friendly &lt;dbl&gt; | complier &lt;lgl&gt; | lang &lt;fct&gt; | prev.experience.assignment &lt;fct&gt; | ⋯ ⋯ | social.warmth.3 &lt;dbl&gt; | randomization.arm &lt;int&gt; | number.thanks.received &lt;dbl&gt; | number.skips.received &lt;dbl&gt; | thanks.not.received.skipped &lt;lgl&gt; | thanks.not.received.not.seen &lt;lgl&gt; | thanks.not.received.error &lt;lgl&gt; | thanks.not.received.user.deleted &lt;lgl&gt; | received.multiple.thanks &lt;lgl&gt; | complier.app.any.reason &lt;lgl&gt; |\n",
       "|---|---|---|---|---|---|---|---|---|---|---|---|---|---|---|---|---|---|---|---|---|---|\n",
       "| 1 | ef13d6ae-da6e-5e02-8ec5-3157e585d965 | 5987 |  0.000000000 | FALSE | 0 | NA | NA | FALSE | ar | bin_365 | ⋯ | NA | 0 | 0 | 0 | FALSE | TRUE | FALSE | FALSE | FALSE | FALSE |\n",
       "| 2 | 74bc1a56-bb86-5623-af63-80cc60f1674f | 6312 | -0.002843915 | FALSE | 0 | NA | NA | FALSE | ar | bin_365 | ⋯ | NA | 1 | 0 | 0 | FALSE | TRUE | FALSE | FALSE | FALSE | FALSE |\n",
       "| 3 | 4df5c46e-6f6c-59bf-80fd-75111ac4356e | 5852 | -0.002843915 |  TRUE | 0 | NA | NA | FALSE | ar | bin_365 | ⋯ | NA | 1 | 0 | 0 | FALSE | TRUE | FALSE | FALSE | FALSE | FALSE |\n",
       "| 4 | 1706eca3-581f-5d24-a779-9a884c8ff5e9 | 6224 |  0.000000000 | FALSE | 0 | NA | NA | FALSE | ar | bin_365 | ⋯ | NA | 1 | 0 | 0 | FALSE | TRUE | FALSE | FALSE | FALSE | FALSE |\n",
       "| 5 | 9c88e502-0618-5b3e-99c7-d483a7a2f133 | 6247 | -0.007056878 | FALSE | 0 | NA | NA | FALSE | ar | bin_365 | ⋯ | NA | 0 | 0 | 0 | FALSE | TRUE | FALSE | FALSE | FALSE | FALSE |\n",
       "| 6 | e58aed9e-bf2b-5dec-a87e-28cba041861f | 6105 |  0.000000000 | FALSE | 0 | NA | NA | FALSE | ar | bin_365 | ⋯ | NA | 0 | 0 | 0 | FALSE | TRUE | FALSE | FALSE | FALSE | FALSE |\n",
       "\n"
      ],
      "text/plain": [
       "  private.anonymous.id                 randomization.block.id\n",
       "1 ef13d6ae-da6e-5e02-8ec5-3157e585d965 5987                  \n",
       "2 74bc1a56-bb86-5623-af63-80cc60f1674f 6312                  \n",
       "3 4df5c46e-6f6c-59bf-80fd-75111ac4356e 5852                  \n",
       "4 1706eca3-581f-5d24-a779-9a884c8ff5e9 6224                  \n",
       "5 9c88e502-0618-5b3e-99c7-d483a7a2f133 6247                  \n",
       "6 e58aed9e-bf2b-5dec-a87e-28cba041861f 6105                  \n",
       "  labor.hours.per.day.diff two.week.retention thanks.sent\n",
       "1  0.000000000             FALSE              0          \n",
       "2 -0.002843915             FALSE              0          \n",
       "3 -0.002843915              TRUE              0          \n",
       "4  0.000000000             FALSE              0          \n",
       "5 -0.007056878             FALSE              0          \n",
       "6  0.000000000             FALSE              0          \n",
       "  wikipedians.value.contributions community.friendly complier lang\n",
       "1 NA                              NA                 FALSE    ar  \n",
       "2 NA                              NA                 FALSE    ar  \n",
       "3 NA                              NA                 FALSE    ar  \n",
       "4 NA                              NA                 FALSE    ar  \n",
       "5 NA                              NA                 FALSE    ar  \n",
       "6 NA                              NA                 FALSE    ar  \n",
       "  prev.experience.assignment ⋯ social.warmth.3 randomization.arm\n",
       "1 bin_365                    ⋯ NA              0                \n",
       "2 bin_365                    ⋯ NA              1                \n",
       "3 bin_365                    ⋯ NA              1                \n",
       "4 bin_365                    ⋯ NA              1                \n",
       "5 bin_365                    ⋯ NA              0                \n",
       "6 bin_365                    ⋯ NA              0                \n",
       "  number.thanks.received number.skips.received thanks.not.received.skipped\n",
       "1 0                      0                     FALSE                      \n",
       "2 0                      0                     FALSE                      \n",
       "3 0                      0                     FALSE                      \n",
       "4 0                      0                     FALSE                      \n",
       "5 0                      0                     FALSE                      \n",
       "6 0                      0                     FALSE                      \n",
       "  thanks.not.received.not.seen thanks.not.received.error\n",
       "1 TRUE                         FALSE                    \n",
       "2 TRUE                         FALSE                    \n",
       "3 TRUE                         FALSE                    \n",
       "4 TRUE                         FALSE                    \n",
       "5 TRUE                         FALSE                    \n",
       "6 TRUE                         FALSE                    \n",
       "  thanks.not.received.user.deleted received.multiple.thanks\n",
       "1 FALSE                            FALSE                   \n",
       "2 FALSE                            FALSE                   \n",
       "3 FALSE                            FALSE                   \n",
       "4 FALSE                            FALSE                   \n",
       "5 FALSE                            FALSE                   \n",
       "6 FALSE                            FALSE                   \n",
       "  complier.app.any.reason\n",
       "1 FALSE                  \n",
       "2 FALSE                  \n",
       "3 FALSE                  \n",
       "4 FALSE                  \n",
       "5 FALSE                  \n",
       "6 FALSE                  "
      ]
     },
     "metadata": {},
     "output_type": "display_data"
    }
   ],
   "source": [
    "df  %>%  head"
   ]
  },
  {
   "cell_type": "code",
   "execution_count": 33,
   "metadata": {},
   "outputs": [
    {
     "data": {
      "text/html": [
       "<table>\n",
       "<caption>A tibble: 2 × 2</caption>\n",
       "<thead>\n",
       "\t<tr><th scope=col>randomization.arm</th><th scope=col>mean.labor.hours.per.day.diff</th></tr>\n",
       "\t<tr><th scope=col>&lt;int&gt;</th><th scope=col>&lt;dbl&gt;</th></tr>\n",
       "</thead>\n",
       "<tbody>\n",
       "\t<tr><td>0</td><td>-0.007281035</td></tr>\n",
       "\t<tr><td>1</td><td>-0.006489907</td></tr>\n",
       "</tbody>\n",
       "</table>\n"
      ],
      "text/latex": [
       "A tibble: 2 × 2\n",
       "\\begin{tabular}{ll}\n",
       " randomization.arm & mean.labor.hours.per.day.diff\\\\\n",
       " <int> & <dbl>\\\\\n",
       "\\hline\n",
       "\t 0 & -0.007281035\\\\\n",
       "\t 1 & -0.006489907\\\\\n",
       "\\end{tabular}\n"
      ],
      "text/markdown": [
       "\n",
       "A tibble: 2 × 2\n",
       "\n",
       "| randomization.arm &lt;int&gt; | mean.labor.hours.per.day.diff &lt;dbl&gt; |\n",
       "|---|---|\n",
       "| 0 | -0.007281035 |\n",
       "| 1 | -0.006489907 |\n",
       "\n"
      ],
      "text/plain": [
       "  randomization.arm mean.labor.hours.per.day.diff\n",
       "1 0                 -0.007281035                 \n",
       "2 1                 -0.006489907                 "
      ]
     },
     "metadata": {},
     "output_type": "display_data"
    }
   ],
   "source": [
    "df %>% group_by(randomization.arm)  %>% summarize(mean.labor.hours.per.day.diff = mean(labor.hours.per.day.diff))"
   ]
  }
 ],
 "metadata": {
  "kernelspec": {
   "display_name": "R",
   "language": "R",
   "name": "ir"
  },
  "language_info": {
   "codemirror_mode": "r",
   "file_extension": ".r",
   "mimetype": "text/x-r-source",
   "name": "R",
   "pygments_lexer": "r",
   "version": "3.6.3"
  }
 },
 "nbformat": 4,
 "nbformat_minor": 2
}
