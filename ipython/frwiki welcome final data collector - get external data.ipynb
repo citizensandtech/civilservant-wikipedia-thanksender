{
 "cells": [
  {
   "cell_type": "markdown",
   "metadata": {},
   "source": [
    "# Goal\n",
    "1. Implement the data described in this [google doc](https://docs.google.com/document/d/1YCsWf2G89ABSyE3MMB5bWqaSyOkvvYp2IPwBkI1mlMs/edit).\n",
    "1. One participant per row. any user that was ever seen by the app.\n",
    "1. Survey results from julia\n",
    "1. Then need replica data on behaviour (with caching probably).\n",
    "\n",
    "\n",
    "### connections\n",
    "1. connecting to aws studies mysql on `3311`\n",
    "    1. `ssh -N studies.cs -L 3311:localhost:3306`\n",
    "2. connecting to wmf repliacs on `3310`\n",
    "    1. `ssh -N maximilianklein@tools-login.wmflabs.org -L 3310:enwiki.analytics.db.svc.eqiad.wmflabs:3306`"
   ]
  },
  {
   "cell_type": "code",
   "execution_count": 1,
   "metadata": {},
   "outputs": [],
   "source": [
    "from civilservant.models.core import ExperimentThing, ExperimentAction\n",
    "# from thanks.utils import _get_experiment_id\n",
    "from civilservant.util import read_config_file\n",
    "import os\n",
    "from civilservant.db import init_session, init_engine\n",
    "from sqlalchemy.dialects import mysql\n",
    "import sqlalchemy\n",
    "import pandas as pd\n",
    "import datetime\n",
    "# import uuid\n",
    "CACHEDIR='/data/project/cache'\n",
    "TRESORDIR='CivilServant/projects/wikipedia-integration/fr-newcomer-study'"
   ]
  },
  {
   "cell_type": "code",
   "execution_count": 2,
   "metadata": {},
   "outputs": [],
   "source": [
    "no_pii_f_stem = os.path.join(os.getenv('TRESORDIR'), TRESORDIR, 'datasets', 'post-experiment')\n",
    "df = pd.read_pickle(os.path.join(no_pii_f_stem, 'user_records_and_survey.pickle'))\n",
    "\n",
    "acct_map = pd.read_pickle(os.path.join(no_pii_f_stem, 'acct_map.pickle'))"
   ]
  },
  {
   "cell_type": "code",
   "execution_count": 3,
   "metadata": {},
   "outputs": [
    {
     "data": {
      "text/html": [
       "<div>\n",
       "<style scoped>\n",
       "    .dataframe tbody tr th:only-of-type {\n",
       "        vertical-align: middle;\n",
       "    }\n",
       "\n",
       "    .dataframe tbody tr th {\n",
       "        vertical-align: top;\n",
       "    }\n",
       "\n",
       "    .dataframe thead th {\n",
       "        text-align: right;\n",
       "    }\n",
       "</style>\n",
       "<table border=\"1\" class=\"dataframe\">\n",
       "  <thead>\n",
       "    <tr style=\"text-align: right;\">\n",
       "      <th></th>\n",
       "      <th>lang</th>\n",
       "      <th>user_name</th>\n",
       "      <th>user_id</th>\n",
       "      <th>public_anonymous_id</th>\n",
       "      <th>private_anonymous_id</th>\n",
       "    </tr>\n",
       "  </thead>\n",
       "  <tbody>\n",
       "    <tr>\n",
       "      <th>0</th>\n",
       "      <td>fr</td>\n",
       "      <td>Blasquin</td>\n",
       "      <td>3708538</td>\n",
       "      <td>e22d958a-a5a6-4cc7-8845-27b9733823f4</td>\n",
       "      <td>e116132f-531a-5131-94e4-6e40c70eac3e</td>\n",
       "    </tr>\n",
       "  </tbody>\n",
       "</table>\n",
       "</div>"
      ],
      "text/plain": [
       "  lang user_name  user_id                   public_anonymous_id  \\\n",
       "0   fr  Blasquin  3708538  e22d958a-a5a6-4cc7-8845-27b9733823f4   \n",
       "\n",
       "                   private_anonymous_id  \n",
       "0  e116132f-531a-5131-94e4-6e40c70eac3e  "
      ]
     },
     "execution_count": 3,
     "metadata": {},
     "output_type": "execute_result"
    }
   ],
   "source": [
    "acct_map.head(1)"
   ]
  },
  {
   "cell_type": "code",
   "execution_count": 4,
   "metadata": {},
   "outputs": [],
   "source": [
    "df = df.merge(acct_map[['private_anonymous_id','user_name','user_id']], on='private_anonymous_id')"
   ]
  },
  {
   "cell_type": "markdown",
   "metadata": {},
   "source": [
    "## Getting external data\n",
    "\n",
    "1. seven.day.activation: \n",
    "    + Binary variable whether participant made an edit within 7 days of registration\n",
    "1. labor.hours: (int) The number of estimated labor hours associated with the 84 day period after registration\n",
    "    + This  measure  is  the  total  labor  hours  in  the  84  days  after  the  treatment.   Labor  hours  are  a measure based on an account's edit history [1].  To generate this integer, we observe the oating point  number  of  labor  hours  an  account  contributed  to  Wikipedia  in  the  84  day  period  after receiving the intervention and round it down\n",
    "1. four.week.retention :\n",
    "    + Binary variable whether the account is considered to be still contributing to Wikipedia, as defined by whether they made at least one edit to Wikipedia in a five week period starting at the beginning of a given week.  For example, a subject would be retained after  four  weeks  if  they  made  a  contribution  between  the  22nd  -  56th  day  after registering (that is, the 1st day of the 4th week and last day of the 8th week). \n",
    "    + NOTE: in experiment plan incorrectly said to the 56th day and last day of the 9th week\n",
    "1. labor.hours.nontruncated\n",
    "    + Like labor hours but the original float not the int.\n",
    "1. mentor.respond\n",
    "    + Responding  to  sender  (only  comparing  those  in  Treatment  1  and  Treatment  2). Binary variable whether the subject sent a message to the sender within 7 days.\n",
    "1. forum.des.nouveaux  (stretch goal)\n",
    "    + Contributing to Newcomer Forum (only comparing those in Treatment 1 and Treatment 2).  Binary variable whether the subject made a contribution to the Newcomer Forum within 7 days.\n",
    "1. social.response <- mentor.respond |forum.des.nouveaux \n",
    "1. sandbox\n",
    "    + Using sandbox (only comparing those in Treatment 1 and Treatment 2).  Binary variable whether the subject made a contribution in their Sandbox within 7 days. In french that's called Brullion. \n",
    "\n"
   ]
  },
  {
   "cell_type": "code",
   "execution_count": 5,
   "metadata": {},
   "outputs": [],
   "source": [
    "from civilservant.wikipedia.queries.revisions import get_timestamps_within_range\n",
    "from civilservant.wikipedia.queries.user_interactions import get_thanks_sending\n",
    "from civilservant.wikipedia.queries.users import get_user_basic_data \n",
    "from civilservant.wikipedia.utils import make_cached_df, make_sessions, calc_labour_hours,\\\n",
    "                                            to_wmftimestamp, from_wmftimestamp, bin_from_td, decode_or_nan\n",
    "from civilservant.wikipedia.connections.database import make_wmf_con\n",
    "\n",
    "wmf_con = make_wmf_con()\n",
    "\n",
    "MAXIMUM_OBS_WINDOW = datetime.timedelta(days=84)\n",
    "\n",
    "@make_cached_df('fr-welcome-timestamps')\n",
    "def get_user_edits_before_and_after_obs(lang, user_name, user_registration):\n",
    "    start_date = user_registration\n",
    "    end_date = start_date + MAXIMUM_OBS_WINDOW\n",
    "    ts = get_timestamps_within_range(lang=lang, start_date=start_date, end_date=end_date, user_name=user_name,\n",
    "                         con=wmf_con, with_page_id=True)\n",
    "    return ts\n",
    "    "
   ]
  },
  {
   "cell_type": "code",
   "execution_count": 6,
   "metadata": {},
   "outputs": [],
   "source": [
    "# delete this for full run\n",
    "# df = df[:1000]\n",
    "# print(f'data frem length: {len(df)}')"
   ]
  },
  {
   "cell_type": "code",
   "execution_count": 7,
   "metadata": {},
   "outputs": [],
   "source": [
    "df['labor_hours_ts_df'] = df.apply(lambda row: get_user_edits_before_and_after_obs(row['lang'],\n",
    "                                                                                  row['user_name'],\n",
    "                                                                                  row['user_registration'])\n",
    "                                                                                   , axis=1)"
   ]
  },
  {
   "cell_type": "code",
   "execution_count": 8,
   "metadata": {},
   "outputs": [],
   "source": [
    "def window_ts_df(user_registration, start_days_offset, end_days_offset, ts_df):\n",
    "    start_date = user_registration + datetime.timedelta(days=start_days_offset)\n",
    "    end_date = start_date + datetime.timedelta(days=end_days_offset)\n",
    "    between_cond = (ts_df['rev_timestamp']>start_date) & (ts_df['rev_timestamp']<=end_date)\n",
    "    between = ts_df[between_cond]\n",
    "    return between"
   ]
  },
  {
   "cell_type": "code",
   "execution_count": 9,
   "metadata": {},
   "outputs": [],
   "source": [
    "def seven_day_activation(user_registration, ts_df):\n",
    "    between = window_ts_df(user_registration=user_registration, \n",
    "                           start_days_offset=0, \n",
    "                           end_days_offset=7, \n",
    "                           ts_df=ts_df)\n",
    "    return len(between)>0"
   ]
  },
  {
   "cell_type": "code",
   "execution_count": 10,
   "metadata": {},
   "outputs": [],
   "source": [
    "def four_week_retention(user_registration, ts_df):\n",
    "    between = window_ts_df(user_registration=user_registration, \n",
    "                           start_days_offset=22, \n",
    "                           end_days_offset=56, \n",
    "                           ts_df=ts_df)\n",
    "    return len(between)>0"
   ]
  },
  {
   "cell_type": "code",
   "execution_count": 11,
   "metadata": {},
   "outputs": [],
   "source": [
    "df['seven_day_activation'] = df.apply(lambda row: seven_day_activation(row['user_registration'], row['labor_hours_ts_df'],\n",
    "                                                                    ), axis=1)"
   ]
  },
  {
   "cell_type": "code",
   "execution_count": 12,
   "metadata": {},
   "outputs": [
    {
     "data": {
      "text/plain": [
       "21124"
      ]
     },
     "execution_count": 12,
     "metadata": {},
     "output_type": "execute_result"
    }
   ],
   "source": [
    "df['seven_day_activation'].sum()"
   ]
  },
  {
   "cell_type": "code",
   "execution_count": 13,
   "metadata": {},
   "outputs": [
    {
     "data": {
      "text/plain": [
       "22194"
      ]
     },
     "execution_count": 13,
     "metadata": {},
     "output_type": "execute_result"
    }
   ],
   "source": [
    "df['labor_hours_ts_df'].apply(lambda s:len(s)>0).sum()"
   ]
  },
  {
   "cell_type": "code",
   "execution_count": 14,
   "metadata": {},
   "outputs": [],
   "source": [
    "df['four_week_retention'] = df.apply(lambda row: four_week_retention(row['user_registration'], row['labor_hours_ts_df'],\n",
    "                                                                    ), axis=1)"
   ]
  },
  {
   "cell_type": "code",
   "execution_count": 15,
   "metadata": {},
   "outputs": [
    {
     "data": {
      "text/plain": [
       "2516"
      ]
     },
     "execution_count": 15,
     "metadata": {},
     "output_type": "execute_result"
    }
   ],
   "source": [
    "df['four_week_retention'].sum()"
   ]
  },
  {
   "cell_type": "code",
   "execution_count": 16,
   "metadata": {},
   "outputs": [],
   "source": [
    "def num_labor_hours(before_after, behavior_start_dt, ts_df):\n",
    "    start_dt = behavior_start_dt - MAXIMUM_OBS_WINDOW if before_after=='before' else behavior_start_dt\n",
    "    end_dt = behavior_start_dt if before_after=='before' else behavior_start_dt + MAXIMUM_OBS_WINDOW\n",
    "    \n",
    "    window_ts_df =  ts_df[(ts_df['rev_timestamp'] > start_dt)  & (ts_df['rev_timestamp'] <= end_dt)]\n",
    "    if len(window_ts_df)==0:\n",
    "        return 0\n",
    "    else:\n",
    "        window_dts = [pd.to_datetime(np_dt) for np_dt in window_ts_df['rev_timestamp'].values]\n",
    "        window_labor_hours = calc_labour_hours(window_dts)\n",
    "        return window_labor_hours"
   ]
  },
  {
   "cell_type": "code",
   "execution_count": 17,
   "metadata": {},
   "outputs": [],
   "source": [
    "df['labor_hours_nontruncated'] = df.apply(lambda row: num_labor_hours('after', \n",
    "                                                                row['user_registration'],\n",
    "                                                                row['labor_hours_ts_df']),\n",
    "                                    axis=1)"
   ]
  },
  {
   "cell_type": "code",
   "execution_count": 18,
   "metadata": {},
   "outputs": [],
   "source": [
    "df['labor_hours'] = df['labor_hours_nontruncated'].apply(int)"
   ]
  },
  {
   "cell_type": "code",
   "execution_count": 19,
   "metadata": {},
   "outputs": [
    {
     "data": {
      "text/plain": [
       "(520, 520.0369444444449)"
      ]
     },
     "execution_count": 19,
     "metadata": {},
     "output_type": "execute_result"
    }
   ],
   "source": [
    "df['labor_hours'].max(), df['labor_hours_nontruncated'].max()"
   ]
  },
  {
   "cell_type": "markdown",
   "metadata": {},
   "source": [
    "## get the page-ids of the user-talk pages of all the signers"
   ]
  },
  {
   "cell_type": "code",
   "execution_count": 20,
   "metadata": {},
   "outputs": [],
   "source": [
    "mentors = set(df['mentor_user_name'])"
   ]
  },
  {
   "cell_type": "code",
   "execution_count": 21,
   "metadata": {},
   "outputs": [],
   "source": [
    "@make_cached_df('frwiki-welcome-page-ids-of-users')\n",
    "def get_user_page_ids(lang, user_name):\n",
    "    wmf_con.execute(f'use {lang}wiki_p;')\n",
    "\n",
    "    page_id_sql = \"\"\"select page_id, page_title, page_namespace\n",
    "    from page where page_title=:user_name\"\"\"\n",
    "\n",
    "    page_id_sql_esc = sqlalchemy.text(page_id_sql)\n",
    "    params = {\"user_name\": user_name,\n",
    "              \"lang\": lang}\n",
    "    page_id_df = pd.read_sql(page_id_sql_esc, con=wmf_con, params=params)\n",
    "    page_id_df['page_title'] = page_id_df['page_title'].apply(decode_or_nan)\n",
    "    return page_id_df"
   ]
  },
  {
   "cell_type": "code",
   "execution_count": 22,
   "metadata": {},
   "outputs": [],
   "source": [
    "mentor_id_dfs = []\n",
    "for mentor in mentors:\n",
    "#     print(mentor)\n",
    "    page_id_df = get_user_page_ids('fr', mentor)\n",
    "    mentor_id_dfs.append(page_id_df)"
   ]
  },
  {
   "cell_type": "code",
   "execution_count": 23,
   "metadata": {},
   "outputs": [],
   "source": [
    "mentor_df = pd.concat(mentor_id_dfs)"
   ]
  },
  {
   "cell_type": "code",
   "execution_count": 24,
   "metadata": {},
   "outputs": [
    {
     "data": {
      "text/html": [
       "<div>\n",
       "<style scoped>\n",
       "    .dataframe tbody tr th:only-of-type {\n",
       "        vertical-align: middle;\n",
       "    }\n",
       "\n",
       "    .dataframe tbody tr th {\n",
       "        vertical-align: top;\n",
       "    }\n",
       "\n",
       "    .dataframe thead th {\n",
       "        text-align: right;\n",
       "    }\n",
       "</style>\n",
       "<table border=\"1\" class=\"dataframe\">\n",
       "  <thead>\n",
       "    <tr style=\"text-align: right;\">\n",
       "      <th></th>\n",
       "      <th>page_id</th>\n",
       "      <th>page_title</th>\n",
       "      <th>page_namespace</th>\n",
       "    </tr>\n",
       "  </thead>\n",
       "  <tbody>\n",
       "    <tr>\n",
       "      <th>0</th>\n",
       "      <td>446121</td>\n",
       "      <td>Floflo</td>\n",
       "      <td>2</td>\n",
       "    </tr>\n",
       "    <tr>\n",
       "      <th>1</th>\n",
       "      <td>13018341</td>\n",
       "      <td>Floflo</td>\n",
       "      <td>3</td>\n",
       "    </tr>\n",
       "    <tr>\n",
       "      <th>0</th>\n",
       "      <td>7065621</td>\n",
       "      <td>Goombiis</td>\n",
       "      <td>2</td>\n",
       "    </tr>\n",
       "    <tr>\n",
       "      <th>1</th>\n",
       "      <td>10321851</td>\n",
       "      <td>Goombiis</td>\n",
       "      <td>3</td>\n",
       "    </tr>\n",
       "    <tr>\n",
       "      <th>0</th>\n",
       "      <td>9881003</td>\n",
       "      <td>Sijysuis</td>\n",
       "      <td>2</td>\n",
       "    </tr>\n",
       "    <tr>\n",
       "      <th>...</th>\n",
       "      <td>...</td>\n",
       "      <td>...</td>\n",
       "      <td>...</td>\n",
       "    </tr>\n",
       "    <tr>\n",
       "      <th>0</th>\n",
       "      <td>2978542</td>\n",
       "      <td>Trizek</td>\n",
       "      <td>2</td>\n",
       "    </tr>\n",
       "    <tr>\n",
       "      <th>1</th>\n",
       "      <td>9289907</td>\n",
       "      <td>Trizek</td>\n",
       "      <td>3</td>\n",
       "    </tr>\n",
       "    <tr>\n",
       "      <th>0</th>\n",
       "      <td>6847384</td>\n",
       "      <td>Frakir</td>\n",
       "      <td>0</td>\n",
       "    </tr>\n",
       "    <tr>\n",
       "      <th>1</th>\n",
       "      <td>7267572</td>\n",
       "      <td>Frakir</td>\n",
       "      <td>2</td>\n",
       "    </tr>\n",
       "    <tr>\n",
       "      <th>2</th>\n",
       "      <td>13020068</td>\n",
       "      <td>Frakir</td>\n",
       "      <td>3</td>\n",
       "    </tr>\n",
       "  </tbody>\n",
       "</table>\n",
       "<p>89 rows × 3 columns</p>\n",
       "</div>"
      ],
      "text/plain": [
       "     page_id page_title page_namespace\n",
       "0     446121     Floflo              2\n",
       "1   13018341     Floflo              3\n",
       "0    7065621   Goombiis              2\n",
       "1   10321851   Goombiis              3\n",
       "0    9881003   Sijysuis              2\n",
       "..       ...        ...            ...\n",
       "0    2978542     Trizek              2\n",
       "1    9289907     Trizek              3\n",
       "0    6847384     Frakir              0\n",
       "1    7267572     Frakir              2\n",
       "2   13020068     Frakir              3\n",
       "\n",
       "[89 rows x 3 columns]"
      ]
     },
     "execution_count": 24,
     "metadata": {},
     "output_type": "execute_result"
    }
   ],
   "source": [
    "mentor_df"
   ]
  },
  {
   "cell_type": "code",
   "execution_count": 25,
   "metadata": {},
   "outputs": [],
   "source": [
    "mentor_page_ids = mentor_df['page_id'].values"
   ]
  },
  {
   "cell_type": "code",
   "execution_count": 26,
   "metadata": {},
   "outputs": [
    {
     "data": {
      "text/html": [
       "<div>\n",
       "<style scoped>\n",
       "    .dataframe tbody tr th:only-of-type {\n",
       "        vertical-align: middle;\n",
       "    }\n",
       "\n",
       "    .dataframe tbody tr th {\n",
       "        vertical-align: top;\n",
       "    }\n",
       "\n",
       "    .dataframe thead th {\n",
       "        text-align: right;\n",
       "    }\n",
       "</style>\n",
       "<table border=\"1\" class=\"dataframe\">\n",
       "  <thead>\n",
       "    <tr style=\"text-align: right;\">\n",
       "      <th></th>\n",
       "      <th>rev_timestamp</th>\n",
       "      <th>rev_page</th>\n",
       "    </tr>\n",
       "  </thead>\n",
       "  <tbody>\n",
       "  </tbody>\n",
       "</table>\n",
       "</div>"
      ],
      "text/plain": [
       "Empty DataFrame\n",
       "Columns: [rev_timestamp, rev_page]\n",
       "Index: []"
      ]
     },
     "execution_count": 26,
     "metadata": {},
     "output_type": "execute_result"
    }
   ],
   "source": [
    "df.iloc[1]['labor_hours_ts_df']"
   ]
  },
  {
   "cell_type": "code",
   "execution_count": 27,
   "metadata": {},
   "outputs": [],
   "source": [
    "def responded_to_mentor(ts_df, mentor, any_mentor=False):\n",
    "    if any_mentor:\n",
    "        target_ids = mentor_page_ids\n",
    "    else:\n",
    "        target_ids = mentor_df[mentor_df['page_title']==mentor]['page_id'].values\n",
    "    ts_df['mentor_reply'] = ts_df['rev_page'].apply(lambda i: i in target_ids)\n",
    "    return ts_df['mentor_reply'].sum() > 0 "
   ]
  },
  {
   "cell_type": "code",
   "execution_count": 28,
   "metadata": {},
   "outputs": [],
   "source": [
    "df['mentor_respond'] = df.apply(lambda row: responded_to_mentor(row['labor_hours_ts_df'], row['mentor_user_name']), axis=1)\n",
    "# df['mentor_respond_any'] = df.apply(lambda row: responded_to_mentor(row[''], row[''], True))"
   ]
  },
  {
   "cell_type": "code",
   "execution_count": 29,
   "metadata": {},
   "outputs": [
    {
     "data": {
      "text/plain": [
       "0.0031704326502014365"
      ]
     },
     "execution_count": 29,
     "metadata": {},
     "output_type": "execute_result"
    }
   ],
   "source": [
    "df['mentor_respond'].mean()"
   ]
  },
  {
   "cell_type": "code",
   "execution_count": 30,
   "metadata": {},
   "outputs": [
    {
     "data": {
      "text/html": [
       "<div>\n",
       "<style scoped>\n",
       "    .dataframe tbody tr th:only-of-type {\n",
       "        vertical-align: middle;\n",
       "    }\n",
       "\n",
       "    .dataframe tbody tr th {\n",
       "        vertical-align: top;\n",
       "    }\n",
       "\n",
       "    .dataframe thead th {\n",
       "        text-align: right;\n",
       "    }\n",
       "</style>\n",
       "<table border=\"1\" class=\"dataframe\">\n",
       "  <thead>\n",
       "    <tr style=\"text-align: right;\">\n",
       "      <th></th>\n",
       "      <th>private_anonymous_id</th>\n",
       "      <th>lang</th>\n",
       "      <th>user_registration</th>\n",
       "      <th>randomization_arm</th>\n",
       "      <th>randomization_block_id</th>\n",
       "      <th>complier</th>\n",
       "      <th>survey.consent</th>\n",
       "      <th>manipulation.check</th>\n",
       "      <th>efficacy</th>\n",
       "      <th>help</th>\n",
       "      <th>...</th>\n",
       "      <th>survey_invitation</th>\n",
       "      <th>mentor_user_name</th>\n",
       "      <th>user_name</th>\n",
       "      <th>user_id</th>\n",
       "      <th>labor_hours_ts_df</th>\n",
       "      <th>seven_day_activation</th>\n",
       "      <th>four_week_retention</th>\n",
       "      <th>labor_hours_nontruncated</th>\n",
       "      <th>labor_hours</th>\n",
       "      <th>mentor_respond</th>\n",
       "    </tr>\n",
       "  </thead>\n",
       "  <tbody>\n",
       "    <tr>\n",
       "      <th>303</th>\n",
       "      <td>5f90f24a-0b1d-57c7-be86-de610b4a6c60</td>\n",
       "      <td>fr</td>\n",
       "      <td>2020-01-31 11:56:21</td>\n",
       "      <td>2</td>\n",
       "      <td>52</td>\n",
       "      <td>NaN</td>\n",
       "      <td>NaN</td>\n",
       "      <td>NaN</td>\n",
       "      <td>NaN</td>\n",
       "      <td>NaN</td>\n",
       "      <td>...</td>\n",
       "      <td>True</td>\n",
       "      <td>Bastenbas</td>\n",
       "      <td>Luc dc Luc</td>\n",
       "      <td>3709118</td>\n",
       "      <td>rev_timestamp  rev_page  mentor_reply\n",
       "...</td>\n",
       "      <td>True</td>\n",
       "      <td>False</td>\n",
       "      <td>0.119444</td>\n",
       "      <td>0</td>\n",
       "      <td>True</td>\n",
       "    </tr>\n",
       "    <tr>\n",
       "      <th>1389</th>\n",
       "      <td>c8d81685-731e-5f10-9400-124793b5a169</td>\n",
       "      <td>fr</td>\n",
       "      <td>2020-02-02 12:54:45</td>\n",
       "      <td>1</td>\n",
       "      <td>233</td>\n",
       "      <td>NaN</td>\n",
       "      <td>NaN</td>\n",
       "      <td>NaN</td>\n",
       "      <td>NaN</td>\n",
       "      <td>NaN</td>\n",
       "      <td>...</td>\n",
       "      <td>True</td>\n",
       "      <td>Braaark</td>\n",
       "      <td>CathyDocLPPR</td>\n",
       "      <td>3710953</td>\n",
       "      <td>rev_timestamp  rev_page  mentor_reply...</td>\n",
       "      <td>True</td>\n",
       "      <td>True</td>\n",
       "      <td>7.502778</td>\n",
       "      <td>7</td>\n",
       "      <td>True</td>\n",
       "    </tr>\n",
       "    <tr>\n",
       "      <th>1458</th>\n",
       "      <td>86edade5-136f-5fdf-ac07-261fa0621020</td>\n",
       "      <td>fr</td>\n",
       "      <td>2020-02-02 15:02:22</td>\n",
       "      <td>1</td>\n",
       "      <td>244</td>\n",
       "      <td>NaN</td>\n",
       "      <td>NaN</td>\n",
       "      <td>NaN</td>\n",
       "      <td>NaN</td>\n",
       "      <td>NaN</td>\n",
       "      <td>...</td>\n",
       "      <td>True</td>\n",
       "      <td>Bastenbas</td>\n",
       "      <td>DUPOIZAT</td>\n",
       "      <td>3711066</td>\n",
       "      <td>rev_timestamp  rev_page  mentor_reply\n",
       "...</td>\n",
       "      <td>True</td>\n",
       "      <td>False</td>\n",
       "      <td>0.119444</td>\n",
       "      <td>0</td>\n",
       "      <td>True</td>\n",
       "    </tr>\n",
       "    <tr>\n",
       "      <th>1823</th>\n",
       "      <td>d27d179b-f96d-542d-b16a-7f81b63e1094</td>\n",
       "      <td>fr</td>\n",
       "      <td>2020-02-03 08:58:55</td>\n",
       "      <td>1</td>\n",
       "      <td>305</td>\n",
       "      <td>NaN</td>\n",
       "      <td>NaN</td>\n",
       "      <td>NaN</td>\n",
       "      <td>NaN</td>\n",
       "      <td>NaN</td>\n",
       "      <td>...</td>\n",
       "      <td>True</td>\n",
       "      <td>Panam2014</td>\n",
       "      <td>Revuedroitetlittérature</td>\n",
       "      <td>3711750</td>\n",
       "      <td>rev_timestamp  rev_page  mentor_reply...</td>\n",
       "      <td>True</td>\n",
       "      <td>True</td>\n",
       "      <td>2.377500</td>\n",
       "      <td>2</td>\n",
       "      <td>True</td>\n",
       "    </tr>\n",
       "    <tr>\n",
       "      <th>2154</th>\n",
       "      <td>37f08ce4-6dae-567e-b59f-8467e7cf32bd</td>\n",
       "      <td>fr</td>\n",
       "      <td>2020-02-03 16:30:20</td>\n",
       "      <td>2</td>\n",
       "      <td>360</td>\n",
       "      <td>NaN</td>\n",
       "      <td>NaN</td>\n",
       "      <td>NaN</td>\n",
       "      <td>NaN</td>\n",
       "      <td>NaN</td>\n",
       "      <td>...</td>\n",
       "      <td>True</td>\n",
       "      <td>Floflo</td>\n",
       "      <td>ClaireMarieV</td>\n",
       "      <td>3712228</td>\n",
       "      <td>rev_timestamp  rev_page  mentor_reply...</td>\n",
       "      <td>True</td>\n",
       "      <td>False</td>\n",
       "      <td>1.505000</td>\n",
       "      <td>1</td>\n",
       "      <td>True</td>\n",
       "    </tr>\n",
       "    <tr>\n",
       "      <th>...</th>\n",
       "      <td>...</td>\n",
       "      <td>...</td>\n",
       "      <td>...</td>\n",
       "      <td>...</td>\n",
       "      <td>...</td>\n",
       "      <td>...</td>\n",
       "      <td>...</td>\n",
       "      <td>...</td>\n",
       "      <td>...</td>\n",
       "      <td>...</td>\n",
       "      <td>...</td>\n",
       "      <td>...</td>\n",
       "      <td>...</td>\n",
       "      <td>...</td>\n",
       "      <td>...</td>\n",
       "      <td>...</td>\n",
       "      <td>...</td>\n",
       "      <td>...</td>\n",
       "      <td>...</td>\n",
       "      <td>...</td>\n",
       "      <td>...</td>\n",
       "    </tr>\n",
       "    <tr>\n",
       "      <th>56270</th>\n",
       "      <td>4af09b77-0182-5b7f-b3cb-26a21f8a2500</td>\n",
       "      <td>fr</td>\n",
       "      <td>2020-05-10 11:29:10</td>\n",
       "      <td>2</td>\n",
       "      <td>9379</td>\n",
       "      <td>NaN</td>\n",
       "      <td>NaN</td>\n",
       "      <td>NaN</td>\n",
       "      <td>NaN</td>\n",
       "      <td>NaN</td>\n",
       "      <td>...</td>\n",
       "      <td>True</td>\n",
       "      <td>Culex</td>\n",
       "      <td>Vik-corto</td>\n",
       "      <td>3811599</td>\n",
       "      <td>rev_timestamp  rev_page  mentor_reply...</td>\n",
       "      <td>True</td>\n",
       "      <td>True</td>\n",
       "      <td>3.339444</td>\n",
       "      <td>3</td>\n",
       "      <td>True</td>\n",
       "    </tr>\n",
       "    <tr>\n",
       "      <th>56433</th>\n",
       "      <td>0bde495e-457e-5966-a1b0-64b10759a676</td>\n",
       "      <td>fr</td>\n",
       "      <td>2020-05-10 16:12:51</td>\n",
       "      <td>2</td>\n",
       "      <td>9407</td>\n",
       "      <td>NaN</td>\n",
       "      <td>NaN</td>\n",
       "      <td>NaN</td>\n",
       "      <td>NaN</td>\n",
       "      <td>NaN</td>\n",
       "      <td>...</td>\n",
       "      <td>True</td>\n",
       "      <td>Erdrokan</td>\n",
       "      <td>Cocodet</td>\n",
       "      <td>3811891</td>\n",
       "      <td>rev_timestamp  rev_page  mentor_reply...</td>\n",
       "      <td>True</td>\n",
       "      <td>False</td>\n",
       "      <td>3.137222</td>\n",
       "      <td>3</td>\n",
       "      <td>True</td>\n",
       "    </tr>\n",
       "    <tr>\n",
       "      <th>56503</th>\n",
       "      <td>34c84b19-66b8-5d9c-9141-e164699b7aa4</td>\n",
       "      <td>fr</td>\n",
       "      <td>2020-05-10 18:05:14</td>\n",
       "      <td>1</td>\n",
       "      <td>9418</td>\n",
       "      <td>NaN</td>\n",
       "      <td>NaN</td>\n",
       "      <td>NaN</td>\n",
       "      <td>NaN</td>\n",
       "      <td>NaN</td>\n",
       "      <td>...</td>\n",
       "      <td>True</td>\n",
       "      <td>Bastenbas</td>\n",
       "      <td>Tristan-vic</td>\n",
       "      <td>3812001</td>\n",
       "      <td>rev_timestamp  rev_page  mentor_reply\n",
       "...</td>\n",
       "      <td>False</td>\n",
       "      <td>True</td>\n",
       "      <td>0.758056</td>\n",
       "      <td>0</td>\n",
       "      <td>True</td>\n",
       "    </tr>\n",
       "    <tr>\n",
       "      <th>56726</th>\n",
       "      <td>cb75c241-ddff-5bc9-8f06-cbb3e91d12ca</td>\n",
       "      <td>fr</td>\n",
       "      <td>2020-05-11 06:56:14</td>\n",
       "      <td>1</td>\n",
       "      <td>9455</td>\n",
       "      <td>NaN</td>\n",
       "      <td>NaN</td>\n",
       "      <td>NaN</td>\n",
       "      <td>NaN</td>\n",
       "      <td>NaN</td>\n",
       "      <td>...</td>\n",
       "      <td>True</td>\n",
       "      <td>AvatarFR</td>\n",
       "      <td>Soisita</td>\n",
       "      <td>3812436</td>\n",
       "      <td>rev_timestamp  rev_page  mentor_reply...</td>\n",
       "      <td>True</td>\n",
       "      <td>False</td>\n",
       "      <td>4.343611</td>\n",
       "      <td>4</td>\n",
       "      <td>True</td>\n",
       "    </tr>\n",
       "    <tr>\n",
       "      <th>56907</th>\n",
       "      <td>1ee1add1-53d2-5ae0-8d38-197b39b97962</td>\n",
       "      <td>fr</td>\n",
       "      <td>2020-05-11 12:08:19</td>\n",
       "      <td>2</td>\n",
       "      <td>9486</td>\n",
       "      <td>1.0</td>\n",
       "      <td>1.0</td>\n",
       "      <td>1.0</td>\n",
       "      <td>5.0</td>\n",
       "      <td>5.0</td>\n",
       "      <td>...</td>\n",
       "      <td>True</td>\n",
       "      <td>Braaark</td>\n",
       "      <td>Charles de Nadaillac</td>\n",
       "      <td>3812743</td>\n",
       "      <td>rev_timestamp  rev_page  mentor_reply...</td>\n",
       "      <td>True</td>\n",
       "      <td>True</td>\n",
       "      <td>2.157222</td>\n",
       "      <td>2</td>\n",
       "      <td>True</td>\n",
       "    </tr>\n",
       "  </tbody>\n",
       "</table>\n",
       "<p>181 rows × 33 columns</p>\n",
       "</div>"
      ],
      "text/plain": [
       "                       private_anonymous_id lang   user_registration  \\\n",
       "303    5f90f24a-0b1d-57c7-be86-de610b4a6c60   fr 2020-01-31 11:56:21   \n",
       "1389   c8d81685-731e-5f10-9400-124793b5a169   fr 2020-02-02 12:54:45   \n",
       "1458   86edade5-136f-5fdf-ac07-261fa0621020   fr 2020-02-02 15:02:22   \n",
       "1823   d27d179b-f96d-542d-b16a-7f81b63e1094   fr 2020-02-03 08:58:55   \n",
       "2154   37f08ce4-6dae-567e-b59f-8467e7cf32bd   fr 2020-02-03 16:30:20   \n",
       "...                                     ...  ...                 ...   \n",
       "56270  4af09b77-0182-5b7f-b3cb-26a21f8a2500   fr 2020-05-10 11:29:10   \n",
       "56433  0bde495e-457e-5966-a1b0-64b10759a676   fr 2020-05-10 16:12:51   \n",
       "56503  34c84b19-66b8-5d9c-9141-e164699b7aa4   fr 2020-05-10 18:05:14   \n",
       "56726  cb75c241-ddff-5bc9-8f06-cbb3e91d12ca   fr 2020-05-11 06:56:14   \n",
       "56907  1ee1add1-53d2-5ae0-8d38-197b39b97962   fr 2020-05-11 12:08:19   \n",
       "\n",
       "       randomization_arm  randomization_block_id  complier  survey.consent  \\\n",
       "303                    2                      52       NaN             NaN   \n",
       "1389                   1                     233       NaN             NaN   \n",
       "1458                   1                     244       NaN             NaN   \n",
       "1823                   1                     305       NaN             NaN   \n",
       "2154                   2                     360       NaN             NaN   \n",
       "...                  ...                     ...       ...             ...   \n",
       "56270                  2                    9379       NaN             NaN   \n",
       "56433                  2                    9407       NaN             NaN   \n",
       "56503                  1                    9418       NaN             NaN   \n",
       "56726                  1                    9455       NaN             NaN   \n",
       "56907                  2                    9486       1.0             1.0   \n",
       "\n",
       "       manipulation.check  efficacy  help  ...  survey_invitation  \\\n",
       "303                   NaN       NaN   NaN  ...               True   \n",
       "1389                  NaN       NaN   NaN  ...               True   \n",
       "1458                  NaN       NaN   NaN  ...               True   \n",
       "1823                  NaN       NaN   NaN  ...               True   \n",
       "2154                  NaN       NaN   NaN  ...               True   \n",
       "...                   ...       ...   ...  ...                ...   \n",
       "56270                 NaN       NaN   NaN  ...               True   \n",
       "56433                 NaN       NaN   NaN  ...               True   \n",
       "56503                 NaN       NaN   NaN  ...               True   \n",
       "56726                 NaN       NaN   NaN  ...               True   \n",
       "56907                 1.0       5.0   5.0  ...               True   \n",
       "\n",
       "       mentor_user_name                user_name  user_id  \\\n",
       "303           Bastenbas               Luc dc Luc  3709118   \n",
       "1389            Braaark             CathyDocLPPR  3710953   \n",
       "1458          Bastenbas                 DUPOIZAT  3711066   \n",
       "1823          Panam2014  Revuedroitetlittérature  3711750   \n",
       "2154             Floflo             ClaireMarieV  3712228   \n",
       "...                 ...                      ...      ...   \n",
       "56270             Culex                Vik-corto  3811599   \n",
       "56433          Erdrokan                  Cocodet  3811891   \n",
       "56503         Bastenbas              Tristan-vic  3812001   \n",
       "56726          AvatarFR                  Soisita  3812436   \n",
       "56907           Braaark     Charles de Nadaillac  3812743   \n",
       "\n",
       "                                       labor_hours_ts_df  \\\n",
       "303            rev_timestamp  rev_page  mentor_reply\n",
       "...   \n",
       "1389            rev_timestamp  rev_page  mentor_reply...   \n",
       "1458           rev_timestamp  rev_page  mentor_reply\n",
       "...   \n",
       "1823            rev_timestamp  rev_page  mentor_reply...   \n",
       "2154            rev_timestamp  rev_page  mentor_reply...   \n",
       "...                                                  ...   \n",
       "56270           rev_timestamp  rev_page  mentor_reply...   \n",
       "56433           rev_timestamp  rev_page  mentor_reply...   \n",
       "56503          rev_timestamp  rev_page  mentor_reply\n",
       "...   \n",
       "56726           rev_timestamp  rev_page  mentor_reply...   \n",
       "56907           rev_timestamp  rev_page  mentor_reply...   \n",
       "\n",
       "       seven_day_activation  four_week_retention labor_hours_nontruncated  \\\n",
       "303                    True                False                 0.119444   \n",
       "1389                   True                 True                 7.502778   \n",
       "1458                   True                False                 0.119444   \n",
       "1823                   True                 True                 2.377500   \n",
       "2154                   True                False                 1.505000   \n",
       "...                     ...                  ...                      ...   \n",
       "56270                  True                 True                 3.339444   \n",
       "56433                  True                False                 3.137222   \n",
       "56503                 False                 True                 0.758056   \n",
       "56726                  True                False                 4.343611   \n",
       "56907                  True                 True                 2.157222   \n",
       "\n",
       "       labor_hours  mentor_respond  \n",
       "303              0            True  \n",
       "1389             7            True  \n",
       "1458             0            True  \n",
       "1823             2            True  \n",
       "2154             1            True  \n",
       "...            ...             ...  \n",
       "56270            3            True  \n",
       "56433            3            True  \n",
       "56503            0            True  \n",
       "56726            4            True  \n",
       "56907            2            True  \n",
       "\n",
       "[181 rows x 33 columns]"
      ]
     },
     "execution_count": 30,
     "metadata": {},
     "output_type": "execute_result"
    }
   ],
   "source": [
    "df[df['mentor_respond']==True]"
   ]
  },
  {
   "cell_type": "markdown",
   "metadata": {},
   "source": [
    "## brouillon"
   ]
  },
  {
   "cell_type": "code",
   "execution_count": 31,
   "metadata": {},
   "outputs": [],
   "source": [
    "# ## this is a little copypasta of the mentor, so we should abstract these, they only differ in the page title\n",
    "# wmf_con.execute(f'use frwiki_p;')\n",
    "\n",
    "# @make_cached_df('frwiki-welcome-broullion')\n",
    "# def get_broullion_df(lang, user_name):\n",
    "\n",
    "#     page_id_sql = \"\"\"select page_id, page_title, page_namespace\n",
    "#     from page where page_title=:broullion_title\"\"\"\n",
    "\n",
    "#     page_id_sql_esc = sqlalchemy.text(page_id_sql)\n",
    "#     broullion_title = f'{user_name}/Brouillon'\n",
    "#     params = {\"broullion_title\": broullion_title,\n",
    "#               \"lang\": lang}\n",
    "#     page_id_df = pd.read_sql(page_id_sql_esc, con=wmf_con, params=params)\n",
    "#     page_id_df['page_title'] = page_id_df['page_title'].apply(decode_or_nan)\n",
    "#     return page_id_df\n",
    "\n",
    "# def broullion_exists(user_name):\n",
    "#     broullion_df = get_broullion_df('fr', user_name)\n",
    "#     return len(broullion_df) > 0"
   ]
  },
  {
   "cell_type": "code",
   "execution_count": 32,
   "metadata": {},
   "outputs": [],
   "source": [
    "# df_sm = df[:900]"
   ]
  },
  {
   "cell_type": "code",
   "execution_count": 33,
   "metadata": {},
   "outputs": [],
   "source": [
    "# df_sm['sandbox'] = df_sm['user_name'].apply(broullion_exists)"
   ]
  },
  {
   "cell_type": "code",
   "execution_count": 34,
   "metadata": {},
   "outputs": [],
   "source": [
    "# df_sm['sandbox'].sum()"
   ]
  },
  {
   "cell_type": "code",
   "execution_count": 35,
   "metadata": {},
   "outputs": [],
   "source": [
    "# df_sm[['sandbox','sandbox_quarry']].sum()"
   ]
  },
  {
   "cell_type": "markdown",
   "metadata": {},
   "source": [
    "## brouillon deux\n"
   ]
  },
  {
   "cell_type": "code",
   "execution_count": 36,
   "metadata": {},
   "outputs": [],
   "source": [
    "# exected on qarri on 2020-08-21\n",
    "# use frwiki_p;\n",
    "\n",
    "    \n",
    "# select page_id, page_title, page_namespace\n",
    "#     from page where page_title like '%/Brouillon'\n",
    "#     and page_namespace=2;\n",
    "\n",
    "q_broui = pd.read_csv(os.path.join(no_pii_f_stem, 'from_quary_brouillons_20200821.csv'))"
   ]
  },
  {
   "cell_type": "code",
   "execution_count": 37,
   "metadata": {},
   "outputs": [],
   "source": [
    "q_broui['sandbox'] = True"
   ]
  },
  {
   "cell_type": "code",
   "execution_count": 38,
   "metadata": {},
   "outputs": [],
   "source": [
    "df['user_name_brouillon'] = df['user_name'].apply(lambda user_name: f'{user_name}/Brouillon')"
   ]
  },
  {
   "cell_type": "code",
   "execution_count": 39,
   "metadata": {},
   "outputs": [],
   "source": [
    "df = df.merge(q_broui[['page_title','sandbox']], how='left', left_on='user_name_brouillon', right_on='page_title')"
   ]
  },
  {
   "cell_type": "code",
   "execution_count": null,
   "metadata": {},
   "outputs": [],
   "source": []
  },
  {
   "cell_type": "code",
   "execution_count": 40,
   "metadata": {},
   "outputs": [],
   "source": [
    "df['sandbox'] = df['sandbox'].fillna(False)"
   ]
  },
  {
   "cell_type": "code",
   "execution_count": 41,
   "metadata": {},
   "outputs": [
    {
     "data": {
      "text/plain": [
       "1954"
      ]
     },
     "execution_count": 41,
     "metadata": {},
     "output_type": "execute_result"
    }
   ],
   "source": [
    "df['sandbox'].sum()"
   ]
  },
  {
   "cell_type": "markdown",
   "metadata": {},
   "source": [
    "## forum des nouveaux"
   ]
  },
  {
   "cell_type": "code",
   "execution_count": 42,
   "metadata": {},
   "outputs": [],
   "source": [
    "fdn = pd.read_csv(os.path.join(no_pii_f_stem, 'fr_user_ids_posting_forum_des_nouveaux_20200801.csv'), index_col=0)"
   ]
  },
  {
   "cell_type": "code",
   "execution_count": 43,
   "metadata": {},
   "outputs": [],
   "source": [
    "fdn['forum_des_nouveaux'] = True"
   ]
  },
  {
   "cell_type": "code",
   "execution_count": 44,
   "metadata": {},
   "outputs": [
    {
     "data": {
      "text/plain": [
       "(1, 6650, 6650)"
      ]
     },
     "execution_count": 44,
     "metadata": {},
     "output_type": "execute_result"
    }
   ],
   "source": [
    "fdn.groupby('user_id').size().max(), fdn.groupby('user_id').size().count() , len(fdn)"
   ]
  },
  {
   "cell_type": "code",
   "execution_count": 45,
   "metadata": {},
   "outputs": [],
   "source": [
    "df = df.merge(fdn[['user_id','forum_des_nouveaux']], how='left', left_on='user_id', right_on='user_id')"
   ]
  },
  {
   "cell_type": "code",
   "execution_count": 46,
   "metadata": {},
   "outputs": [],
   "source": [
    "df['forum_des_nouveaux'] = df['forum_des_nouveaux'].fillna(False)"
   ]
  },
  {
   "cell_type": "code",
   "execution_count": 47,
   "metadata": {},
   "outputs": [
    {
     "data": {
      "text/plain": [
       "298"
      ]
     },
     "execution_count": 47,
     "metadata": {},
     "output_type": "execute_result"
    }
   ],
   "source": [
    "df['forum_des_nouveaux'].sum()"
   ]
  },
  {
   "cell_type": "code",
   "execution_count": 48,
   "metadata": {},
   "outputs": [],
   "source": [
    "df['social_response'] = df.apply(lambda row: row['mentor_respond'] or row['forum_des_nouveaux'], axis=1)"
   ]
  },
  {
   "cell_type": "code",
   "execution_count": 49,
   "metadata": {},
   "outputs": [
    {
     "data": {
      "text/plain": [
       "(458, 181, 298)"
      ]
     },
     "execution_count": 49,
     "metadata": {},
     "output_type": "execute_result"
    }
   ],
   "source": [
    "df['social_response'].sum(), df['mentor_respond'].sum(), df['forum_des_nouveaux'].sum()"
   ]
  },
  {
   "cell_type": "markdown",
   "metadata": {},
   "source": [
    "# Output "
   ]
  },
  {
   "cell_type": "code",
   "execution_count": 50,
   "metadata": {},
   "outputs": [
    {
     "data": {
      "text/plain": [
       "Index(['private_anonymous_id', 'lang', 'user_registration',\n",
       "       'randomization_arm', 'randomization_block_id', 'complier',\n",
       "       'survey.consent', 'manipulation.check', 'efficacy', 'help', 'role',\n",
       "       'trust', 'friendliness', 'close.community', 'close.individuals.1',\n",
       "       'close.individuals.2', 'close.individuals.3',\n",
       "       'control_accidentally_treated', 'failed_to_treat',\n",
       "       'failed_to_treat_already_created', 'failed_to_treat_blocked',\n",
       "       'block_failed_to_treat', 'block_control_accidentally_treated',\n",
       "       'survey_invitation', 'mentor_user_name', 'user_name', 'user_id',\n",
       "       'labor_hours_ts_df', 'seven_day_activation', 'four_week_retention',\n",
       "       'labor_hours_nontruncated', 'labor_hours', 'mentor_respond',\n",
       "       'user_name_brouillon', 'page_title', 'sandbox', 'forum_des_nouveaux',\n",
       "       'social_response'],\n",
       "      dtype='object')"
      ]
     },
     "execution_count": 50,
     "metadata": {},
     "output_type": "execute_result"
    }
   ],
   "source": [
    "df.columns"
   ]
  },
  {
   "cell_type": "code",
   "execution_count": 51,
   "metadata": {},
   "outputs": [],
   "source": [
    "OUTPUT_COLS = [\n",
    "'private_anonymous_id',\n",
    "'seven_day_activation', \n",
    "'labor_hours', \n",
    "'efficacy',\n",
    "'friendliness', \n",
    "'four_week_retention',\n",
    "'labor_hours_nontruncated', \n",
    "'mentor_respond',\n",
    "'forum_des_nouveaux',\n",
    "'social_response',\n",
    "'sandbox',\n",
    "'help', \n",
    "'role',\n",
    "'trust', \n",
    "'close.community', \n",
    "'close.individuals.1',\n",
    "'close.individuals.2',\n",
    "'close.individuals.3',\n",
    "'randomization_arm', \n",
    "'randomization_block_id',\n",
    "'control_accidentally_treated', \n",
    "'failed_to_treat',\n",
    "'failed_to_treat_already_created',\n",
    "'failed_to_treat_blocked',\n",
    "'block_failed_to_treat', \n",
    "'block_control_accidentally_treated',\n",
    "'survey_invitation',   \n",
    "'complier',\n",
    "'survey.consent',\n",
    "'manipulation.check', \n",
    "'lang', \n",
    "'user_registration',\n",
    "]"
   ]
  },
  {
   "cell_type": "code",
   "execution_count": 52,
   "metadata": {},
   "outputs": [],
   "source": [
    "df_out = df[OUTPUT_COLS]\n",
    "r_col_names = [cname.replace('_','.') for cname in df_out.columns]\n",
    "df_out.columns = r_col_names"
   ]
  },
  {
   "cell_type": "code",
   "execution_count": 53,
   "metadata": {},
   "outputs": [
    {
     "data": {
      "text/plain": [
       "Index(['private.anonymous.id', 'seven.day.activation', 'labor.hours',\n",
       "       'efficacy', 'friendliness', 'four.week.retention',\n",
       "       'labor.hours.nontruncated', 'mentor.respond', 'forum.des.nouveaux',\n",
       "       'social.response', 'sandbox', 'help', 'role', 'trust',\n",
       "       'close.community', 'close.individuals.1', 'close.individuals.2',\n",
       "       'close.individuals.3', 'randomization.arm', 'randomization.block.id',\n",
       "       'control.accidentally.treated', 'failed.to.treat',\n",
       "       'failed.to.treat.already.created', 'failed.to.treat.blocked',\n",
       "       'block.failed.to.treat', 'block.control.accidentally.treated',\n",
       "       'survey.invitation', 'complier', 'survey.consent', 'manipulation.check',\n",
       "       'lang', 'user.registration'],\n",
       "      dtype='object')"
      ]
     },
     "execution_count": 53,
     "metadata": {},
     "output_type": "execute_result"
    }
   ],
   "source": [
    "df_out.columns"
   ]
  },
  {
   "cell_type": "code",
   "execution_count": 54,
   "metadata": {},
   "outputs": [],
   "source": [
    "# col_rename = {'num.skips':'number.skips.received',\n",
    "#              'num.thanks':'number.thanks.received'}\n",
    "# df = df.rename(columns=col_rename)"
   ]
  },
  {
   "cell_type": "code",
   "execution_count": 55,
   "metadata": {},
   "outputs": [],
   "source": [
    "# output_col_present = [oc in df_out.columns for oc in r_col_names]\n",
    "# all(output_col_present)"
   ]
  },
  {
   "cell_type": "code",
   "execution_count": 56,
   "metadata": {},
   "outputs": [],
   "source": [
    "# list(zip(OUTPUT_COLS, output_col_present))"
   ]
  },
  {
   "cell_type": "code",
   "execution_count": 57,
   "metadata": {},
   "outputs": [],
   "source": [
    "out_fname = 'frwiki-welcome-post-treatment-vars.csv'\n",
    "df_out[r_col_names].to_csv(os.path.join(no_pii_f_stem, out_fname), index=False)"
   ]
  },
  {
   "cell_type": "code",
   "execution_count": 58,
   "metadata": {},
   "outputs": [],
   "source": [
    "df_valid = df_out[df_out['block.control.accidentally.treated']==False]"
   ]
  },
  {
   "cell_type": "code",
   "execution_count": 59,
   "metadata": {},
   "outputs": [
    {
     "data": {
      "text/html": [
       "<div>\n",
       "<style scoped>\n",
       "    .dataframe tbody tr th:only-of-type {\n",
       "        vertical-align: middle;\n",
       "    }\n",
       "\n",
       "    .dataframe tbody tr th {\n",
       "        vertical-align: top;\n",
       "    }\n",
       "\n",
       "    .dataframe thead th {\n",
       "        text-align: right;\n",
       "    }\n",
       "</style>\n",
       "<table border=\"1\" class=\"dataframe\">\n",
       "  <thead>\n",
       "    <tr style=\"text-align: right;\">\n",
       "      <th></th>\n",
       "      <th>seven.day.activation</th>\n",
       "      <th>labor.hours</th>\n",
       "      <th>efficacy</th>\n",
       "      <th>friendliness</th>\n",
       "      <th>four.week.retention</th>\n",
       "      <th>labor.hours.nontruncated</th>\n",
       "      <th>mentor.respond</th>\n",
       "      <th>forum.des.nouveaux</th>\n",
       "      <th>social.response</th>\n",
       "      <th>sandbox</th>\n",
       "      <th>...</th>\n",
       "      <th>randomization.block.id</th>\n",
       "      <th>failed.to.treat</th>\n",
       "      <th>failed.to.treat.already.created</th>\n",
       "      <th>failed.to.treat.blocked</th>\n",
       "      <th>block.failed.to.treat</th>\n",
       "      <th>block.control.accidentally.treated</th>\n",
       "      <th>survey.invitation</th>\n",
       "      <th>complier</th>\n",
       "      <th>survey.consent</th>\n",
       "      <th>manipulation.check</th>\n",
       "    </tr>\n",
       "    <tr>\n",
       "      <th>randomization.arm</th>\n",
       "      <th></th>\n",
       "      <th></th>\n",
       "      <th></th>\n",
       "      <th></th>\n",
       "      <th></th>\n",
       "      <th></th>\n",
       "      <th></th>\n",
       "      <th></th>\n",
       "      <th></th>\n",
       "      <th></th>\n",
       "      <th></th>\n",
       "      <th></th>\n",
       "      <th></th>\n",
       "      <th></th>\n",
       "      <th></th>\n",
       "      <th></th>\n",
       "      <th></th>\n",
       "      <th></th>\n",
       "      <th></th>\n",
       "      <th></th>\n",
       "      <th></th>\n",
       "    </tr>\n",
       "  </thead>\n",
       "  <tbody>\n",
       "    <tr>\n",
       "      <th>0</th>\n",
       "      <td>0.363698</td>\n",
       "      <td>0.276534</td>\n",
       "      <td>3.798107</td>\n",
       "      <td>3.526814</td>\n",
       "      <td>0.044003</td>\n",
       "      <td>0.375399</td>\n",
       "      <td>0.000000</td>\n",
       "      <td>0.004602</td>\n",
       "      <td>0.004602</td>\n",
       "      <td>0.034069</td>\n",
       "      <td>...</td>\n",
       "      <td>4566.709996</td>\n",
       "      <td>0.000000</td>\n",
       "      <td>0.000000</td>\n",
       "      <td>0.000000</td>\n",
       "      <td>0.038054</td>\n",
       "      <td>0.0</td>\n",
       "      <td>0.956558</td>\n",
       "      <td>0.709751</td>\n",
       "      <td>1.0</td>\n",
       "      <td>0.194888</td>\n",
       "    </tr>\n",
       "    <tr>\n",
       "      <th>1</th>\n",
       "      <td>0.370952</td>\n",
       "      <td>0.263483</td>\n",
       "      <td>3.890688</td>\n",
       "      <td>3.627530</td>\n",
       "      <td>0.043717</td>\n",
       "      <td>0.364044</td>\n",
       "      <td>0.003816</td>\n",
       "      <td>0.004714</td>\n",
       "      <td>0.008137</td>\n",
       "      <td>0.032942</td>\n",
       "      <td>...</td>\n",
       "      <td>4566.197542</td>\n",
       "      <td>0.010494</td>\n",
       "      <td>0.010326</td>\n",
       "      <td>0.000168</td>\n",
       "      <td>0.038049</td>\n",
       "      <td>0.0</td>\n",
       "      <td>0.950895</td>\n",
       "      <td>0.681564</td>\n",
       "      <td>1.0</td>\n",
       "      <td>0.340164</td>\n",
       "    </tr>\n",
       "    <tr>\n",
       "      <th>2</th>\n",
       "      <td>0.370973</td>\n",
       "      <td>0.231227</td>\n",
       "      <td>3.856574</td>\n",
       "      <td>3.557769</td>\n",
       "      <td>0.045067</td>\n",
       "      <td>0.331713</td>\n",
       "      <td>0.005276</td>\n",
       "      <td>0.005893</td>\n",
       "      <td>0.010495</td>\n",
       "      <td>0.034684</td>\n",
       "      <td>...</td>\n",
       "      <td>4566.453755</td>\n",
       "      <td>0.010327</td>\n",
       "      <td>0.010271</td>\n",
       "      <td>0.000056</td>\n",
       "      <td>0.038051</td>\n",
       "      <td>0.0</td>\n",
       "      <td>0.953811</td>\n",
       "      <td>0.693370</td>\n",
       "      <td>1.0</td>\n",
       "      <td>0.278884</td>\n",
       "    </tr>\n",
       "  </tbody>\n",
       "</table>\n",
       "<p>3 rows × 27 columns</p>\n",
       "</div>"
      ],
      "text/plain": [
       "                   seven.day.activation  labor.hours  efficacy  friendliness  \\\n",
       "randomization.arm                                                              \n",
       "0                              0.363698     0.276534  3.798107      3.526814   \n",
       "1                              0.370952     0.263483  3.890688      3.627530   \n",
       "2                              0.370973     0.231227  3.856574      3.557769   \n",
       "\n",
       "                   four.week.retention  labor.hours.nontruncated  \\\n",
       "randomization.arm                                                  \n",
       "0                             0.044003                  0.375399   \n",
       "1                             0.043717                  0.364044   \n",
       "2                             0.045067                  0.331713   \n",
       "\n",
       "                   mentor.respond  forum.des.nouveaux  social.response  \\\n",
       "randomization.arm                                                        \n",
       "0                        0.000000            0.004602         0.004602   \n",
       "1                        0.003816            0.004714         0.008137   \n",
       "2                        0.005276            0.005893         0.010495   \n",
       "\n",
       "                    sandbox  ...  randomization.block.id  failed.to.treat  \\\n",
       "randomization.arm            ...                                            \n",
       "0                  0.034069  ...             4566.709996         0.000000   \n",
       "1                  0.032942  ...             4566.197542         0.010494   \n",
       "2                  0.034684  ...             4566.453755         0.010327   \n",
       "\n",
       "                   failed.to.treat.already.created  failed.to.treat.blocked  \\\n",
       "randomization.arm                                                             \n",
       "0                                         0.000000                 0.000000   \n",
       "1                                         0.010326                 0.000168   \n",
       "2                                         0.010271                 0.000056   \n",
       "\n",
       "                   block.failed.to.treat  block.control.accidentally.treated  \\\n",
       "randomization.arm                                                              \n",
       "0                               0.038054                                 0.0   \n",
       "1                               0.038049                                 0.0   \n",
       "2                               0.038051                                 0.0   \n",
       "\n",
       "                   survey.invitation  complier  survey.consent  \\\n",
       "randomization.arm                                                \n",
       "0                           0.956558  0.709751             1.0   \n",
       "1                           0.950895  0.681564             1.0   \n",
       "2                           0.953811  0.693370             1.0   \n",
       "\n",
       "                   manipulation.check  \n",
       "randomization.arm                      \n",
       "0                            0.194888  \n",
       "1                            0.340164  \n",
       "2                            0.278884  \n",
       "\n",
       "[3 rows x 27 columns]"
      ]
     },
     "execution_count": 59,
     "metadata": {},
     "output_type": "execute_result"
    }
   ],
   "source": [
    "df_valid.groupby('randomization.arm').mean()"
   ]
  },
  {
   "cell_type": "code",
   "execution_count": 60,
   "metadata": {},
   "outputs": [],
   "source": [
    "# df[df['user.name']==\"Lujonae\"]"
   ]
  },
  {
   "cell_type": "code",
   "execution_count": null,
   "metadata": {},
   "outputs": [],
   "source": []
  },
  {
   "cell_type": "code",
   "execution_count": null,
   "metadata": {},
   "outputs": [],
   "source": []
  }
 ],
 "metadata": {
  "kernelspec": {
   "display_name": "Python 3",
   "language": "python",
   "name": "python3"
  },
  "language_info": {
   "codemirror_mode": {
    "name": "ipython",
    "version": 3
   },
   "file_extension": ".py",
   "mimetype": "text/x-python",
   "name": "python",
   "nbconvert_exporter": "python",
   "pygments_lexer": "ipython3",
   "version": "3.7.3"
  }
 },
 "nbformat": 4,
 "nbformat_minor": 2
}
