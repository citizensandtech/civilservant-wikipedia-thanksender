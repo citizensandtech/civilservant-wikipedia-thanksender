{
 "cells": [
  {
   "cell_type": "code",
   "execution_count": 86,
   "metadata": {},
   "outputs": [],
   "source": [
    "import pandas as pd\n",
    "import os\n",
    "data_path = os.getenv('TRESORDIR', '~/Tresors')\n",
    "tresor_path = 'CivilServant/projects/wikipedia-integration/gratitude-study/Data Drills/thankee/post_experiment_analysis'\n",
    "fname = 'grat-thankee-all-pre-post-treatment-vars.csv'\n",
    "f_path = os.path.join(data_path, tresor_path, fname)\n",
    "df = pd.read_csv(f_path)\n",
    "CACHEDIR='/data/project/cache'\n",
    "acct_map = pd.read_pickle(os.path.join(CACHEDIR, 'thankee-misc', 'acct_map.pickle'))"
   ]
  },
  {
   "cell_type": "code",
   "execution_count": 87,
   "metadata": {},
   "outputs": [],
   "source": [
    "acct_map = acct_map.rename(columns={'private_anonymous_id':'private.anonymous.id'})\n",
    "acct_map['private.anonymous.id'] = acct_map['private.anonymous.id'].apply(lambda s: str(s))"
   ]
  },
  {
   "cell_type": "code",
   "execution_count": 88,
   "metadata": {},
   "outputs": [
    {
     "data": {
      "text/plain": [
       "(dtype('O'), dtype('O'))"
      ]
     },
     "execution_count": 88,
     "metadata": {},
     "output_type": "execute_result"
    }
   ],
   "source": [
    "df['private.anonymous.id'].dtype, acct_map['private.anonymous.id'].dtype"
   ]
  },
  {
   "cell_type": "code",
   "execution_count": 89,
   "metadata": {},
   "outputs": [],
   "source": [
    "df = df.merge(acct_map, how='left', on='private.anonymous.id')"
   ]
  },
  {
   "cell_type": "code",
   "execution_count": 90,
   "metadata": {},
   "outputs": [
    {
     "name": "stdout",
     "output_type": "stream",
     "text": [
      "Num thankees before removing deleted thankees 15558\n",
      "Num thankees after removing deleted thankees 15558\n"
     ]
    }
   ],
   "source": [
    "print(f'Num thankees before removing deleted thankees {len(df)}')\n",
    "df = df[df['prev.experience.assignment'] != 'bin_deleted']\n",
    "print(f'Num thankees after removing deleted thankees {len(df)}')"
   ]
  },
  {
   "cell_type": "code",
   "execution_count": 91,
   "metadata": {},
   "outputs": [],
   "source": [
    "df['prev.experience.assignment.days'] = df['prev.experience.assignment'].apply(lambda b: int(b.replace(\"bin_\",'')))"
   ]
  },
  {
   "cell_type": "code",
   "execution_count": 92,
   "metadata": {},
   "outputs": [],
   "source": [
    "newcomers = df[df['prev.experience.assignment.days']==0]"
   ]
  },
  {
   "cell_type": "code",
   "execution_count": 93,
   "metadata": {},
   "outputs": [],
   "source": [
    "mean_experience_per_block_newcomers = newcomers.groupby(by='randomization.block.id').agg({'prev.experience.assignment.days':pd.np.mean})\n",
    "mean_experience_per_block_all = df.groupby(by='randomization.block.id').agg({'prev.experience.assignment.days':pd.np.mean})"
   ]
  },
  {
   "cell_type": "code",
   "execution_count": 94,
   "metadata": {},
   "outputs": [
    {
     "data": {
      "text/plain": [
       "0       5073\n",
       "2920     651\n",
       "1460     594\n",
       "730      483\n",
       "365      434\n",
       "180      286\n",
       "90       258\n",
       "Name: prev.experience.assignment.days, dtype: int64"
      ]
     },
     "execution_count": 94,
     "metadata": {},
     "output_type": "execute_result"
    }
   ],
   "source": [
    "mean_experience_per_block_all['prev.experience.assignment.days'].value_counts()"
   ]
  },
  {
   "cell_type": "code",
   "execution_count": 95,
   "metadata": {},
   "outputs": [],
   "source": [
    "mixed_newcomer_blocks = mean_experience_per_block_all[mean_experience_per_block_all['prev.experience.assignment.days']==45].index.values"
   ]
  },
  {
   "cell_type": "code",
   "execution_count": 96,
   "metadata": {},
   "outputs": [
    {
     "data": {
      "text/plain": [
       "0"
      ]
     },
     "execution_count": 96,
     "metadata": {},
     "output_type": "execute_result"
    }
   ],
   "source": [
    "len(mixed_newcomer_blocks)"
   ]
  },
  {
   "cell_type": "code",
   "execution_count": 97,
   "metadata": {},
   "outputs": [],
   "source": [
    "mixed_block_users = df[df['randomization.block.id'].apply(lambda rbi: rbi in mixed_newcomer_blocks)]"
   ]
  },
  {
   "cell_type": "code",
   "execution_count": 98,
   "metadata": {},
   "outputs": [],
   "source": [
    "mixed_block_users = mixed_block_users.sort_values('randomization.block.id')"
   ]
  },
  {
   "cell_type": "code",
   "execution_count": 100,
   "metadata": {},
   "outputs": [
    {
     "data": {
      "text/html": [
       "<div>\n",
       "<style scoped>\n",
       "    .dataframe tbody tr th:only-of-type {\n",
       "        vertical-align: middle;\n",
       "    }\n",
       "\n",
       "    .dataframe tbody tr th {\n",
       "        vertical-align: top;\n",
       "    }\n",
       "\n",
       "    .dataframe thead th {\n",
       "        text-align: right;\n",
       "    }\n",
       "</style>\n",
       "<table border=\"1\" class=\"dataframe\">\n",
       "  <thead>\n",
       "    <tr style=\"text-align: right;\">\n",
       "      <th></th>\n",
       "      <th>private.anonymous.id</th>\n",
       "      <th>randomization.block.id</th>\n",
       "      <th>labor.hours.per.day.diff</th>\n",
       "      <th>two.week.retention</th>\n",
       "      <th>thanks.sent</th>\n",
       "      <th>wikipedians.value.contributions</th>\n",
       "      <th>community.friendly</th>\n",
       "      <th>complier</th>\n",
       "      <th>lang</th>\n",
       "      <th>prev.experience.assignment</th>\n",
       "      <th>...</th>\n",
       "      <th>number.skips.received</th>\n",
       "      <th>thanks.not.received.skipped</th>\n",
       "      <th>thanks.not.received.not.seen</th>\n",
       "      <th>thanks.not.received.error</th>\n",
       "      <th>thanks.not.received.user.deleted</th>\n",
       "      <th>received.multiple.thanks</th>\n",
       "      <th>complier.app.any.reason</th>\n",
       "      <th>id</th>\n",
       "      <th>public_anonymous_id</th>\n",
       "      <th>prev.experience.assignment.days</th>\n",
       "    </tr>\n",
       "  </thead>\n",
       "  <tbody>\n",
       "  </tbody>\n",
       "</table>\n",
       "<p>0 rows × 32 columns</p>\n",
       "</div>"
      ],
      "text/plain": [
       "Empty DataFrame\n",
       "Columns: [private.anonymous.id, randomization.block.id, labor.hours.per.day.diff, two.week.retention, thanks.sent, wikipedians.value.contributions, community.friendly, complier, lang, prev.experience.assignment, prev.experience.treatment, year, has.email, remembered.thanks, overall.exp, social.value.1, social.value.3, social.value.4, social.warmth.2, social.warmth.3, randomization.arm, number.thanks.received, number.skips.received, thanks.not.received.skipped, thanks.not.received.not.seen, thanks.not.received.error, thanks.not.received.user.deleted, received.multiple.thanks, complier.app.any.reason, id, public_anonymous_id, prev.experience.assignment.days]\n",
       "Index: []\n",
       "\n",
       "[0 rows x 32 columns]"
      ]
     },
     "execution_count": 100,
     "metadata": {},
     "output_type": "execute_result"
    }
   ],
   "source": [
    "mixed_block_users"
   ]
  },
  {
   "cell_type": "code",
   "execution_count": null,
   "metadata": {},
   "outputs": [],
   "source": []
  }
 ],
 "metadata": {
  "kernelspec": {
   "display_name": "Python 3",
   "language": "python",
   "name": "python3"
  },
  "language_info": {
   "codemirror_mode": {
    "name": "ipython",
    "version": 3
   },
   "file_extension": ".py",
   "mimetype": "text/x-python",
   "name": "python",
   "nbconvert_exporter": "python",
   "pygments_lexer": "ipython3",
   "version": "3.7.3"
  }
 },
 "nbformat": 4,
 "nbformat_minor": 2
}
