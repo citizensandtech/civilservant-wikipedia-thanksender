{
 "cells": [
  {
   "cell_type": "code",
   "execution_count": 2,
   "metadata": {},
   "outputs": [],
   "source": [
    "import pandas as pd\n",
    "import os"
   ]
  },
  {
   "cell_type": "code",
   "execution_count": 7,
   "metadata": {},
   "outputs": [],
   "source": [
    "wikidir = '/home/paprika/Tresors/CivilServant/projects/wikipedia-integration/gratitude-study'\n",
    "gratmiscdir = 'datasets/misc/'\n",
    "gdprdir = 'gdpr notices'"
   ]
  },
  {
   "cell_type": "code",
   "execution_count": 8,
   "metadata": {},
   "outputs": [],
   "source": [
    "users_f = os.path.join(wikidir, gdprdir, 'recipients of gdpr oopsy.csv')\n",
    "anon_map_f = os.path.join(wikidir, gratmiscdir, 'thankee_public_anonymous_ids_20200212.csv')"
   ]
  },
  {
   "cell_type": "code",
   "execution_count": 20,
   "metadata": {},
   "outputs": [],
   "source": [
    "users = pd.read_csv(users_f).rename(columns={\"ID\":\"public_anonymous_id\"})\n",
    "anon_map = pd.read_csv(anon_map_f)"
   ]
  },
  {
   "cell_type": "code",
   "execution_count": 21,
   "metadata": {},
   "outputs": [
    {
     "name": "stdout",
     "output_type": "stream",
     "text": [
      "787\n",
      "784\n"
     ]
    }
   ],
   "source": [
    "print(len(users))\n",
    "users=users[pd.notnull(users['public_anonymous_id'])]\n",
    "print(len(users))"
   ]
  },
  {
   "cell_type": "code",
   "execution_count": 24,
   "metadata": {},
   "outputs": [],
   "source": [
    "users = users.merge(anon_map, how='left')"
   ]
  },
  {
   "cell_type": "code",
   "execution_count": 25,
   "metadata": {},
   "outputs": [
    {
     "name": "stdout",
     "output_type": "stream",
     "text": [
      "784\n",
      "777\n"
     ]
    }
   ],
   "source": [
    "print(len(users))\n",
    "users=users[pd.notnull(users['user_name'])]\n",
    "print(len(users))"
   ]
  },
  {
   "cell_type": "code",
   "execution_count": 26,
   "metadata": {
    "scrolled": true
   },
   "outputs": [
    {
     "data": {
      "text/html": [
       "<div>\n",
       "<style scoped>\n",
       "    .dataframe tbody tr th:only-of-type {\n",
       "        vertical-align: middle;\n",
       "    }\n",
       "\n",
       "    .dataframe tbody tr th {\n",
       "        vertical-align: top;\n",
       "    }\n",
       "\n",
       "    .dataframe thead th {\n",
       "        text-align: right;\n",
       "    }\n",
       "</style>\n",
       "<table border=\"1\" class=\"dataframe\">\n",
       "  <thead>\n",
       "    <tr style=\"text-align: right;\">\n",
       "      <th></th>\n",
       "      <th>RecordedDate</th>\n",
       "      <th>UserLanguage</th>\n",
       "      <th>public_anonymous_id</th>\n",
       "      <th>action_subject_id</th>\n",
       "      <th>lang</th>\n",
       "      <th>user_name</th>\n",
       "    </tr>\n",
       "  </thead>\n",
       "  <tbody>\n",
       "    <tr>\n",
       "      <td>1</td>\n",
       "      <td>10/15/2019 2:29</td>\n",
       "      <td>AR</td>\n",
       "      <td>f83bc9b8-a76c-47f7-a87f-77367b0f59fa</td>\n",
       "      <td>gratitude_thankee_survey</td>\n",
       "      <td>ar</td>\n",
       "      <td>عبدالله ابراهيم اليوسف</td>\n",
       "    </tr>\n",
       "    <tr>\n",
       "      <td>2</td>\n",
       "      <td>10/31/2019 18:58</td>\n",
       "      <td>AR</td>\n",
       "      <td>fcf46ec9-a4ce-462e-8493-2f9302c792d9</td>\n",
       "      <td>gratitude_thankee_survey</td>\n",
       "      <td>ar</td>\n",
       "      <td>Salah822</td>\n",
       "    </tr>\n",
       "    <tr>\n",
       "      <td>3</td>\n",
       "      <td>11/1/2019 10:57</td>\n",
       "      <td>AR</td>\n",
       "      <td>1adb6dcc-d4df-4bc8-9632-ad4b507109d8</td>\n",
       "      <td>gratitude_thankee_survey</td>\n",
       "      <td>ar</td>\n",
       "      <td>صلاح بن عبدالعزيز الحسن</td>\n",
       "    </tr>\n",
       "    <tr>\n",
       "      <td>4</td>\n",
       "      <td>11/2/2019 3:32</td>\n",
       "      <td>AR</td>\n",
       "      <td>92f8c3bd-bb22-44a9-b4d4-9de7b1f9698b</td>\n",
       "      <td>gratitude_thankee_survey</td>\n",
       "      <td>ar</td>\n",
       "      <td>Anisgmr</td>\n",
       "    </tr>\n",
       "    <tr>\n",
       "      <td>5</td>\n",
       "      <td>11/2/2019 3:34</td>\n",
       "      <td>AR</td>\n",
       "      <td>92f8c3bd-bb22-44a9-b4d4-9de7b1f9698b</td>\n",
       "      <td>gratitude_thankee_survey</td>\n",
       "      <td>ar</td>\n",
       "      <td>Anisgmr</td>\n",
       "    </tr>\n",
       "  </tbody>\n",
       "</table>\n",
       "</div>"
      ],
      "text/plain": [
       "       RecordedDate UserLanguage                   public_anonymous_id  \\\n",
       "1   10/15/2019 2:29           AR  f83bc9b8-a76c-47f7-a87f-77367b0f59fa   \n",
       "2  10/31/2019 18:58           AR  fcf46ec9-a4ce-462e-8493-2f9302c792d9   \n",
       "3   11/1/2019 10:57           AR  1adb6dcc-d4df-4bc8-9632-ad4b507109d8   \n",
       "4    11/2/2019 3:32           AR  92f8c3bd-bb22-44a9-b4d4-9de7b1f9698b   \n",
       "5    11/2/2019 3:34           AR  92f8c3bd-bb22-44a9-b4d4-9de7b1f9698b   \n",
       "\n",
       "          action_subject_id lang                user_name  \n",
       "1  gratitude_thankee_survey   ar   عبدالله ابراهيم اليوسف  \n",
       "2  gratitude_thankee_survey   ar                 Salah822  \n",
       "3  gratitude_thankee_survey   ar  صلاح بن عبدالعزيز الحسن  \n",
       "4  gratitude_thankee_survey   ar                  Anisgmr  \n",
       "5  gratitude_thankee_survey   ar                  Anisgmr  "
      ]
     },
     "execution_count": 26,
     "metadata": {},
     "output_type": "execute_result"
    }
   ],
   "source": [
    "users.head()"
   ]
  },
  {
   "cell_type": "code",
   "execution_count": 29,
   "metadata": {},
   "outputs": [],
   "source": [
    "export_cols = ['lang','user_name']\n",
    "out_f = 'recipients_of_gdpr_reminder.csv'\n",
    "users[export_cols].to_csv(os.path.join(wikidir, gratmiscdir, out_f))"
   ]
  },
  {
   "cell_type": "code",
   "execution_count": null,
   "metadata": {},
   "outputs": [],
   "source": []
  }
 ],
 "metadata": {
  "kernelspec": {
   "display_name": "Python 3",
   "language": "python",
   "name": "python3"
  },
  "language_info": {
   "codemirror_mode": {
    "name": "ipython",
    "version": 3
   },
   "file_extension": ".py",
   "mimetype": "text/x-python",
   "name": "python",
   "nbconvert_exporter": "python",
   "pygments_lexer": "ipython3",
   "version": "3.7.3"
  }
 },
 "nbformat": 4,
 "nbformat_minor": 2
}
