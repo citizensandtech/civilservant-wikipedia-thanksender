{
 "cells": [
  {
   "cell_type": "code",
   "execution_count": 1,
   "metadata": {},
   "outputs": [
    {
     "name": "stderr",
     "output_type": "stream",
     "text": [
      "── \u001b[1mAttaching packages\u001b[22m ─────────────────────────────────────── tidyverse 1.3.0 ──\n",
      "\n",
      "\u001b[32m✔\u001b[39m \u001b[34mggplot2\u001b[39m 3.2.1     \u001b[32m✔\u001b[39m \u001b[34mpurrr  \u001b[39m 0.3.3\n",
      "\u001b[32m✔\u001b[39m \u001b[34mtibble \u001b[39m 2.1.3     \u001b[32m✔\u001b[39m \u001b[34mdplyr  \u001b[39m 0.8.3\n",
      "\u001b[32m✔\u001b[39m \u001b[34mtidyr  \u001b[39m 1.0.0     \u001b[32m✔\u001b[39m \u001b[34mstringr\u001b[39m 1.4.0\n",
      "\u001b[32m✔\u001b[39m \u001b[34mreadr  \u001b[39m 1.3.1     \u001b[32m✔\u001b[39m \u001b[34mforcats\u001b[39m 0.4.0\n",
      "\n",
      "── \u001b[1mConflicts\u001b[22m ────────────────────────────────────────── tidyverse_conflicts() ──\n",
      "\u001b[31m✖\u001b[39m \u001b[34mdplyr\u001b[39m::\u001b[32mfilter()\u001b[39m masks \u001b[34mstats\u001b[39m::filter()\n",
      "\u001b[31m✖\u001b[39m \u001b[34mdplyr\u001b[39m::\u001b[32mlag()\u001b[39m    masks \u001b[34mstats\u001b[39m::lag()\n",
      "\n",
      "\n",
      "Attaching package: ‘magrittr’\n",
      "\n",
      "\n",
      "The following object is masked from ‘package:purrr’:\n",
      "\n",
      "    set_names\n",
      "\n",
      "\n",
      "The following object is masked from ‘package:tidyr’:\n",
      "\n",
      "    extract\n",
      "\n",
      "\n"
     ]
    }
   ],
   "source": [
    "library(tidyverse)\n",
    "library(magrittr)\n",
    "data.path = Sys.getenv('TRESORDIR', '~/Tresors')\n",
    "tresor.path = 'CivilServant/projects/wikipedia-integration/impact-stats'\n",
    "fname = 'newcomer_pageviews_de_bn_sk.csv'\n",
    "f.path = file.path(data.path, tresor.path, fname)\n",
    "df <- read.csv(f.path)"
   ]
  },
  {
   "cell_type": "code",
   "execution_count": 15,
   "metadata": {},
   "outputs": [
    {
     "data": {
      "text/html": [
       "<style>\n",
       ".list-inline {list-style: none; margin:0; padding: 0}\n",
       ".list-inline>li {display: inline-block}\n",
       ".list-inline>li:not(:last-child)::after {content: \"\\00b7\"; padding: 0 .5ex}\n",
       "</style>\n",
       "<ol class=list-inline><li>'X'</li><li>'index'</li><li>'user.name'</li><li>'user.id'</li><li>'user.registration'</li><li>'create.type'</li><li>'lang'</li><li>'page.views.7'</li><li>'page.views.14'</li><li>'page.views.28'</li><li>'page.views.56'</li><li>'page.views.84'</li><li>'pages.edited.7'</li><li>'pages.edited.14'</li><li>'pages.edited.28'</li><li>'pages.edited.56'</li><li>'pages.edited.84'</li><li>'X2.week.retention.7'</li><li>'X2.week.retention.14'</li><li>'X2.week.retention.28'</li><li>'X2.week.retention.56'</li><li>'X2.week.retention.84'</li><li>'X4.week.retention.7'</li><li>'X4.week.retention.14'</li><li>'X4.week.retention.28'</li><li>'X4.week.retention.56'</li><li>'X4.week.retention.84'</li><li>'X2.week.edits.7'</li><li>'X2.week.edits.14'</li><li>'X2.week.edits.28'</li><li>'X2.week.edits.56'</li><li>'X2.week.edits.84'</li><li>'X4.week.edits.7'</li><li>'X4.week.edits.14'</li><li>'X4.week.edits.28'</li><li>'X4.week.edits.56'</li><li>'X4.week.edits.84'</li><li>'X2.week.labor.7'</li><li>'X2.week.labor.14'</li><li>'X2.week.labor.28'</li><li>'X2.week.labor.56'</li><li>'X2.week.labor.84'</li><li>'X4.week.labor.7'</li><li>'X4.week.labor.14'</li><li>'X4.week.labor.28'</li><li>'X4.week.labor.56'</li><li>'X4.week.labor.84'</li></ol>\n"
      ],
      "text/latex": [
       "\\begin{enumerate*}\n",
       "\\item 'X'\n",
       "\\item 'index'\n",
       "\\item 'user.name'\n",
       "\\item 'user.id'\n",
       "\\item 'user.registration'\n",
       "\\item 'create.type'\n",
       "\\item 'lang'\n",
       "\\item 'page.views.7'\n",
       "\\item 'page.views.14'\n",
       "\\item 'page.views.28'\n",
       "\\item 'page.views.56'\n",
       "\\item 'page.views.84'\n",
       "\\item 'pages.edited.7'\n",
       "\\item 'pages.edited.14'\n",
       "\\item 'pages.edited.28'\n",
       "\\item 'pages.edited.56'\n",
       "\\item 'pages.edited.84'\n",
       "\\item 'X2.week.retention.7'\n",
       "\\item 'X2.week.retention.14'\n",
       "\\item 'X2.week.retention.28'\n",
       "\\item 'X2.week.retention.56'\n",
       "\\item 'X2.week.retention.84'\n",
       "\\item 'X4.week.retention.7'\n",
       "\\item 'X4.week.retention.14'\n",
       "\\item 'X4.week.retention.28'\n",
       "\\item 'X4.week.retention.56'\n",
       "\\item 'X4.week.retention.84'\n",
       "\\item 'X2.week.edits.7'\n",
       "\\item 'X2.week.edits.14'\n",
       "\\item 'X2.week.edits.28'\n",
       "\\item 'X2.week.edits.56'\n",
       "\\item 'X2.week.edits.84'\n",
       "\\item 'X4.week.edits.7'\n",
       "\\item 'X4.week.edits.14'\n",
       "\\item 'X4.week.edits.28'\n",
       "\\item 'X4.week.edits.56'\n",
       "\\item 'X4.week.edits.84'\n",
       "\\item 'X2.week.labor.7'\n",
       "\\item 'X2.week.labor.14'\n",
       "\\item 'X2.week.labor.28'\n",
       "\\item 'X2.week.labor.56'\n",
       "\\item 'X2.week.labor.84'\n",
       "\\item 'X4.week.labor.7'\n",
       "\\item 'X4.week.labor.14'\n",
       "\\item 'X4.week.labor.28'\n",
       "\\item 'X4.week.labor.56'\n",
       "\\item 'X4.week.labor.84'\n",
       "\\end{enumerate*}\n"
      ],
      "text/markdown": [
       "1. 'X'\n",
       "2. 'index'\n",
       "3. 'user.name'\n",
       "4. 'user.id'\n",
       "5. 'user.registration'\n",
       "6. 'create.type'\n",
       "7. 'lang'\n",
       "8. 'page.views.7'\n",
       "9. 'page.views.14'\n",
       "10. 'page.views.28'\n",
       "11. 'page.views.56'\n",
       "12. 'page.views.84'\n",
       "13. 'pages.edited.7'\n",
       "14. 'pages.edited.14'\n",
       "15. 'pages.edited.28'\n",
       "16. 'pages.edited.56'\n",
       "17. 'pages.edited.84'\n",
       "18. 'X2.week.retention.7'\n",
       "19. 'X2.week.retention.14'\n",
       "20. 'X2.week.retention.28'\n",
       "21. 'X2.week.retention.56'\n",
       "22. 'X2.week.retention.84'\n",
       "23. 'X4.week.retention.7'\n",
       "24. 'X4.week.retention.14'\n",
       "25. 'X4.week.retention.28'\n",
       "26. 'X4.week.retention.56'\n",
       "27. 'X4.week.retention.84'\n",
       "28. 'X2.week.edits.7'\n",
       "29. 'X2.week.edits.14'\n",
       "30. 'X2.week.edits.28'\n",
       "31. 'X2.week.edits.56'\n",
       "32. 'X2.week.edits.84'\n",
       "33. 'X4.week.edits.7'\n",
       "34. 'X4.week.edits.14'\n",
       "35. 'X4.week.edits.28'\n",
       "36. 'X4.week.edits.56'\n",
       "37. 'X4.week.edits.84'\n",
       "38. 'X2.week.labor.7'\n",
       "39. 'X2.week.labor.14'\n",
       "40. 'X2.week.labor.28'\n",
       "41. 'X2.week.labor.56'\n",
       "42. 'X2.week.labor.84'\n",
       "43. 'X4.week.labor.7'\n",
       "44. 'X4.week.labor.14'\n",
       "45. 'X4.week.labor.28'\n",
       "46. 'X4.week.labor.56'\n",
       "47. 'X4.week.labor.84'\n",
       "\n",
       "\n"
      ],
      "text/plain": [
       " [1] \"X\"                    \"index\"                \"user.name\"           \n",
       " [4] \"user.id\"              \"user.registration\"    \"create.type\"         \n",
       " [7] \"lang\"                 \"page.views.7\"         \"page.views.14\"       \n",
       "[10] \"page.views.28\"        \"page.views.56\"        \"page.views.84\"       \n",
       "[13] \"pages.edited.7\"       \"pages.edited.14\"      \"pages.edited.28\"     \n",
       "[16] \"pages.edited.56\"      \"pages.edited.84\"      \"X2.week.retention.7\" \n",
       "[19] \"X2.week.retention.14\" \"X2.week.retention.28\" \"X2.week.retention.56\"\n",
       "[22] \"X2.week.retention.84\" \"X4.week.retention.7\"  \"X4.week.retention.14\"\n",
       "[25] \"X4.week.retention.28\" \"X4.week.retention.56\" \"X4.week.retention.84\"\n",
       "[28] \"X2.week.edits.7\"      \"X2.week.edits.14\"     \"X2.week.edits.28\"    \n",
       "[31] \"X2.week.edits.56\"     \"X2.week.edits.84\"     \"X4.week.edits.7\"     \n",
       "[34] \"X4.week.edits.14\"     \"X4.week.edits.28\"     \"X4.week.edits.56\"    \n",
       "[37] \"X4.week.edits.84\"     \"X2.week.labor.7\"      \"X2.week.labor.14\"    \n",
       "[40] \"X2.week.labor.28\"     \"X2.week.labor.56\"     \"X2.week.labor.84\"    \n",
       "[43] \"X4.week.labor.7\"      \"X4.week.labor.14\"     \"X4.week.labor.28\"    \n",
       "[46] \"X4.week.labor.56\"     \"X4.week.labor.84\"    "
      ]
     },
     "metadata": {},
     "output_type": "display_data"
    }
   ],
   "source": [
    "df  %>%  names()"
   ]
  },
  {
   "cell_type": "code",
   "execution_count": 38,
   "metadata": {},
   "outputs": [],
   "source": [
    "df$X2.week.retention.7 %<>% as.logical\n",
    "df$X2.week.retention.14 %<>% as.logical\n",
    "df$X2.week.retention.28 %<>% as.logical\n",
    "df$X2.week.retention.56 %<>% as.logical\n",
    "df$X2.week.retention.84 %<>% as.logical\n",
    "df$X4.week.retention.7 %<>% as.logical\n",
    "df$X4.week.retention.14 %<>% as.logical\n",
    "df$X4.week.retention.28 %<>% as.logical\n",
    "df$X4.week.retention.56 %<>% as.logical\n",
    "df$X4.week.retention.84 %<>% as.logical"
   ]
  },
  {
   "cell_type": "code",
   "execution_count": 39,
   "metadata": {},
   "outputs": [],
   "source": [
    "df <- replace_na(df)"
   ]
  },
  {
   "cell_type": "code",
   "execution_count": 40,
   "metadata": {},
   "outputs": [
    {
     "data": {
      "text/html": [
       "<table>\n",
       "<caption>A data.frame: 5 × 47</caption>\n",
       "<thead>\n",
       "\t<tr><th></th><th scope=col>X</th><th scope=col>index</th><th scope=col>user.name</th><th scope=col>user.id</th><th scope=col>user.registration</th><th scope=col>create.type</th><th scope=col>lang</th><th scope=col>page.views.7</th><th scope=col>page.views.14</th><th scope=col>page.views.28</th><th scope=col>⋯</th><th scope=col>X2.week.labor.7</th><th scope=col>X2.week.labor.14</th><th scope=col>X2.week.labor.28</th><th scope=col>X2.week.labor.56</th><th scope=col>X2.week.labor.84</th><th scope=col>X4.week.labor.7</th><th scope=col>X4.week.labor.14</th><th scope=col>X4.week.labor.28</th><th scope=col>X4.week.labor.56</th><th scope=col>X4.week.labor.84</th></tr>\n",
       "\t<tr><th></th><th scope=col>&lt;int&gt;</th><th scope=col>&lt;int&gt;</th><th scope=col>&lt;fct&gt;</th><th scope=col>&lt;int&gt;</th><th scope=col>&lt;fct&gt;</th><th scope=col>&lt;fct&gt;</th><th scope=col>&lt;fct&gt;</th><th scope=col>&lt;dbl&gt;</th><th scope=col>&lt;dbl&gt;</th><th scope=col>&lt;dbl&gt;</th><th scope=col>⋯</th><th scope=col>&lt;dbl&gt;</th><th scope=col>&lt;dbl&gt;</th><th scope=col>&lt;dbl&gt;</th><th scope=col>&lt;dbl&gt;</th><th scope=col>&lt;dbl&gt;</th><th scope=col>&lt;dbl&gt;</th><th scope=col>&lt;dbl&gt;</th><th scope=col>&lt;dbl&gt;</th><th scope=col>&lt;dbl&gt;</th><th scope=col>&lt;dbl&gt;</th></tr>\n",
       "</thead>\n",
       "<tbody>\n",
       "\t<tr><th scope=row>1</th><td> 0</td><td> 0</td><td>ReginaMusselman </td><td>3306898</td><td>2019-09-30 23:54:15</td><td>create</td><td>de</td><td>   0</td><td>    0</td><td>    0</td><td>⋯</td><td>0</td><td>0</td><td>0</td><td>0</td><td>0</td><td>0</td><td>0</td><td>0</td><td>0</td><td>0</td></tr>\n",
       "\t<tr><th scope=row>2</th><td> 4</td><td> 4</td><td>Knut Rehders    </td><td>3306894</td><td>2019-09-30 23:39:27</td><td>create</td><td>de</td><td>8916</td><td>14899</td><td>28223</td><td>⋯</td><td>0</td><td>0</td><td>0</td><td>0</td><td>0</td><td>0</td><td>0</td><td>0</td><td>0</td><td>0</td></tr>\n",
       "\t<tr><th scope=row>3</th><td>11</td><td>11</td><td>KnudHollander   </td><td>3306887</td><td>2019-09-30 23:05:29</td><td>create</td><td>de</td><td> 726</td><td> 1380</td><td> 2566</td><td>⋯</td><td>0</td><td>0</td><td>0</td><td>0</td><td>0</td><td>0</td><td>0</td><td>0</td><td>0</td><td>0</td></tr>\n",
       "\t<tr><th scope=row>4</th><td>13</td><td>13</td><td>JFFJF           </td><td>3306885</td><td>2019-09-30 22:51:43</td><td>create</td><td>de</td><td>   0</td><td>    0</td><td>    0</td><td>⋯</td><td>0</td><td>0</td><td>0</td><td>0</td><td>0</td><td>0</td><td>0</td><td>0</td><td>0</td><td>0</td></tr>\n",
       "\t<tr><th scope=row>5</th><td>18</td><td>18</td><td>Tadas Meskauskis</td><td>3306880</td><td>2019-09-30 22:40:58</td><td>create</td><td>de</td><td>   0</td><td>    0</td><td>    0</td><td>⋯</td><td>0</td><td>0</td><td>0</td><td>0</td><td>0</td><td>0</td><td>0</td><td>0</td><td>0</td><td>0</td></tr>\n",
       "</tbody>\n",
       "</table>\n"
      ],
      "text/latex": [
       "A data.frame: 5 × 47\n",
       "\\begin{tabular}{r|lllllllllllllllllllll}\n",
       "  & X & index & user.name & user.id & user.registration & create.type & lang & page.views.7 & page.views.14 & page.views.28 & ⋯ & X2.week.labor.7 & X2.week.labor.14 & X2.week.labor.28 & X2.week.labor.56 & X2.week.labor.84 & X4.week.labor.7 & X4.week.labor.14 & X4.week.labor.28 & X4.week.labor.56 & X4.week.labor.84\\\\\n",
       "  & <int> & <int> & <fct> & <int> & <fct> & <fct> & <fct> & <dbl> & <dbl> & <dbl> & ⋯ & <dbl> & <dbl> & <dbl> & <dbl> & <dbl> & <dbl> & <dbl> & <dbl> & <dbl> & <dbl>\\\\\n",
       "\\hline\n",
       "\t1 &  0 &  0 & ReginaMusselman  & 3306898 & 2019-09-30 23:54:15 & create & de &    0 &     0 &     0 & ⋯ & 0 & 0 & 0 & 0 & 0 & 0 & 0 & 0 & 0 & 0\\\\\n",
       "\t2 &  4 &  4 & Knut Rehders     & 3306894 & 2019-09-30 23:39:27 & create & de & 8916 & 14899 & 28223 & ⋯ & 0 & 0 & 0 & 0 & 0 & 0 & 0 & 0 & 0 & 0\\\\\n",
       "\t3 & 11 & 11 & KnudHollander    & 3306887 & 2019-09-30 23:05:29 & create & de &  726 &  1380 &  2566 & ⋯ & 0 & 0 & 0 & 0 & 0 & 0 & 0 & 0 & 0 & 0\\\\\n",
       "\t4 & 13 & 13 & JFFJF            & 3306885 & 2019-09-30 22:51:43 & create & de &    0 &     0 &     0 & ⋯ & 0 & 0 & 0 & 0 & 0 & 0 & 0 & 0 & 0 & 0\\\\\n",
       "\t5 & 18 & 18 & Tadas Meskauskis & 3306880 & 2019-09-30 22:40:58 & create & de &    0 &     0 &     0 & ⋯ & 0 & 0 & 0 & 0 & 0 & 0 & 0 & 0 & 0 & 0\\\\\n",
       "\\end{tabular}\n"
      ],
      "text/markdown": [
       "\n",
       "A data.frame: 5 × 47\n",
       "\n",
       "| <!--/--> | X &lt;int&gt; | index &lt;int&gt; | user.name &lt;fct&gt; | user.id &lt;int&gt; | user.registration &lt;fct&gt; | create.type &lt;fct&gt; | lang &lt;fct&gt; | page.views.7 &lt;dbl&gt; | page.views.14 &lt;dbl&gt; | page.views.28 &lt;dbl&gt; | ⋯ ⋯ | X2.week.labor.7 &lt;dbl&gt; | X2.week.labor.14 &lt;dbl&gt; | X2.week.labor.28 &lt;dbl&gt; | X2.week.labor.56 &lt;dbl&gt; | X2.week.labor.84 &lt;dbl&gt; | X4.week.labor.7 &lt;dbl&gt; | X4.week.labor.14 &lt;dbl&gt; | X4.week.labor.28 &lt;dbl&gt; | X4.week.labor.56 &lt;dbl&gt; | X4.week.labor.84 &lt;dbl&gt; |\n",
       "|---|---|---|---|---|---|---|---|---|---|---|---|---|---|---|---|---|---|---|---|---|---|\n",
       "| 1 |  0 |  0 | ReginaMusselman  | 3306898 | 2019-09-30 23:54:15 | create | de |    0 |     0 |     0 | ⋯ | 0 | 0 | 0 | 0 | 0 | 0 | 0 | 0 | 0 | 0 |\n",
       "| 2 |  4 |  4 | Knut Rehders     | 3306894 | 2019-09-30 23:39:27 | create | de | 8916 | 14899 | 28223 | ⋯ | 0 | 0 | 0 | 0 | 0 | 0 | 0 | 0 | 0 | 0 |\n",
       "| 3 | 11 | 11 | KnudHollander    | 3306887 | 2019-09-30 23:05:29 | create | de |  726 |  1380 |  2566 | ⋯ | 0 | 0 | 0 | 0 | 0 | 0 | 0 | 0 | 0 | 0 |\n",
       "| 4 | 13 | 13 | JFFJF            | 3306885 | 2019-09-30 22:51:43 | create | de |    0 |     0 |     0 | ⋯ | 0 | 0 | 0 | 0 | 0 | 0 | 0 | 0 | 0 | 0 |\n",
       "| 5 | 18 | 18 | Tadas Meskauskis | 3306880 | 2019-09-30 22:40:58 | create | de |    0 |     0 |     0 | ⋯ | 0 | 0 | 0 | 0 | 0 | 0 | 0 | 0 | 0 | 0 |\n",
       "\n"
      ],
      "text/plain": [
       "  X  index user.name        user.id user.registration   create.type lang\n",
       "1  0  0    ReginaMusselman  3306898 2019-09-30 23:54:15 create      de  \n",
       "2  4  4    Knut Rehders     3306894 2019-09-30 23:39:27 create      de  \n",
       "3 11 11    KnudHollander    3306887 2019-09-30 23:05:29 create      de  \n",
       "4 13 13    JFFJF            3306885 2019-09-30 22:51:43 create      de  \n",
       "5 18 18    Tadas Meskauskis 3306880 2019-09-30 22:40:58 create      de  \n",
       "  page.views.7 page.views.14 page.views.28 ⋯ X2.week.labor.7 X2.week.labor.14\n",
       "1    0             0             0         ⋯ 0               0               \n",
       "2 8916         14899         28223         ⋯ 0               0               \n",
       "3  726          1380          2566         ⋯ 0               0               \n",
       "4    0             0             0         ⋯ 0               0               \n",
       "5    0             0             0         ⋯ 0               0               \n",
       "  X2.week.labor.28 X2.week.labor.56 X2.week.labor.84 X4.week.labor.7\n",
       "1 0                0                0                0              \n",
       "2 0                0                0                0              \n",
       "3 0                0                0                0              \n",
       "4 0                0                0                0              \n",
       "5 0                0                0                0              \n",
       "  X4.week.labor.14 X4.week.labor.28 X4.week.labor.56 X4.week.labor.84\n",
       "1 0                0                0                0               \n",
       "2 0                0                0                0               \n",
       "3 0                0                0                0               \n",
       "4 0                0                0                0               \n",
       "5 0                0                0                0               "
      ]
     },
     "metadata": {},
     "output_type": "display_data"
    }
   ],
   "source": [
    "df  %>% head(5)"
   ]
  },
  {
   "cell_type": "code",
   "execution_count": 42,
   "metadata": {},
   "outputs": [
    {
     "data": {
      "text/html": [
       "<table>\n",
       "<caption>A tibble: 3 × 7</caption>\n",
       "<thead>\n",
       "\t<tr><th scope=col>lang</th><th scope=col>n</th><th scope=col>mean.page.views.7</th><th scope=col>mean.pages.edited.7</th><th scope=col>mean.2.week.retention.7</th><th scope=col>mean.2.week.edits</th><th scope=col>mean.2.week.labor</th></tr>\n",
       "\t<tr><th scope=col>&lt;fct&gt;</th><th scope=col>&lt;int&gt;</th><th scope=col>&lt;dbl&gt;</th><th scope=col>&lt;dbl&gt;</th><th scope=col>&lt;dbl&gt;</th><th scope=col>&lt;dbl&gt;</th><th scope=col>&lt;dbl&gt;</th></tr>\n",
       "</thead>\n",
       "<tbody>\n",
       "\t<tr><td>bn</td><td>1002</td><td>219.26148</td><td>0.2564870</td><td>0.02395210</td><td>0.1147705</td><td>0.01177146</td></tr>\n",
       "\t<tr><td>de</td><td>4650</td><td>630.79226</td><td>0.3296774</td><td>0.03956989</td><td>0.2610753</td><td>0.02898220</td></tr>\n",
       "\t<tr><td>sk</td><td> 139</td><td> 96.07194</td><td>0.4532374</td><td>0.04316547</td><td>0.7697842</td><td>0.15115508</td></tr>\n",
       "</tbody>\n",
       "</table>\n"
      ],
      "text/latex": [
       "A tibble: 3 × 7\n",
       "\\begin{tabular}{lllllll}\n",
       " lang & n & mean.page.views.7 & mean.pages.edited.7 & mean.2.week.retention.7 & mean.2.week.edits & mean.2.week.labor\\\\\n",
       " <fct> & <int> & <dbl> & <dbl> & <dbl> & <dbl> & <dbl>\\\\\n",
       "\\hline\n",
       "\t bn & 1002 & 219.26148 & 0.2564870 & 0.02395210 & 0.1147705 & 0.01177146\\\\\n",
       "\t de & 4650 & 630.79226 & 0.3296774 & 0.03956989 & 0.2610753 & 0.02898220\\\\\n",
       "\t sk &  139 &  96.07194 & 0.4532374 & 0.04316547 & 0.7697842 & 0.15115508\\\\\n",
       "\\end{tabular}\n"
      ],
      "text/markdown": [
       "\n",
       "A tibble: 3 × 7\n",
       "\n",
       "| lang &lt;fct&gt; | n &lt;int&gt; | mean.page.views.7 &lt;dbl&gt; | mean.pages.edited.7 &lt;dbl&gt; | mean.2.week.retention.7 &lt;dbl&gt; | mean.2.week.edits &lt;dbl&gt; | mean.2.week.labor &lt;dbl&gt; |\n",
       "|---|---|---|---|---|---|---|\n",
       "| bn | 1002 | 219.26148 | 0.2564870 | 0.02395210 | 0.1147705 | 0.01177146 |\n",
       "| de | 4650 | 630.79226 | 0.3296774 | 0.03956989 | 0.2610753 | 0.02898220 |\n",
       "| sk |  139 |  96.07194 | 0.4532374 | 0.04316547 | 0.7697842 | 0.15115508 |\n",
       "\n"
      ],
      "text/plain": [
       "  lang n    mean.page.views.7 mean.pages.edited.7 mean.2.week.retention.7\n",
       "1 bn   1002 219.26148         0.2564870           0.02395210             \n",
       "2 de   4650 630.79226         0.3296774           0.03956989             \n",
       "3 sk    139  96.07194         0.4532374           0.04316547             \n",
       "  mean.2.week.edits mean.2.week.labor\n",
       "1 0.1147705         0.01177146       \n",
       "2 0.2610753         0.02898220       \n",
       "3 0.7697842         0.15115508       "
      ]
     },
     "metadata": {},
     "output_type": "display_data"
    }
   ],
   "source": [
    "df  %>% group_by(lang)  %>% summarise(n = n(), \n",
    "                                      mean.page.views.7= mean(page.views.7),\n",
    "                                      mean.pages.edited.7=mean(pages.edited.7),\n",
    "                                     mean.2.week.retention.7=mean(X2.week.retention.7),\n",
    "                                     mean.2.week.edits=mean(X2.week.edits.7),\n",
    "                                     mean.2.week.labor=mean(X2.week.labor.7)) "
   ]
  }
 ],
 "metadata": {
  "kernelspec": {
   "display_name": "R",
   "language": "R",
   "name": "ir"
  },
  "language_info": {
   "codemirror_mode": "r",
   "file_extension": ".r",
   "mimetype": "text/x-r-source",
   "name": "R",
   "pygments_lexer": "r",
   "version": "3.6.3"
  }
 },
 "nbformat": 4,
 "nbformat_minor": 2
}
