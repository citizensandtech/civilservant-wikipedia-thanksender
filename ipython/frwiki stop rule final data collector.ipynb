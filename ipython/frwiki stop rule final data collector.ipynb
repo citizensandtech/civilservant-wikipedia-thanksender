{
 "cells": [
  {
   "cell_type": "markdown",
   "metadata": {},
   "source": [
    "# Goal\n",
    "1. Get the experimentthings and actions related to the experiment ID\n",
    "2. add activation rate variables\n",
    "    1. simply, or think about batched/ cached way\n",
    "3. later: compute statistical difference"
   ]
  },
  {
   "cell_type": "code",
   "execution_count": 1,
   "metadata": {},
   "outputs": [],
   "source": [
    "from civilservant.models.core import ExperimentThing, ExperimentAction\n",
    "from thanks.utils import _get_experiment_id\n",
    "from civilservant.util import read_config_file\n",
    "import os\n",
    "from civilservant.db import init_session, init_engine\n",
    "from sqlalchemy.dialects import mysql\n",
    "import pandas as pd"
   ]
  },
  {
   "cell_type": "code",
   "execution_count": 2,
   "metadata": {},
   "outputs": [],
   "source": [
    "db = init_session()\n",
    "con = init_engine()"
   ]
  },
  {
   "cell_type": "code",
   "execution_count": 3,
   "metadata": {},
   "outputs": [],
   "source": [
    "cnf = read_config_file(os.environ['CS_EXTRA_CONFIG_FILE'], os.path.abspath(''))"
   ]
  },
  {
   "cell_type": "code",
   "execution_count": 4,
   "metadata": {},
   "outputs": [],
   "source": [
    "experiment_id = _get_experiment_id(db, cnf['name'], return_id=True)"
   ]
  },
  {
   "cell_type": "code",
   "execution_count": 5,
   "metadata": {},
   "outputs": [
    {
     "data": {
      "text/plain": [
       "14"
      ]
     },
     "execution_count": 5,
     "metadata": {},
     "output_type": "execute_result"
    }
   ],
   "source": [
    "experiment_id"
   ]
  },
  {
   "cell_type": "code",
   "execution_count": 6,
   "metadata": {},
   "outputs": [],
   "source": [
    "ETs_q = db.query(ExperimentThing.id,\n",
    "                 ExperimentThing.thing_id,\n",
    "                 ExperimentThing.created_dt,\n",
    "                 ExperimentThing.randomization_arm). \\\n",
    "                    filter_by(experiment_id=experiment_id)"
   ]
  },
  {
   "cell_type": "code",
   "execution_count": 7,
   "metadata": {},
   "outputs": [],
   "source": [
    "ETs_sql = ETs_q.statement.compile(dialect=mysql.dialect())"
   ]
  },
  {
   "cell_type": "code",
   "execution_count": 8,
   "metadata": {},
   "outputs": [],
   "source": [
    "ET_df = pd.read_sql(ETs_sql, params={\"experiment_id\":experiment_id}, con=con)"
   ]
  },
  {
   "cell_type": "code",
   "execution_count": 9,
   "metadata": {},
   "outputs": [
    {
     "data": {
      "text/html": [
       "<div>\n",
       "<style scoped>\n",
       "    .dataframe tbody tr th:only-of-type {\n",
       "        vertical-align: middle;\n",
       "    }\n",
       "\n",
       "    .dataframe tbody tr th {\n",
       "        vertical-align: top;\n",
       "    }\n",
       "\n",
       "    .dataframe thead th {\n",
       "        text-align: right;\n",
       "    }\n",
       "</style>\n",
       "<table border=\"1\" class=\"dataframe\">\n",
       "  <thead>\n",
       "    <tr style=\"text-align: right;\">\n",
       "      <th></th>\n",
       "      <th>id</th>\n",
       "      <th>thing_id</th>\n",
       "      <th>created_dt</th>\n",
       "      <th>randomization_arm</th>\n",
       "    </tr>\n",
       "  </thead>\n",
       "  <tbody>\n",
       "    <tr>\n",
       "      <td>0</td>\n",
       "      <td>user:fr:(U+2019)bb;</td>\n",
       "      <td>757</td>\n",
       "      <td>2020-01-27 19:32:48</td>\n",
       "      <td>1</td>\n",
       "    </tr>\n",
       "    <tr>\n",
       "      <td>1</td>\n",
       "      <td>user:fr:0bichette0</td>\n",
       "      <td>217</td>\n",
       "      <td>2020-01-27 19:31:23</td>\n",
       "      <td>1</td>\n",
       "    </tr>\n",
       "    <tr>\n",
       "      <td>2</td>\n",
       "      <td>user:fr:0idontknow0</td>\n",
       "      <td>1265</td>\n",
       "      <td>2020-01-27 19:34:06</td>\n",
       "      <td>0</td>\n",
       "    </tr>\n",
       "    <tr>\n",
       "      <td>3</td>\n",
       "      <td>user:fr:2020louise</td>\n",
       "      <td>1635</td>\n",
       "      <td>2020-01-27 19:35:05</td>\n",
       "      <td>2</td>\n",
       "    </tr>\n",
       "    <tr>\n",
       "      <td>4</td>\n",
       "      <td>user:fr:2609fbb</td>\n",
       "      <td>2811</td>\n",
       "      <td>2020-01-27 19:38:21</td>\n",
       "      <td>0</td>\n",
       "    </tr>\n",
       "    <tr>\n",
       "      <td>...</td>\n",
       "      <td>...</td>\n",
       "      <td>...</td>\n",
       "      <td>...</td>\n",
       "      <td>...</td>\n",
       "    </tr>\n",
       "    <tr>\n",
       "      <td>1680</td>\n",
       "      <td>user:fr:Zorelmo</td>\n",
       "      <td>444</td>\n",
       "      <td>2020-01-27 19:32:00</td>\n",
       "      <td>1</td>\n",
       "    </tr>\n",
       "    <tr>\n",
       "      <td>1681</td>\n",
       "      <td>user:fr:Zoucaaaa</td>\n",
       "      <td>2059</td>\n",
       "      <td>2020-01-27 19:36:15</td>\n",
       "      <td>0</td>\n",
       "    </tr>\n",
       "    <tr>\n",
       "      <td>1682</td>\n",
       "      <td>user:fr:ZouhZouh</td>\n",
       "      <td>311</td>\n",
       "      <td>2020-01-27 19:31:39</td>\n",
       "      <td>0</td>\n",
       "    </tr>\n",
       "    <tr>\n",
       "      <td>1683</td>\n",
       "      <td>user:fr:Zouquette</td>\n",
       "      <td>197</td>\n",
       "      <td>2020-01-27 19:31:20</td>\n",
       "      <td>2</td>\n",
       "    </tr>\n",
       "    <tr>\n",
       "      <td>1684</td>\n",
       "      <td>user:fr:Zsraztrçrèz ezhuzrtfp</td>\n",
       "      <td>1682</td>\n",
       "      <td>2020-01-27 19:35:12</td>\n",
       "      <td>0</td>\n",
       "    </tr>\n",
       "  </tbody>\n",
       "</table>\n",
       "<p>1685 rows × 4 columns</p>\n",
       "</div>"
      ],
      "text/plain": [
       "                                 id thing_id          created_dt  \\\n",
       "0               user:fr:(U+2019)bb;      757 2020-01-27 19:32:48   \n",
       "1                user:fr:0bichette0      217 2020-01-27 19:31:23   \n",
       "2               user:fr:0idontknow0     1265 2020-01-27 19:34:06   \n",
       "3                user:fr:2020louise     1635 2020-01-27 19:35:05   \n",
       "4                   user:fr:2609fbb     2811 2020-01-27 19:38:21   \n",
       "...                             ...      ...                 ...   \n",
       "1680                user:fr:Zorelmo      444 2020-01-27 19:32:00   \n",
       "1681               user:fr:Zoucaaaa     2059 2020-01-27 19:36:15   \n",
       "1682               user:fr:ZouhZouh      311 2020-01-27 19:31:39   \n",
       "1683              user:fr:Zouquette      197 2020-01-27 19:31:20   \n",
       "1684  user:fr:Zsraztrçrèz ezhuzrtfp     1682 2020-01-27 19:35:12   \n",
       "\n",
       "      randomization_arm  \n",
       "0                     1  \n",
       "1                     1  \n",
       "2                     0  \n",
       "3                     2  \n",
       "4                     0  \n",
       "...                 ...  \n",
       "1680                  1  \n",
       "1681                  0  \n",
       "1682                  0  \n",
       "1683                  2  \n",
       "1684                  0  \n",
       "\n",
       "[1685 rows x 4 columns]"
      ]
     },
     "execution_count": 9,
     "metadata": {},
     "output_type": "execute_result"
    }
   ],
   "source": [
    "ET_df"
   ]
  },
  {
   "cell_type": "code",
   "execution_count": 10,
   "metadata": {},
   "outputs": [],
   "source": [
    "EAs_q = db.query(ExperimentAction.action_object_id,\n",
    "                 ExperimentAction.created_dt,\n",
    "                 ExperimentAction.metadata_json). \\\n",
    "                    filter_by(experiment_id=experiment_id)"
   ]
  },
  {
   "cell_type": "code",
   "execution_count": 11,
   "metadata": {},
   "outputs": [],
   "source": [
    "EAs_sql = EAs_q.statement.compile(dialect=mysql.dialect())"
   ]
  },
  {
   "cell_type": "code",
   "execution_count": 12,
   "metadata": {},
   "outputs": [],
   "source": [
    "EA_df = pd.read_sql(EAs_sql, params={\"experiment_id\":experiment_id}, con=con)"
   ]
  },
  {
   "cell_type": "code",
   "execution_count": 13,
   "metadata": {},
   "outputs": [
    {
     "data": {
      "text/html": [
       "<div>\n",
       "<style scoped>\n",
       "    .dataframe tbody tr th:only-of-type {\n",
       "        vertical-align: middle;\n",
       "    }\n",
       "\n",
       "    .dataframe tbody tr th {\n",
       "        vertical-align: top;\n",
       "    }\n",
       "\n",
       "    .dataframe thead th {\n",
       "        text-align: right;\n",
       "    }\n",
       "</style>\n",
       "<table border=\"1\" class=\"dataframe\">\n",
       "  <thead>\n",
       "    <tr style=\"text-align: right;\">\n",
       "      <th></th>\n",
       "      <th>action_object_id</th>\n",
       "      <th>created_dt</th>\n",
       "      <th>metadata_json</th>\n",
       "    </tr>\n",
       "  </thead>\n",
       "  <tbody>\n",
       "    <tr>\n",
       "      <td>0</td>\n",
       "      <td>78649</td>\n",
       "      <td>2020-01-24 18:49:40</td>\n",
       "      <td>{'lang': 'fr', 'signer': '6PO', 'user_name': '...</td>\n",
       "    </tr>\n",
       "    <tr>\n",
       "      <td>1</td>\n",
       "      <td>78650</td>\n",
       "      <td>2020-01-24 18:49:40</td>\n",
       "      <td>{'lang': 'fr', 'signer': 'Braaark', 'user_name...</td>\n",
       "    </tr>\n",
       "    <tr>\n",
       "      <td>2</td>\n",
       "      <td>78651</td>\n",
       "      <td>2020-01-24 18:49:40</td>\n",
       "      <td>{'lang': 'fr', 'signer': 'Goombiis', 'user_nam...</td>\n",
       "    </tr>\n",
       "    <tr>\n",
       "      <td>3</td>\n",
       "      <td>78653</td>\n",
       "      <td>2020-01-24 18:49:41</td>\n",
       "      <td>{'lang': 'fr', 'signer': 'Frakir', 'user_name'...</td>\n",
       "    </tr>\n",
       "    <tr>\n",
       "      <td>4</td>\n",
       "      <td>78654</td>\n",
       "      <td>2020-01-24 18:49:41</td>\n",
       "      <td>{'lang': 'fr', 'signer': 'Arthur Crbz', 'user_...</td>\n",
       "    </tr>\n",
       "    <tr>\n",
       "      <td>...</td>\n",
       "      <td>...</td>\n",
       "      <td>...</td>\n",
       "      <td>...</td>\n",
       "    </tr>\n",
       "    <tr>\n",
       "      <td>1686</td>\n",
       "      <td>2985</td>\n",
       "      <td>2020-01-27 19:38:54</td>\n",
       "      <td>{'lang': 'fr', 'errors': [], 'signer': 'Apipo1...</td>\n",
       "    </tr>\n",
       "    <tr>\n",
       "      <td>1687</td>\n",
       "      <td>2988</td>\n",
       "      <td>2020-01-27 19:38:54</td>\n",
       "      <td>{'lang': 'fr', 'errors': [], 'signer': 'VinceR...</td>\n",
       "    </tr>\n",
       "    <tr>\n",
       "      <td>1688</td>\n",
       "      <td>2989</td>\n",
       "      <td>2020-01-27 19:38:54</td>\n",
       "      <td>{'lang': 'fr', 'errors': [], 'signer': 'Naivuo...</td>\n",
       "    </tr>\n",
       "    <tr>\n",
       "      <td>1689</td>\n",
       "      <td>2990</td>\n",
       "      <td>2020-01-27 19:38:55</td>\n",
       "      <td>{'lang': 'fr', 'errors': [], 'signer': 'Goombi...</td>\n",
       "    </tr>\n",
       "    <tr>\n",
       "      <td>1690</td>\n",
       "      <td>2991</td>\n",
       "      <td>2020-01-27 19:38:55</td>\n",
       "      <td>{'lang': 'fr', 'errors': [], 'signer': 'Trizek...</td>\n",
       "    </tr>\n",
       "  </tbody>\n",
       "</table>\n",
       "<p>1691 rows × 3 columns</p>\n",
       "</div>"
      ],
      "text/plain": [
       "     action_object_id          created_dt  \\\n",
       "0               78649 2020-01-24 18:49:40   \n",
       "1               78650 2020-01-24 18:49:40   \n",
       "2               78651 2020-01-24 18:49:40   \n",
       "3               78653 2020-01-24 18:49:41   \n",
       "4               78654 2020-01-24 18:49:41   \n",
       "...               ...                 ...   \n",
       "1686             2985 2020-01-27 19:38:54   \n",
       "1687             2988 2020-01-27 19:38:54   \n",
       "1688             2989 2020-01-27 19:38:54   \n",
       "1689             2990 2020-01-27 19:38:55   \n",
       "1690             2991 2020-01-27 19:38:55   \n",
       "\n",
       "                                          metadata_json  \n",
       "0     {'lang': 'fr', 'signer': '6PO', 'user_name': '...  \n",
       "1     {'lang': 'fr', 'signer': 'Braaark', 'user_name...  \n",
       "2     {'lang': 'fr', 'signer': 'Goombiis', 'user_nam...  \n",
       "3     {'lang': 'fr', 'signer': 'Frakir', 'user_name'...  \n",
       "4     {'lang': 'fr', 'signer': 'Arthur Crbz', 'user_...  \n",
       "...                                                 ...  \n",
       "1686  {'lang': 'fr', 'errors': [], 'signer': 'Apipo1...  \n",
       "1687  {'lang': 'fr', 'errors': [], 'signer': 'VinceR...  \n",
       "1688  {'lang': 'fr', 'errors': [], 'signer': 'Naivuo...  \n",
       "1689  {'lang': 'fr', 'errors': [], 'signer': 'Goombi...  \n",
       "1690  {'lang': 'fr', 'errors': [], 'signer': 'Trizek...  \n",
       "\n",
       "[1691 rows x 3 columns]"
      ]
     },
     "execution_count": 13,
     "metadata": {},
     "output_type": "execute_result"
    }
   ],
   "source": [
    "EA_df"
   ]
  },
  {
   "cell_type": "code",
   "execution_count": 14,
   "metadata": {},
   "outputs": [
    {
     "data": {
      "text/plain": [
       "action_object_id            object\n",
       "created_dt          datetime64[ns]\n",
       "metadata_json               object\n",
       "dtype: object"
      ]
     },
     "execution_count": 14,
     "metadata": {},
     "output_type": "execute_result"
    }
   ],
   "source": [
    "EA_df.dtypes"
   ]
  },
  {
   "cell_type": "code",
   "execution_count": 15,
   "metadata": {},
   "outputs": [],
   "source": [
    "def key_or_nan(d, key):\n",
    "    try:\n",
    "        return d[key]\n",
    "    except KeyError:\n",
    "        return float('nan')"
   ]
  },
  {
   "cell_type": "code",
   "execution_count": 16,
   "metadata": {},
   "outputs": [],
   "source": [
    "EA_df['action_complete'] = EA_df['metadata_json'].apply(lambda d: key_or_nan(d, 'action_complete'))\n",
    "EA_df['action_response'] = EA_df['metadata_json'].apply(lambda d: key_or_nan(d, 'action_response'))"
   ]
  },
  {
   "cell_type": "code",
   "execution_count": 17,
   "metadata": {},
   "outputs": [],
   "source": [
    "EA_df['user_name'] = EA_df['metadata_json'].apply(lambda d: key_or_nan(d, 'user_name'))"
   ]
  },
  {
   "cell_type": "code",
   "execution_count": 18,
   "metadata": {},
   "outputs": [],
   "source": [
    "# EA_df[pd.notnull(EA_df['action_complete'])]"
   ]
  },
  {
   "cell_type": "code",
   "execution_count": 19,
   "metadata": {},
   "outputs": [],
   "source": [
    "df = ET_df.merge(how='left', right=EA_df, left_on='thing_id', right_on='action_object_id', suffixes=('_et','_ea') )"
   ]
  },
  {
   "cell_type": "code",
   "execution_count": 20,
   "metadata": {},
   "outputs": [
    {
     "data": {
      "text/plain": [
       "id                           object\n",
       "thing_id                     object\n",
       "created_dt_et        datetime64[ns]\n",
       "randomization_arm             int64\n",
       "action_object_id             object\n",
       "created_dt_ea        datetime64[ns]\n",
       "metadata_json                object\n",
       "action_complete              object\n",
       "action_response              object\n",
       "user_name                    object\n",
       "dtype: object"
      ]
     },
     "execution_count": 20,
     "metadata": {},
     "output_type": "execute_result"
    }
   ],
   "source": [
    "df.dtypes"
   ]
  },
  {
   "cell_type": "code",
   "execution_count": 21,
   "metadata": {},
   "outputs": [
    {
     "data": {
      "text/html": [
       "<div>\n",
       "<style scoped>\n",
       "    .dataframe tbody tr th:only-of-type {\n",
       "        vertical-align: middle;\n",
       "    }\n",
       "\n",
       "    .dataframe tbody tr th {\n",
       "        vertical-align: top;\n",
       "    }\n",
       "\n",
       "    .dataframe thead th {\n",
       "        text-align: right;\n",
       "    }\n",
       "</style>\n",
       "<table border=\"1\" class=\"dataframe\">\n",
       "  <thead>\n",
       "    <tr style=\"text-align: right;\">\n",
       "      <th></th>\n",
       "      <th>id</th>\n",
       "      <th>thing_id</th>\n",
       "      <th>created_dt_et</th>\n",
       "      <th>randomization_arm</th>\n",
       "      <th>action_object_id</th>\n",
       "      <th>created_dt_ea</th>\n",
       "      <th>metadata_json</th>\n",
       "      <th>action_complete</th>\n",
       "      <th>action_response</th>\n",
       "      <th>user_name</th>\n",
       "    </tr>\n",
       "  </thead>\n",
       "  <tbody>\n",
       "    <tr>\n",
       "      <td>0</td>\n",
       "      <td>user:fr:(U+2019)bb;</td>\n",
       "      <td>757</td>\n",
       "      <td>2020-01-27 19:32:48</td>\n",
       "      <td>1</td>\n",
       "      <td>757</td>\n",
       "      <td>2020-01-27 19:32:48</td>\n",
       "      <td>{'lang': 'fr', 'signer': 'VinceReddington', 'u...</td>\n",
       "      <td>NaN</td>\n",
       "      <td>NaN</td>\n",
       "      <td>(U+2019)bb;</td>\n",
       "    </tr>\n",
       "    <tr>\n",
       "      <td>1</td>\n",
       "      <td>user:fr:0bichette0</td>\n",
       "      <td>217</td>\n",
       "      <td>2020-01-27 19:31:23</td>\n",
       "      <td>1</td>\n",
       "      <td>217</td>\n",
       "      <td>2020-01-27 19:31:23</td>\n",
       "      <td>{'lang': 'fr', 'signer': 'Apipo1907', 'user_na...</td>\n",
       "      <td>NaN</td>\n",
       "      <td>NaN</td>\n",
       "      <td>0bichette0</td>\n",
       "    </tr>\n",
       "  </tbody>\n",
       "</table>\n",
       "</div>"
      ],
      "text/plain": [
       "                    id thing_id       created_dt_et  randomization_arm  \\\n",
       "0  user:fr:(U+2019)bb;      757 2020-01-27 19:32:48                  1   \n",
       "1   user:fr:0bichette0      217 2020-01-27 19:31:23                  1   \n",
       "\n",
       "  action_object_id       created_dt_ea  \\\n",
       "0              757 2020-01-27 19:32:48   \n",
       "1              217 2020-01-27 19:31:23   \n",
       "\n",
       "                                       metadata_json action_complete  \\\n",
       "0  {'lang': 'fr', 'signer': 'VinceReddington', 'u...             NaN   \n",
       "1  {'lang': 'fr', 'signer': 'Apipo1907', 'user_na...             NaN   \n",
       "\n",
       "  action_response    user_name  \n",
       "0             NaN  (U+2019)bb;  \n",
       "1             NaN   0bichette0  "
      ]
     },
     "execution_count": 21,
     "metadata": {},
     "output_type": "execute_result"
    }
   ],
   "source": [
    "df.head(2)"
   ]
  },
  {
   "cell_type": "markdown",
   "metadata": {},
   "source": [
    "## Getting external data"
   ]
  },
  {
   "cell_type": "code",
   "execution_count": 22,
   "metadata": {},
   "outputs": [],
   "source": [
    "from civilservant.wikipedia.queries.revisions import get_timestamps_within_range"
   ]
  },
  {
   "cell_type": "code",
   "execution_count": 23,
   "metadata": {},
   "outputs": [],
   "source": [
    "from civilservant.wikipedia.utils import make_cached_df"
   ]
  },
  {
   "cell_type": "code",
   "execution_count": 24,
   "metadata": {},
   "outputs": [],
   "source": [
    "from civilservant.wikipedia.connections.database import make_wmf_con\n",
    "import datetime"
   ]
  },
  {
   "cell_type": "code",
   "execution_count": 25,
   "metadata": {},
   "outputs": [],
   "source": [
    "wmf_con = make_wmf_con()"
   ]
  },
  {
   "cell_type": "code",
   "execution_count": 26,
   "metadata": {},
   "outputs": [],
   "source": [
    "@make_cached_df('fr-user-edits-stop-rule')\n",
    "def fr_user_edits(user_name, start_date):\n",
    "    end_date = start_date + datetime.timedelta(days=7)\n",
    "    return get_timestamps_within_range(lang='fr', start_date=start_date, end_date=end_date, user_name=user_name,\n",
    "                         con=wmf_con)"
   ]
  },
  {
   "cell_type": "code",
   "execution_count": null,
   "metadata": {},
   "outputs": [],
   "source": [
    "df['timestamps']=df.apply(lambda row: fr_user_edits(row['user_name'], row['created_dt_ea']), axis=1)"
   ]
  },
  {
   "cell_type": "code",
   "execution_count": null,
   "metadata": {},
   "outputs": [],
   "source": []
  }
 ],
 "metadata": {
  "kernelspec": {
   "display_name": "Python 3",
   "language": "python",
   "name": "python3"
  },
  "language_info": {
   "codemirror_mode": {
    "name": "ipython",
    "version": 3
   },
   "file_extension": ".py",
   "mimetype": "text/x-python",
   "name": "python",
   "nbconvert_exporter": "python",
   "pygments_lexer": "ipython3",
   "version": "3.7.3"
  }
 },
 "nbformat": 4,
 "nbformat_minor": 2
}
