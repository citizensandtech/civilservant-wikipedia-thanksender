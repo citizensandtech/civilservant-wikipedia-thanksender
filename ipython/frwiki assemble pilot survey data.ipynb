{
 "cells": [
  {
   "cell_type": "markdown",
   "metadata": {},
   "source": [
    "# Goal\n",
    "\n",
    "    Need a dataset with private anonymous ID, survey data, and 7dar\n",
    "    One row for everyone who received the survey invite\n",
    "    And 7 day activation rates for everyone who didn't take the survey as wel\n",
    "\n",
    "2. connecting to wmf repliacs on 3310\n"
   ]
  },
  {
   "cell_type": "code",
   "execution_count": null,
   "metadata": {},
   "outputs": [],
   "source": [
    "from civilservant.wikipedia.queries.revisions import get_timestamps_within_range\n",
    "\n",
    "from civilservant.wikipedia.utils import make_cached_df\n",
    "\n",
    "from civilservant.wikipedia.connections.database import make_wmf_con\n",
    "import datetime\n",
    "import os\n",
    "import pandas as pd\n",
    "import json\n",
    "\n",
    "datadir = '/data/project/frwelcome/datasets/survey data/'\n",
    "survey_f = 'pilot_March_12_2020.csv'\n",
    "survey_sent_f = 'pilot_experiment_actions_March_12_2020.csv'\n",
    "acct_map_f = 'pilot_account_mapping.csv'\n",
    "\n",
    "wmf_con = make_wmf_con()\n",
    "\n",
    "@make_cached_df('fr-user-edits-pilot-survey')\n",
    "def fr_user_edits(user_name, start_date):\n",
    "    end_date = start_date + datetime.timedelta(days=7)\n",
    "    return get_timestamps_within_range(lang='fr', start_date=start_date, end_date=end_date, user_name=user_name,\n",
    "                         con=wmf_con)"
   ]
  },
  {
   "cell_type": "code",
   "execution_count": 2,
   "metadata": {},
   "outputs": [],
   "source": [
    "acct = pd.read_csv(os.path.join(datadir, acct_map_f))"
   ]
  },
  {
   "cell_type": "code",
   "execution_count": 3,
   "metadata": {},
   "outputs": [],
   "source": [
    "survey = pd.read_csv(os.path.join(datadir, survey_f), skiprows=(1,2)).rename(columns={'ID':'public_anonymous_id'})\n",
    "survey = survey[pd.notnull(survey['public_anonymous_id'])]\n",
    "survey = survey.drop_duplicates('public_anonymous_id')"
   ]
  },
  {
   "cell_type": "code",
   "execution_count": 4,
   "metadata": {},
   "outputs": [],
   "source": [
    "eas = pd.read_csv(os.path.join(datadir, survey_sent_f), sep='\\t', parse_dates=['created_dt'])\n",
    "eas['metadata_json'] = eas['metadata_json'].apply(lambda s: json.loads(s))\n",
    "eas['public_anonymous_id'] = eas['metadata_json'].apply(lambda j: j['public_anonymous_id'])\n",
    "# eas['user_name'] = eas['action_object_id']\n",
    "eas['user_registered_approx_dt'] = eas['created_dt'] - datetime.timedelta(days=85)"
   ]
  },
  {
   "cell_type": "code",
   "execution_count": 5,
   "metadata": {},
   "outputs": [
    {
     "data": {
      "text/plain": [
       "(dtype('O'), dtype('O'))"
      ]
     },
     "execution_count": 5,
     "metadata": {},
     "output_type": "execute_result"
    }
   ],
   "source": [
    "eas['public_anonymous_id'].dtype, acct['public_anonymous_id'].dtype"
   ]
  },
  {
   "cell_type": "code",
   "execution_count": 6,
   "metadata": {},
   "outputs": [
    {
     "data": {
      "text/html": [
       "<div>\n",
       "<style scoped>\n",
       "    .dataframe tbody tr th:only-of-type {\n",
       "        vertical-align: middle;\n",
       "    }\n",
       "\n",
       "    .dataframe tbody tr th {\n",
       "        vertical-align: top;\n",
       "    }\n",
       "\n",
       "    .dataframe thead th {\n",
       "        text-align: right;\n",
       "    }\n",
       "</style>\n",
       "<table border=\"1\" class=\"dataframe\">\n",
       "  <thead>\n",
       "    <tr style=\"text-align: right;\">\n",
       "      <th></th>\n",
       "      <th>id</th>\n",
       "      <th>created_dt</th>\n",
       "      <th>experiment_id</th>\n",
       "      <th>action_key_id</th>\n",
       "      <th>action</th>\n",
       "      <th>action_subject_type</th>\n",
       "      <th>action_subject_id</th>\n",
       "      <th>action_object_type</th>\n",
       "      <th>action_object_id</th>\n",
       "      <th>metadata_json</th>\n",
       "      <th>action_platform</th>\n",
       "      <th>removed_dt</th>\n",
       "      <th>public_anonymous_id</th>\n",
       "      <th>user_registered_approx_dt</th>\n",
       "    </tr>\n",
       "  </thead>\n",
       "  <tbody>\n",
       "    <tr>\n",
       "      <td>0</td>\n",
       "      <td>58451</td>\n",
       "      <td>2020-02-24 18:58:04</td>\n",
       "      <td>-12</td>\n",
       "      <td>NaN</td>\n",
       "      <td>talk_page_message</td>\n",
       "      <td>talk_page_message</td>\n",
       "      <td>fr_wiki_welcome_pilot_survey</td>\n",
       "      <td>ThingType.WIKIPEDIA_USER</td>\n",
       "      <td>LUCAS.GR21</td>\n",
       "      <td>{'lang': 'fr', 'errors': [], 'user_name': 'LUC...</td>\n",
       "      <td>WIKIPEDIA</td>\n",
       "      <td>NaN</td>\n",
       "      <td>c1c34085-15fc-4a42-b6c8-aee2b7fadaf9</td>\n",
       "      <td>2019-12-01 18:58:04</td>\n",
       "    </tr>\n",
       "  </tbody>\n",
       "</table>\n",
       "</div>"
      ],
      "text/plain": [
       "      id          created_dt  experiment_id  action_key_id             action  \\\n",
       "0  58451 2020-02-24 18:58:04            -12            NaN  talk_page_message   \n",
       "\n",
       "  action_subject_type             action_subject_id        action_object_type  \\\n",
       "0   talk_page_message  fr_wiki_welcome_pilot_survey  ThingType.WIKIPEDIA_USER   \n",
       "\n",
       "  action_object_id                                      metadata_json  \\\n",
       "0       LUCAS.GR21  {'lang': 'fr', 'errors': [], 'user_name': 'LUC...   \n",
       "\n",
       "  action_platform  removed_dt                   public_anonymous_id  \\\n",
       "0       WIKIPEDIA         NaN  c1c34085-15fc-4a42-b6c8-aee2b7fadaf9   \n",
       "\n",
       "  user_registered_approx_dt  \n",
       "0       2019-12-01 18:58:04  "
      ]
     },
     "execution_count": 6,
     "metadata": {},
     "output_type": "execute_result"
    }
   ],
   "source": [
    "eas.head(1)"
   ]
  },
  {
   "cell_type": "code",
   "execution_count": 7,
   "metadata": {},
   "outputs": [
    {
     "data": {
      "text/html": [
       "<div>\n",
       "<style scoped>\n",
       "    .dataframe tbody tr th:only-of-type {\n",
       "        vertical-align: middle;\n",
       "    }\n",
       "\n",
       "    .dataframe tbody tr th {\n",
       "        vertical-align: top;\n",
       "    }\n",
       "\n",
       "    .dataframe thead th {\n",
       "        text-align: right;\n",
       "    }\n",
       "</style>\n",
       "<table border=\"1\" class=\"dataframe\">\n",
       "  <thead>\n",
       "    <tr style=\"text-align: right;\">\n",
       "      <th></th>\n",
       "      <th>lang</th>\n",
       "      <th>user_name</th>\n",
       "      <th>public_anonymous_id</th>\n",
       "      <th>private_anonymous_id</th>\n",
       "    </tr>\n",
       "  </thead>\n",
       "  <tbody>\n",
       "    <tr>\n",
       "      <td>0</td>\n",
       "      <td>fr</td>\n",
       "      <td>LUCAS.GR21</td>\n",
       "      <td>c1c34085-15fc-4a42-b6c8-aee2b7fadaf9</td>\n",
       "      <td>72e49448-bcfc-3658-a2c8-135e98dcc0fa</td>\n",
       "    </tr>\n",
       "  </tbody>\n",
       "</table>\n",
       "</div>"
      ],
      "text/plain": [
       "  lang   user_name                   public_anonymous_id  \\\n",
       "0   fr  LUCAS.GR21  c1c34085-15fc-4a42-b6c8-aee2b7fadaf9   \n",
       "\n",
       "                   private_anonymous_id  \n",
       "0  72e49448-bcfc-3658-a2c8-135e98dcc0fa  "
      ]
     },
     "execution_count": 7,
     "metadata": {},
     "output_type": "execute_result"
    }
   ],
   "source": [
    "acct.head(1)"
   ]
  },
  {
   "cell_type": "code",
   "execution_count": 8,
   "metadata": {},
   "outputs": [],
   "source": [
    "eas = pd.merge(eas, acct, on='public_anonymous_id', how='left')"
   ]
  },
  {
   "cell_type": "code",
   "execution_count": 9,
   "metadata": {},
   "outputs": [
    {
     "data": {
      "text/plain": [
       "7942"
      ]
     },
     "execution_count": 9,
     "metadata": {},
     "output_type": "execute_result"
    }
   ],
   "source": [
    "len(eas)"
   ]
  },
  {
   "cell_type": "code",
   "execution_count": 31,
   "metadata": {},
   "outputs": [],
   "source": [
    "df = pd.merge(survey, eas, how='right', on='public_anonymous_id')"
   ]
  },
  {
   "cell_type": "code",
   "execution_count": 32,
   "metadata": {},
   "outputs": [],
   "source": [
    "# df = df.set_index('public_anonymous_id')"
   ]
  },
  {
   "cell_type": "code",
   "execution_count": 33,
   "metadata": {},
   "outputs": [
    {
     "data": {
      "text/plain": [
       "((7942, 41), (7942, 17), (156, 25))"
      ]
     },
     "execution_count": 33,
     "metadata": {},
     "output_type": "execute_result"
    }
   ],
   "source": [
    "df.shape, eas.shape, survey.shape"
   ]
  },
  {
   "cell_type": "code",
   "execution_count": 34,
   "metadata": {},
   "outputs": [],
   "source": [
    "# why did length of df jump up 2\n",
    "# confirm that the number of users without matching public_anonymous_id is 0"
   ]
  },
  {
   "cell_type": "code",
   "execution_count": 35,
   "metadata": {},
   "outputs": [
    {
     "data": {
      "text/plain": [
       "(7786, 7786)"
      ]
     },
     "execution_count": 35,
     "metadata": {},
     "output_type": "execute_result"
    }
   ],
   "source": [
    "len(df[pd.isnull(df['StartDate'])]), len(eas) - len(survey)"
   ]
  },
  {
   "cell_type": "code",
   "execution_count": 36,
   "metadata": {},
   "outputs": [],
   "source": [
    "# df = df[:100]"
   ]
  },
  {
   "cell_type": "code",
   "execution_count": 37,
   "metadata": {},
   "outputs": [],
   "source": [
    "df['timestamps']=df.apply(lambda row: fr_user_edits(row['user_name'], row['user_registered_approx_dt']), axis=1)"
   ]
  },
  {
   "cell_type": "code",
   "execution_count": 38,
   "metadata": {},
   "outputs": [],
   "source": [
    "def seven_day_revs(timestamps, created_dt):\n",
    "    seven_days_after_reg = created_dt + datetime.timedelta(days=7)\n",
    "    return timestamps[timestamps['rev_timestamp']<seven_days_after_reg]\n",
    "\n",
    "def seven_day_activated(timestamps, created_dt):\n",
    "    revs = seven_day_revs(timestamps, created_dt)\n",
    "    return len(revs) > 0\n",
    "\n",
    "df['seven_day_activated'] = df.apply(lambda row: seven_day_activated(row['timestamps'], row['user_registered_approx_dt']) , axis=1)"
   ]
  },
  {
   "cell_type": "code",
   "execution_count": 39,
   "metadata": {},
   "outputs": [
    {
     "data": {
      "text/plain": [
       "0.3684210526315789"
      ]
     },
     "execution_count": 39,
     "metadata": {},
     "output_type": "execute_result"
    }
   ],
   "source": [
    "df['seven_day_activated'].mean()"
   ]
  },
  {
   "cell_type": "code",
   "execution_count": 40,
   "metadata": {},
   "outputs": [],
   "source": [
    "out_f = 'frwiki_pilot_survey_behavioural.csv'\n",
    "skip_cols = ['public_anonymous_id', 'metadata_json', 'timestamp']\n",
    "out_cols = [c for c in df.columns if c not in skip_cols]\n",
    "df.to_csv(os.path.join(datadir, out_f), columns=out_cols)"
   ]
  },
  {
   "cell_type": "code",
   "execution_count": 28,
   "metadata": {},
   "outputs": [],
   "source": [
    "out_df = df[out_cols]"
   ]
  },
  {
   "cell_type": "code",
   "execution_count": null,
   "metadata": {},
   "outputs": [],
   "source": []
  }
 ],
 "metadata": {
  "kernelspec": {
   "display_name": "Python 3",
   "language": "python",
   "name": "python3"
  },
  "language_info": {
   "codemirror_mode": {
    "name": "ipython",
    "version": 3
   },
   "file_extension": ".py",
   "mimetype": "text/x-python",
   "name": "python",
   "nbconvert_exporter": "python",
   "pygments_lexer": "ipython3",
   "version": "3.7.3"
  }
 },
 "nbformat": 4,
 "nbformat_minor": 2
}
