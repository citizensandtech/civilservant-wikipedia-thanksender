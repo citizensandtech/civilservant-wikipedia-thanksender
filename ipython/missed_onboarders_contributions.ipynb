{
 "cells": [
  {
   "cell_type": "code",
   "execution_count": 1,
   "metadata": {},
   "outputs": [],
   "source": [
    "import pandas as pd\n",
    "import os\n",
    "pd.set_option('max_colwidth', 100)\n",
    "import datetime\n",
    "import mwapi"
   ]
  },
  {
   "cell_type": "code",
   "execution_count": 154,
   "metadata": {},
   "outputs": [
    {
     "name": "stderr",
     "output_type": "stream",
     "text": [
      "Sending requests with default User-Agent.  Set 'user_agent' on mwapi.Session to quiet this message.\n"
     ]
    }
   ],
   "source": [
    "wmfdate_parser = lambda s: datetime.datetime.strptime(s, '%Y%m%d%H%M%S')\n",
    "mw = mwapi.Session('https://fr.wikipedia.org')"
   ]
  },
  {
   "cell_type": "code",
   "execution_count": 155,
   "metadata": {},
   "outputs": [],
   "source": [
    "def get_bot_contribs(botname, start, end):\n",
    "    ret_contribs = []\n",
    "    continuation = 'start'\n",
    "    while continuation is not None:\n",
    "        q_params = dict(action='query', list='usercontribs', \n",
    "                        ucstart=start, ucend=end, ucuser=botname)\n",
    "        if continuation != 'start':\n",
    "            q_params['uccontinue'] = continuation['uccontinue']\n",
    "        q_res = mw.get(**q_params)\n",
    "        continuation=q_res['continue'] if 'continue' in q_res else None\n",
    "        contribs = q_res['query']['usercontribs']\n",
    "        ret_contribs.extend(contribs)\n",
    "    return ret_contribs    "
   ]
  },
  {
   "cell_type": "code",
   "execution_count": 159,
   "metadata": {},
   "outputs": [],
   "source": [
    "start = 20191028000000\n",
    "end = 20191027000000\n",
    "contribs_l = get_bot_contribs('Loveless', start, end)\n",
    "contribs_b = get_bot_contribs('Loveless bienvenue', start, end)"
   ]
  },
  {
   "cell_type": "code",
   "execution_count": 160,
   "metadata": {},
   "outputs": [
    {
     "data": {
      "text/plain": [
       "(455, 874)"
      ]
     },
     "execution_count": 160,
     "metadata": {},
     "output_type": "execute_result"
    }
   ],
   "source": [
    "len(contribs_l), len(contribs_b)"
   ]
  },
  {
   "cell_type": "code",
   "execution_count": 162,
   "metadata": {},
   "outputs": [],
   "source": [
    "dfl = pd.DataFrame.from_records(contribs_l)\n",
    "dfb = pd.DataFrame.from_records(contribs_b)"
   ]
  },
  {
   "cell_type": "markdown",
   "metadata": {},
   "source": [
    "# Differences.\n",
    "## Who did Loveless invite but not Loveless bienvenue?\n",
    "## Who did Loveless bienvenue invite but not loveless?"
   ]
  },
  {
   "cell_type": "code",
   "execution_count": 163,
   "metadata": {},
   "outputs": [],
   "source": [
    "def compare_title(t):\n",
    "    ns_prefixes = ['Discussion utilisatrice:', 'Discussion utilisateur:']\n",
    "    for prefix in ns_prefixes:\n",
    "        if t.startswith(prefix):\n",
    "            page_name = t.split(prefix)[1]\n",
    "    if page_name.startswith('Loveless bienvenue/draft/'):\n",
    "        page_name = page_name.split('Loveless bienvenue/draft/')[1]\n",
    "    return page_name"
   ]
  },
  {
   "cell_type": "code",
   "execution_count": 164,
   "metadata": {},
   "outputs": [],
   "source": [
    "dfl['compare_title'] = dfl['title'].apply(compare_title)\n",
    "dfb['compare_title'] = dfb['title'].apply(compare_title)"
   ]
  },
  {
   "cell_type": "code",
   "execution_count": 165,
   "metadata": {},
   "outputs": [],
   "source": [
    "dfl=dfl[['user','compare_title','timestamp']]\n",
    "dfb=dfb[['user','compare_title','timestamp']]"
   ]
  },
  {
   "cell_type": "code",
   "execution_count": 166,
   "metadata": {},
   "outputs": [
    {
     "data": {
      "text/plain": [
       "1"
      ]
     },
     "execution_count": 166,
     "metadata": {},
     "output_type": "execute_result"
    }
   ],
   "source": [
    "dfl.groupby('compare_title').size().max()"
   ]
  },
  {
   "cell_type": "code",
   "execution_count": 167,
   "metadata": {},
   "outputs": [
    {
     "data": {
      "text/plain": [
       "1"
      ]
     },
     "execution_count": 167,
     "metadata": {},
     "output_type": "execute_result"
    }
   ],
   "source": [
    "dfb.groupby('compare_title').size().max()"
   ]
  },
  {
   "cell_type": "code",
   "execution_count": 168,
   "metadata": {},
   "outputs": [],
   "source": [
    "l = dfl.set_index('compare_title')"
   ]
  },
  {
   "cell_type": "code",
   "execution_count": 169,
   "metadata": {},
   "outputs": [],
   "source": [
    "b = dfb.set_index('compare_title')"
   ]
  },
  {
   "cell_type": "code",
   "execution_count": 170,
   "metadata": {},
   "outputs": [],
   "source": [
    "j = l.join(b, how='outer', lsuffix='_l', rsuffix='_b')"
   ]
  },
  {
   "cell_type": "code",
   "execution_count": 171,
   "metadata": {},
   "outputs": [],
   "source": [
    "overlap = j[(pd.notnull(j['user_l']))&(pd.notnull(j['user_b']))]\n",
    "underlap_l_missing = j[(pd.isnull(j['user_l']))&(pd.notnull(j['user_b']))]\n",
    "underlap_b_missing = j[(pd.notnull(j['user_l']))&(pd.isnull(j['user_b']))]"
   ]
  },
  {
   "cell_type": "code",
   "execution_count": 172,
   "metadata": {},
   "outputs": [
    {
     "data": {
      "text/html": [
       "<div>\n",
       "<style scoped>\n",
       "    .dataframe tbody tr th:only-of-type {\n",
       "        vertical-align: middle;\n",
       "    }\n",
       "\n",
       "    .dataframe tbody tr th {\n",
       "        vertical-align: top;\n",
       "    }\n",
       "\n",
       "    .dataframe thead th {\n",
       "        text-align: right;\n",
       "    }\n",
       "</style>\n",
       "<table border=\"1\" class=\"dataframe\">\n",
       "  <thead>\n",
       "    <tr style=\"text-align: right;\">\n",
       "      <th></th>\n",
       "      <th>user_l</th>\n",
       "      <th>timestamp_l</th>\n",
       "      <th>user_b</th>\n",
       "      <th>timestamp_b</th>\n",
       "    </tr>\n",
       "    <tr>\n",
       "      <th>compare_title</th>\n",
       "      <th></th>\n",
       "      <th></th>\n",
       "      <th></th>\n",
       "      <th></th>\n",
       "    </tr>\n",
       "  </thead>\n",
       "  <tbody>\n",
       "    <tr>\n",
       "      <td>ANKA59</td>\n",
       "      <td>Loveless</td>\n",
       "      <td>2019-10-27T12:06:07Z</td>\n",
       "      <td>Loveless bienvenue</td>\n",
       "      <td>2019-10-27T12:07:06Z</td>\n",
       "    </tr>\n",
       "    <tr>\n",
       "      <td>Abbonnezvousamachainec'estCRYO'ZENITH</td>\n",
       "      <td>Loveless</td>\n",
       "      <td>2019-10-27T15:36:08Z</td>\n",
       "      <td>Loveless bienvenue</td>\n",
       "      <td>2019-10-27T15:37:05Z</td>\n",
       "    </tr>\n",
       "    <tr>\n",
       "      <td>Abdou shn</td>\n",
       "      <td>Loveless</td>\n",
       "      <td>2019-10-27T19:15:07Z</td>\n",
       "      <td>Loveless bienvenue</td>\n",
       "      <td>2019-10-27T19:15:08Z</td>\n",
       "    </tr>\n",
       "    <tr>\n",
       "      <td>Acere0011</td>\n",
       "      <td>Loveless</td>\n",
       "      <td>2019-10-27T23:15:06Z</td>\n",
       "      <td>Loveless bienvenue</td>\n",
       "      <td>2019-10-27T23:17:06Z</td>\n",
       "    </tr>\n",
       "    <tr>\n",
       "      <td>Adamakama66</td>\n",
       "      <td>Loveless</td>\n",
       "      <td>2019-10-27T01:39:06Z</td>\n",
       "      <td>Loveless bienvenue</td>\n",
       "      <td>2019-10-27T01:39:06Z</td>\n",
       "    </tr>\n",
       "    <tr>\n",
       "      <td>...</td>\n",
       "      <td>...</td>\n",
       "      <td>...</td>\n",
       "      <td>...</td>\n",
       "      <td>...</td>\n",
       "    </tr>\n",
       "    <tr>\n",
       "      <td>Yveskappooo</td>\n",
       "      <td>Loveless</td>\n",
       "      <td>2019-10-27T20:09:09Z</td>\n",
       "      <td>Loveless bienvenue</td>\n",
       "      <td>2019-10-27T20:09:06Z</td>\n",
       "    </tr>\n",
       "    <tr>\n",
       "      <td>Zazali2019</td>\n",
       "      <td>Loveless</td>\n",
       "      <td>2019-10-27T19:57:09Z</td>\n",
       "      <td>Loveless bienvenue</td>\n",
       "      <td>2019-10-27T19:57:05Z</td>\n",
       "    </tr>\n",
       "    <tr>\n",
       "      <td>Zouhair 01</td>\n",
       "      <td>Loveless</td>\n",
       "      <td>2019-10-27T12:45:08Z</td>\n",
       "      <td>Loveless bienvenue</td>\n",
       "      <td>2019-10-27T12:45:05Z</td>\n",
       "    </tr>\n",
       "    <tr>\n",
       "      <td>انس كرم</td>\n",
       "      <td>Loveless</td>\n",
       "      <td>2019-10-27T15:12:06Z</td>\n",
       "      <td>Loveless bienvenue</td>\n",
       "      <td>2019-10-27T15:13:06Z</td>\n",
       "    </tr>\n",
       "    <tr>\n",
       "      <td>張本勲と苦粗味噌テクニック</td>\n",
       "      <td>Loveless</td>\n",
       "      <td>2019-10-27T03:15:08Z</td>\n",
       "      <td>Loveless bienvenue</td>\n",
       "      <td>2019-10-27T03:15:05Z</td>\n",
       "    </tr>\n",
       "  </tbody>\n",
       "</table>\n",
       "<p>450 rows × 4 columns</p>\n",
       "</div>"
      ],
      "text/plain": [
       "                                         user_l           timestamp_l  \\\n",
       "compare_title                                                           \n",
       "ANKA59                                 Loveless  2019-10-27T12:06:07Z   \n",
       "Abbonnezvousamachainec'estCRYO'ZENITH  Loveless  2019-10-27T15:36:08Z   \n",
       "Abdou shn                              Loveless  2019-10-27T19:15:07Z   \n",
       "Acere0011                              Loveless  2019-10-27T23:15:06Z   \n",
       "Adamakama66                            Loveless  2019-10-27T01:39:06Z   \n",
       "...                                         ...                   ...   \n",
       "Yveskappooo                            Loveless  2019-10-27T20:09:09Z   \n",
       "Zazali2019                             Loveless  2019-10-27T19:57:09Z   \n",
       "Zouhair 01                             Loveless  2019-10-27T12:45:08Z   \n",
       "انس كرم                                Loveless  2019-10-27T15:12:06Z   \n",
       "張本勲と苦粗味噌テクニック                          Loveless  2019-10-27T03:15:08Z   \n",
       "\n",
       "                                                   user_b  \\\n",
       "compare_title                                               \n",
       "ANKA59                                 Loveless bienvenue   \n",
       "Abbonnezvousamachainec'estCRYO'ZENITH  Loveless bienvenue   \n",
       "Abdou shn                              Loveless bienvenue   \n",
       "Acere0011                              Loveless bienvenue   \n",
       "Adamakama66                            Loveless bienvenue   \n",
       "...                                                   ...   \n",
       "Yveskappooo                            Loveless bienvenue   \n",
       "Zazali2019                             Loveless bienvenue   \n",
       "Zouhair 01                             Loveless bienvenue   \n",
       "انس كرم                                Loveless bienvenue   \n",
       "張本勲と苦粗味噌テクニック                          Loveless bienvenue   \n",
       "\n",
       "                                                timestamp_b  \n",
       "compare_title                                                \n",
       "ANKA59                                 2019-10-27T12:07:06Z  \n",
       "Abbonnezvousamachainec'estCRYO'ZENITH  2019-10-27T15:37:05Z  \n",
       "Abdou shn                              2019-10-27T19:15:08Z  \n",
       "Acere0011                              2019-10-27T23:17:06Z  \n",
       "Adamakama66                            2019-10-27T01:39:06Z  \n",
       "...                                                     ...  \n",
       "Yveskappooo                            2019-10-27T20:09:06Z  \n",
       "Zazali2019                             2019-10-27T19:57:05Z  \n",
       "Zouhair 01                             2019-10-27T12:45:05Z  \n",
       "انس كرم                                2019-10-27T15:13:06Z  \n",
       "張本勲と苦粗味噌テクニック                          2019-10-27T03:15:05Z  \n",
       "\n",
       "[450 rows x 4 columns]"
      ]
     },
     "execution_count": 172,
     "metadata": {},
     "output_type": "execute_result"
    }
   ],
   "source": [
    "overlap"
   ]
  },
  {
   "cell_type": "code",
   "execution_count": 176,
   "metadata": {},
   "outputs": [
    {
     "data": {
      "text/html": [
       "<div>\n",
       "<style scoped>\n",
       "    .dataframe tbody tr th:only-of-type {\n",
       "        vertical-align: middle;\n",
       "    }\n",
       "\n",
       "    .dataframe tbody tr th {\n",
       "        vertical-align: top;\n",
       "    }\n",
       "\n",
       "    .dataframe thead th {\n",
       "        text-align: right;\n",
       "    }\n",
       "</style>\n",
       "<table border=\"1\" class=\"dataframe\">\n",
       "  <thead>\n",
       "    <tr style=\"text-align: right;\">\n",
       "      <th></th>\n",
       "      <th>user_l</th>\n",
       "      <th>timestamp_l</th>\n",
       "      <th>user_b</th>\n",
       "      <th>timestamp_b</th>\n",
       "    </tr>\n",
       "    <tr>\n",
       "      <th>compare_title</th>\n",
       "      <th></th>\n",
       "      <th></th>\n",
       "      <th></th>\n",
       "      <th></th>\n",
       "    </tr>\n",
       "  </thead>\n",
       "  <tbody>\n",
       "    <tr>\n",
       "      <td>$addl3backtamar1n134</td>\n",
       "      <td>NaN</td>\n",
       "      <td>NaN</td>\n",
       "      <td>Loveless bienvenue</td>\n",
       "      <td>2019-10-27T04:39:05Z</td>\n",
       "    </tr>\n",
       "    <tr>\n",
       "      <td>.vxctoria</td>\n",
       "      <td>NaN</td>\n",
       "      <td>NaN</td>\n",
       "      <td>Loveless bienvenue</td>\n",
       "      <td>2019-10-27T17:43:05Z</td>\n",
       "    </tr>\n",
       "    <tr>\n",
       "      <td>0x0n</td>\n",
       "      <td>NaN</td>\n",
       "      <td>NaN</td>\n",
       "      <td>Loveless bienvenue</td>\n",
       "      <td>2019-10-27T23:41:05Z</td>\n",
       "    </tr>\n",
       "    <tr>\n",
       "      <td>0zwood</td>\n",
       "      <td>NaN</td>\n",
       "      <td>NaN</td>\n",
       "      <td>Loveless bienvenue</td>\n",
       "      <td>2019-10-27T09:37:06Z</td>\n",
       "    </tr>\n",
       "    <tr>\n",
       "      <td>1999blacklist666</td>\n",
       "      <td>NaN</td>\n",
       "      <td>NaN</td>\n",
       "      <td>Loveless bienvenue</td>\n",
       "      <td>2019-10-27T18:55:05Z</td>\n",
       "    </tr>\n",
       "    <tr>\n",
       "      <td>...</td>\n",
       "      <td>...</td>\n",
       "      <td>...</td>\n",
       "      <td>...</td>\n",
       "      <td>...</td>\n",
       "    </tr>\n",
       "    <tr>\n",
       "      <td>ԳրիգորյանԷդգար</td>\n",
       "      <td>NaN</td>\n",
       "      <td>NaN</td>\n",
       "      <td>Loveless bienvenue</td>\n",
       "      <td>2019-10-27T07:59:06Z</td>\n",
       "    </tr>\n",
       "    <tr>\n",
       "      <td>Դավիթ Ալիխանյան</td>\n",
       "      <td>NaN</td>\n",
       "      <td>NaN</td>\n",
       "      <td>Loveless bienvenue</td>\n",
       "      <td>2019-10-27T08:03:07Z</td>\n",
       "    </tr>\n",
       "    <tr>\n",
       "      <td>حب خادع</td>\n",
       "      <td>NaN</td>\n",
       "      <td>NaN</td>\n",
       "      <td>Loveless bienvenue</td>\n",
       "      <td>2019-10-27T23:33:05Z</td>\n",
       "    </tr>\n",
       "    <tr>\n",
       "      <td>ديارسوبا سليمان</td>\n",
       "      <td>NaN</td>\n",
       "      <td>NaN</td>\n",
       "      <td>Loveless bienvenue</td>\n",
       "      <td>2019-10-27T20:27:06Z</td>\n",
       "    </tr>\n",
       "    <tr>\n",
       "      <td>潘俊翰</td>\n",
       "      <td>NaN</td>\n",
       "      <td>NaN</td>\n",
       "      <td>Loveless bienvenue</td>\n",
       "      <td>2019-10-27T13:33:05Z</td>\n",
       "    </tr>\n",
       "  </tbody>\n",
       "</table>\n",
       "<p>424 rows × 4 columns</p>\n",
       "</div>"
      ],
      "text/plain": [
       "                     user_l timestamp_l              user_b  \\\n",
       "compare_title                                                 \n",
       "$addl3backtamar1n134    NaN         NaN  Loveless bienvenue   \n",
       ".vxctoria               NaN         NaN  Loveless bienvenue   \n",
       "0x0n                    NaN         NaN  Loveless bienvenue   \n",
       "0zwood                  NaN         NaN  Loveless bienvenue   \n",
       "1999blacklist666        NaN         NaN  Loveless bienvenue   \n",
       "...                     ...         ...                 ...   \n",
       "ԳրիգորյանԷդգար          NaN         NaN  Loveless bienvenue   \n",
       "Դավիթ Ալիխանյան         NaN         NaN  Loveless bienvenue   \n",
       "حب خادع                 NaN         NaN  Loveless bienvenue   \n",
       "ديارسوبا سليمان         NaN         NaN  Loveless bienvenue   \n",
       "潘俊翰                     NaN         NaN  Loveless bienvenue   \n",
       "\n",
       "                               timestamp_b  \n",
       "compare_title                               \n",
       "$addl3backtamar1n134  2019-10-27T04:39:05Z  \n",
       ".vxctoria             2019-10-27T17:43:05Z  \n",
       "0x0n                  2019-10-27T23:41:05Z  \n",
       "0zwood                2019-10-27T09:37:06Z  \n",
       "1999blacklist666      2019-10-27T18:55:05Z  \n",
       "...                                    ...  \n",
       "ԳրիգորյանԷդգար        2019-10-27T07:59:06Z  \n",
       "Դավիթ Ալիխանյան       2019-10-27T08:03:07Z  \n",
       "حب خادع               2019-10-27T23:33:05Z  \n",
       "ديارسوبا سليمان       2019-10-27T20:27:06Z  \n",
       "潘俊翰                   2019-10-27T13:33:05Z  \n",
       "\n",
       "[424 rows x 4 columns]"
      ]
     },
     "execution_count": 176,
     "metadata": {},
     "output_type": "execute_result"
    }
   ],
   "source": [
    "underlap_l_missing"
   ]
  },
  {
   "cell_type": "code",
   "execution_count": 177,
   "metadata": {},
   "outputs": [
    {
     "data": {
      "text/html": [
       "<div>\n",
       "<style scoped>\n",
       "    .dataframe tbody tr th:only-of-type {\n",
       "        vertical-align: middle;\n",
       "    }\n",
       "\n",
       "    .dataframe tbody tr th {\n",
       "        vertical-align: top;\n",
       "    }\n",
       "\n",
       "    .dataframe thead th {\n",
       "        text-align: right;\n",
       "    }\n",
       "</style>\n",
       "<table border=\"1\" class=\"dataframe\">\n",
       "  <thead>\n",
       "    <tr style=\"text-align: right;\">\n",
       "      <th></th>\n",
       "      <th>user_l</th>\n",
       "      <th>timestamp_l</th>\n",
       "      <th>user_b</th>\n",
       "      <th>timestamp_b</th>\n",
       "    </tr>\n",
       "    <tr>\n",
       "      <th>compare_title</th>\n",
       "      <th></th>\n",
       "      <th></th>\n",
       "      <th></th>\n",
       "      <th></th>\n",
       "    </tr>\n",
       "  </thead>\n",
       "  <tbody>\n",
       "    <tr>\n",
       "      <td>Alexandrelau7</td>\n",
       "      <td>Loveless</td>\n",
       "      <td>2019-10-27T22:51:06Z</td>\n",
       "      <td>NaN</td>\n",
       "      <td>NaN</td>\n",
       "    </tr>\n",
       "    <tr>\n",
       "      <td>Francxshr/Archive 1</td>\n",
       "      <td>Loveless</td>\n",
       "      <td>2019-10-27T20:21:06Z</td>\n",
       "      <td>NaN</td>\n",
       "      <td>NaN</td>\n",
       "    </tr>\n",
       "    <tr>\n",
       "      <td>Manu911me</td>\n",
       "      <td>Loveless</td>\n",
       "      <td>2019-10-27T09:27:06Z</td>\n",
       "      <td>NaN</td>\n",
       "      <td>NaN</td>\n",
       "    </tr>\n",
       "    <tr>\n",
       "      <td>Maximet26</td>\n",
       "      <td>Loveless</td>\n",
       "      <td>2019-10-27T17:54:08Z</td>\n",
       "      <td>NaN</td>\n",
       "      <td>NaN</td>\n",
       "    </tr>\n",
       "    <tr>\n",
       "      <td>Salixe</td>\n",
       "      <td>Loveless</td>\n",
       "      <td>2019-10-27T15:57:07Z</td>\n",
       "      <td>NaN</td>\n",
       "      <td>NaN</td>\n",
       "    </tr>\n",
       "  </tbody>\n",
       "</table>\n",
       "</div>"
      ],
      "text/plain": [
       "                       user_l           timestamp_l user_b timestamp_b\n",
       "compare_title                                                         \n",
       "Alexandrelau7        Loveless  2019-10-27T22:51:06Z    NaN         NaN\n",
       "Francxshr/Archive 1  Loveless  2019-10-27T20:21:06Z    NaN         NaN\n",
       "Manu911me            Loveless  2019-10-27T09:27:06Z    NaN         NaN\n",
       "Maximet26            Loveless  2019-10-27T17:54:08Z    NaN         NaN\n",
       "Salixe               Loveless  2019-10-27T15:57:07Z    NaN         NaN"
      ]
     },
     "execution_count": 177,
     "metadata": {},
     "output_type": "execute_result"
    }
   ],
   "source": [
    "underlap_b_missing"
   ]
  },
  {
   "cell_type": "code",
   "execution_count": 158,
   "metadata": {},
   "outputs": [],
   "source": [
    "# status\n",
    "Alexandrelau7 -- never existed in our database, have to look more into logs\n",
    "Francxshr/Archive 1 -- this is not a new user but template usage\n",
    "Manu911me -- never existed in our database, have to look more into logs\n",
    "Maximet26 -- userblocked [we wont invite a bloced user]\n",
    "Salixe  -- name change [understandable]\n"
   ]
  },
  {
   "cell_type": "code",
   "execution_count": null,
   "metadata": {},
   "outputs": [],
   "source": []
  }
 ],
 "metadata": {
  "kernelspec": {
   "display_name": "Python 3",
   "language": "python",
   "name": "python3"
  },
  "language_info": {
   "codemirror_mode": {
    "name": "ipython",
    "version": 3
   },
   "file_extension": ".py",
   "mimetype": "text/x-python",
   "name": "python",
   "nbconvert_exporter": "python",
   "pygments_lexer": "ipython3",
   "version": "3.7.3"
  }
 },
 "nbformat": 4,
 "nbformat_minor": 1
}
