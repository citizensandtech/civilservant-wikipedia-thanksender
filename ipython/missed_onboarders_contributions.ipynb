{
 "cells": [
  {
   "cell_type": "code",
   "execution_count": 57,
   "metadata": {},
   "outputs": [
    {
     "name": "stdout",
     "output_type": "stream",
     "text": [
      "Populating the interactive namespace from numpy and matplotlib\n"
     ]
    }
   ],
   "source": [
    "import pandas as pd\n",
    "import os\n",
    "pd.set_option('max_colwidth', 100)\n",
    "import datetime\n",
    "import mwapi\n",
    "%pylab inline"
   ]
  },
  {
   "cell_type": "code",
   "execution_count": 2,
   "metadata": {},
   "outputs": [
    {
     "name": "stderr",
     "output_type": "stream",
     "text": [
      "Sending requests with default User-Agent.  Set 'user_agent' on mwapi.Session to quiet this message.\n"
     ]
    }
   ],
   "source": [
    "wmfdate_parser = lambda s: datetime.datetime.strptime(s, '%Y%m%d%H%M%S')\n",
    "mw = mwapi.Session('https://fr.wikipedia.org')"
   ]
  },
  {
   "cell_type": "code",
   "execution_count": 3,
   "metadata": {},
   "outputs": [],
   "source": [
    "def get_bot_contribs(botname, start, end):\n",
    "    ret_contribs = []\n",
    "    continuation = 'start'\n",
    "    while continuation is not None:\n",
    "        q_params = dict(action='query', list='usercontribs', \n",
    "                        ucstart=start, ucend=end, ucuser=botname)\n",
    "        if continuation != 'start':\n",
    "            q_params['uccontinue'] = continuation['uccontinue']\n",
    "        q_res = mw.get(**q_params)\n",
    "        continuation=q_res['continue'] if 'continue' in q_res else None\n",
    "        contribs = q_res['query']['usercontribs']\n",
    "        ret_contribs.extend(contribs)\n",
    "    return ret_contribs    "
   ]
  },
  {
   "cell_type": "code",
   "execution_count": 4,
   "metadata": {},
   "outputs": [],
   "source": [
    "start = 20191028000000\n",
    "end = 20191027000000\n",
    "contribs_l = get_bot_contribs('Loveless', start, end)\n",
    "contribs_b = get_bot_contribs('Loveless bienvenue', start, end)"
   ]
  },
  {
   "cell_type": "code",
   "execution_count": 5,
   "metadata": {},
   "outputs": [
    {
     "data": {
      "text/plain": [
       "(455, 874)"
      ]
     },
     "execution_count": 5,
     "metadata": {},
     "output_type": "execute_result"
    }
   ],
   "source": [
    "len(contribs_l), len(contribs_b)"
   ]
  },
  {
   "cell_type": "code",
   "execution_count": 21,
   "metadata": {},
   "outputs": [],
   "source": [
    "dfl = pd.DataFrame.from_records(contribs_l)\n",
    "dfb = pd.DataFrame.from_records(contribs_b)\n",
    "\n",
    "dfb_full = dfb.copy()"
   ]
  },
  {
   "cell_type": "markdown",
   "metadata": {},
   "source": [
    "# Differences.\n",
    "## Who did Loveless invite but not Loveless bienvenue?\n",
    "## Who did Loveless bienvenue invite but not loveless?"
   ]
  },
  {
   "cell_type": "code",
   "execution_count": 24,
   "metadata": {},
   "outputs": [],
   "source": [
    "def compare_title(t):\n",
    "    ns_prefixes = ['Discussion utilisatrice:', 'Discussion utilisateur:']\n",
    "    for prefix in ns_prefixes:\n",
    "        if t.startswith(prefix):\n",
    "            page_name = t.split(prefix)[1]\n",
    "    if page_name.startswith('Loveless bienvenue/draft/'):\n",
    "        page_name = page_name.split('Loveless bienvenue/draft/')[1]\n",
    "    return page_name"
   ]
  },
  {
   "cell_type": "code",
   "execution_count": 25,
   "metadata": {},
   "outputs": [],
   "source": [
    "dfl['compare_title'] = dfl['title'].apply(compare_title)\n",
    "dfb['compare_title'] = dfb['title'].apply(compare_title)"
   ]
  },
  {
   "cell_type": "code",
   "execution_count": 26,
   "metadata": {},
   "outputs": [],
   "source": [
    "dfl=dfl[['user','compare_title','timestamp']]\n",
    "dfb=dfb[['user','compare_title','timestamp']]"
   ]
  },
  {
   "cell_type": "code",
   "execution_count": 10,
   "metadata": {},
   "outputs": [
    {
     "data": {
      "text/plain": [
       "1"
      ]
     },
     "execution_count": 10,
     "metadata": {},
     "output_type": "execute_result"
    }
   ],
   "source": [
    "dfl.groupby('compare_title').size().max()"
   ]
  },
  {
   "cell_type": "code",
   "execution_count": 11,
   "metadata": {},
   "outputs": [
    {
     "data": {
      "text/plain": [
       "1"
      ]
     },
     "execution_count": 11,
     "metadata": {},
     "output_type": "execute_result"
    }
   ],
   "source": [
    "dfb.groupby('compare_title').size().max()"
   ]
  },
  {
   "cell_type": "code",
   "execution_count": 12,
   "metadata": {},
   "outputs": [],
   "source": [
    "l = dfl.set_index('compare_title')"
   ]
  },
  {
   "cell_type": "code",
   "execution_count": 13,
   "metadata": {},
   "outputs": [],
   "source": [
    "b = dfb.set_index('compare_title')"
   ]
  },
  {
   "cell_type": "code",
   "execution_count": 14,
   "metadata": {},
   "outputs": [],
   "source": [
    "j = l.join(b, how='outer', lsuffix='_l', rsuffix='_b')"
   ]
  },
  {
   "cell_type": "code",
   "execution_count": 15,
   "metadata": {},
   "outputs": [],
   "source": [
    "overlap = j[(pd.notnull(j['user_l']))&(pd.notnull(j['user_b']))]\n",
    "underlap_l_missing = j[(pd.isnull(j['user_l']))&(pd.notnull(j['user_b']))]\n",
    "underlap_b_missing = j[(pd.notnull(j['user_l']))&(pd.isnull(j['user_b']))]"
   ]
  },
  {
   "cell_type": "code",
   "execution_count": 16,
   "metadata": {},
   "outputs": [
    {
     "data": {
      "text/html": [
       "<div>\n",
       "<style scoped>\n",
       "    .dataframe tbody tr th:only-of-type {\n",
       "        vertical-align: middle;\n",
       "    }\n",
       "\n",
       "    .dataframe tbody tr th {\n",
       "        vertical-align: top;\n",
       "    }\n",
       "\n",
       "    .dataframe thead th {\n",
       "        text-align: right;\n",
       "    }\n",
       "</style>\n",
       "<table border=\"1\" class=\"dataframe\">\n",
       "  <thead>\n",
       "    <tr style=\"text-align: right;\">\n",
       "      <th></th>\n",
       "      <th>user_l</th>\n",
       "      <th>timestamp_l</th>\n",
       "      <th>user_b</th>\n",
       "      <th>timestamp_b</th>\n",
       "    </tr>\n",
       "    <tr>\n",
       "      <th>compare_title</th>\n",
       "      <th></th>\n",
       "      <th></th>\n",
       "      <th></th>\n",
       "      <th></th>\n",
       "    </tr>\n",
       "  </thead>\n",
       "  <tbody>\n",
       "    <tr>\n",
       "      <td>ANKA59</td>\n",
       "      <td>Loveless</td>\n",
       "      <td>2019-10-27T12:06:07Z</td>\n",
       "      <td>Loveless bienvenue</td>\n",
       "      <td>2019-10-27T12:07:06Z</td>\n",
       "    </tr>\n",
       "    <tr>\n",
       "      <td>Abbonnezvousamachainec'estCRYO'ZENITH</td>\n",
       "      <td>Loveless</td>\n",
       "      <td>2019-10-27T15:36:08Z</td>\n",
       "      <td>Loveless bienvenue</td>\n",
       "      <td>2019-10-27T15:37:05Z</td>\n",
       "    </tr>\n",
       "    <tr>\n",
       "      <td>Abdou shn</td>\n",
       "      <td>Loveless</td>\n",
       "      <td>2019-10-27T19:15:07Z</td>\n",
       "      <td>Loveless bienvenue</td>\n",
       "      <td>2019-10-27T19:15:08Z</td>\n",
       "    </tr>\n",
       "    <tr>\n",
       "      <td>Acere0011</td>\n",
       "      <td>Loveless</td>\n",
       "      <td>2019-10-27T23:15:06Z</td>\n",
       "      <td>Loveless bienvenue</td>\n",
       "      <td>2019-10-27T23:17:06Z</td>\n",
       "    </tr>\n",
       "    <tr>\n",
       "      <td>Adamakama66</td>\n",
       "      <td>Loveless</td>\n",
       "      <td>2019-10-27T01:39:06Z</td>\n",
       "      <td>Loveless bienvenue</td>\n",
       "      <td>2019-10-27T01:39:06Z</td>\n",
       "    </tr>\n",
       "    <tr>\n",
       "      <td>...</td>\n",
       "      <td>...</td>\n",
       "      <td>...</td>\n",
       "      <td>...</td>\n",
       "      <td>...</td>\n",
       "    </tr>\n",
       "    <tr>\n",
       "      <td>Yveskappooo</td>\n",
       "      <td>Loveless</td>\n",
       "      <td>2019-10-27T20:09:09Z</td>\n",
       "      <td>Loveless bienvenue</td>\n",
       "      <td>2019-10-27T20:09:06Z</td>\n",
       "    </tr>\n",
       "    <tr>\n",
       "      <td>Zazali2019</td>\n",
       "      <td>Loveless</td>\n",
       "      <td>2019-10-27T19:57:09Z</td>\n",
       "      <td>Loveless bienvenue</td>\n",
       "      <td>2019-10-27T19:57:05Z</td>\n",
       "    </tr>\n",
       "    <tr>\n",
       "      <td>Zouhair 01</td>\n",
       "      <td>Loveless</td>\n",
       "      <td>2019-10-27T12:45:08Z</td>\n",
       "      <td>Loveless bienvenue</td>\n",
       "      <td>2019-10-27T12:45:05Z</td>\n",
       "    </tr>\n",
       "    <tr>\n",
       "      <td>انس كرم</td>\n",
       "      <td>Loveless</td>\n",
       "      <td>2019-10-27T15:12:06Z</td>\n",
       "      <td>Loveless bienvenue</td>\n",
       "      <td>2019-10-27T15:13:06Z</td>\n",
       "    </tr>\n",
       "    <tr>\n",
       "      <td>張本勲と苦粗味噌テクニック</td>\n",
       "      <td>Loveless</td>\n",
       "      <td>2019-10-27T03:15:08Z</td>\n",
       "      <td>Loveless bienvenue</td>\n",
       "      <td>2019-10-27T03:15:05Z</td>\n",
       "    </tr>\n",
       "  </tbody>\n",
       "</table>\n",
       "<p>450 rows × 4 columns</p>\n",
       "</div>"
      ],
      "text/plain": [
       "                                         user_l           timestamp_l  \\\n",
       "compare_title                                                           \n",
       "ANKA59                                 Loveless  2019-10-27T12:06:07Z   \n",
       "Abbonnezvousamachainec'estCRYO'ZENITH  Loveless  2019-10-27T15:36:08Z   \n",
       "Abdou shn                              Loveless  2019-10-27T19:15:07Z   \n",
       "Acere0011                              Loveless  2019-10-27T23:15:06Z   \n",
       "Adamakama66                            Loveless  2019-10-27T01:39:06Z   \n",
       "...                                         ...                   ...   \n",
       "Yveskappooo                            Loveless  2019-10-27T20:09:09Z   \n",
       "Zazali2019                             Loveless  2019-10-27T19:57:09Z   \n",
       "Zouhair 01                             Loveless  2019-10-27T12:45:08Z   \n",
       "انس كرم                                Loveless  2019-10-27T15:12:06Z   \n",
       "張本勲と苦粗味噌テクニック                          Loveless  2019-10-27T03:15:08Z   \n",
       "\n",
       "                                                   user_b  \\\n",
       "compare_title                                               \n",
       "ANKA59                                 Loveless bienvenue   \n",
       "Abbonnezvousamachainec'estCRYO'ZENITH  Loveless bienvenue   \n",
       "Abdou shn                              Loveless bienvenue   \n",
       "Acere0011                              Loveless bienvenue   \n",
       "Adamakama66                            Loveless bienvenue   \n",
       "...                                                   ...   \n",
       "Yveskappooo                            Loveless bienvenue   \n",
       "Zazali2019                             Loveless bienvenue   \n",
       "Zouhair 01                             Loveless bienvenue   \n",
       "انس كرم                                Loveless bienvenue   \n",
       "張本勲と苦粗味噌テクニック                          Loveless bienvenue   \n",
       "\n",
       "                                                timestamp_b  \n",
       "compare_title                                                \n",
       "ANKA59                                 2019-10-27T12:07:06Z  \n",
       "Abbonnezvousamachainec'estCRYO'ZENITH  2019-10-27T15:37:05Z  \n",
       "Abdou shn                              2019-10-27T19:15:08Z  \n",
       "Acere0011                              2019-10-27T23:17:06Z  \n",
       "Adamakama66                            2019-10-27T01:39:06Z  \n",
       "...                                                     ...  \n",
       "Yveskappooo                            2019-10-27T20:09:06Z  \n",
       "Zazali2019                             2019-10-27T19:57:05Z  \n",
       "Zouhair 01                             2019-10-27T12:45:05Z  \n",
       "انس كرم                                2019-10-27T15:13:06Z  \n",
       "張本勲と苦粗味噌テクニック                          2019-10-27T03:15:05Z  \n",
       "\n",
       "[450 rows x 4 columns]"
      ]
     },
     "execution_count": 16,
     "metadata": {},
     "output_type": "execute_result"
    }
   ],
   "source": [
    "overlap"
   ]
  },
  {
   "cell_type": "code",
   "execution_count": 17,
   "metadata": {},
   "outputs": [
    {
     "data": {
      "text/html": [
       "<div>\n",
       "<style scoped>\n",
       "    .dataframe tbody tr th:only-of-type {\n",
       "        vertical-align: middle;\n",
       "    }\n",
       "\n",
       "    .dataframe tbody tr th {\n",
       "        vertical-align: top;\n",
       "    }\n",
       "\n",
       "    .dataframe thead th {\n",
       "        text-align: right;\n",
       "    }\n",
       "</style>\n",
       "<table border=\"1\" class=\"dataframe\">\n",
       "  <thead>\n",
       "    <tr style=\"text-align: right;\">\n",
       "      <th></th>\n",
       "      <th>user_l</th>\n",
       "      <th>timestamp_l</th>\n",
       "      <th>user_b</th>\n",
       "      <th>timestamp_b</th>\n",
       "    </tr>\n",
       "    <tr>\n",
       "      <th>compare_title</th>\n",
       "      <th></th>\n",
       "      <th></th>\n",
       "      <th></th>\n",
       "      <th></th>\n",
       "    </tr>\n",
       "  </thead>\n",
       "  <tbody>\n",
       "    <tr>\n",
       "      <td>$addl3backtamar1n134</td>\n",
       "      <td>NaN</td>\n",
       "      <td>NaN</td>\n",
       "      <td>Loveless bienvenue</td>\n",
       "      <td>2019-10-27T04:39:05Z</td>\n",
       "    </tr>\n",
       "    <tr>\n",
       "      <td>.vxctoria</td>\n",
       "      <td>NaN</td>\n",
       "      <td>NaN</td>\n",
       "      <td>Loveless bienvenue</td>\n",
       "      <td>2019-10-27T17:43:05Z</td>\n",
       "    </tr>\n",
       "    <tr>\n",
       "      <td>0x0n</td>\n",
       "      <td>NaN</td>\n",
       "      <td>NaN</td>\n",
       "      <td>Loveless bienvenue</td>\n",
       "      <td>2019-10-27T23:41:05Z</td>\n",
       "    </tr>\n",
       "    <tr>\n",
       "      <td>0zwood</td>\n",
       "      <td>NaN</td>\n",
       "      <td>NaN</td>\n",
       "      <td>Loveless bienvenue</td>\n",
       "      <td>2019-10-27T09:37:06Z</td>\n",
       "    </tr>\n",
       "    <tr>\n",
       "      <td>1999blacklist666</td>\n",
       "      <td>NaN</td>\n",
       "      <td>NaN</td>\n",
       "      <td>Loveless bienvenue</td>\n",
       "      <td>2019-10-27T18:55:05Z</td>\n",
       "    </tr>\n",
       "    <tr>\n",
       "      <td>...</td>\n",
       "      <td>...</td>\n",
       "      <td>...</td>\n",
       "      <td>...</td>\n",
       "      <td>...</td>\n",
       "    </tr>\n",
       "    <tr>\n",
       "      <td>ԳրիգորյանԷդգար</td>\n",
       "      <td>NaN</td>\n",
       "      <td>NaN</td>\n",
       "      <td>Loveless bienvenue</td>\n",
       "      <td>2019-10-27T07:59:06Z</td>\n",
       "    </tr>\n",
       "    <tr>\n",
       "      <td>Դավիթ Ալիխանյան</td>\n",
       "      <td>NaN</td>\n",
       "      <td>NaN</td>\n",
       "      <td>Loveless bienvenue</td>\n",
       "      <td>2019-10-27T08:03:07Z</td>\n",
       "    </tr>\n",
       "    <tr>\n",
       "      <td>حب خادع</td>\n",
       "      <td>NaN</td>\n",
       "      <td>NaN</td>\n",
       "      <td>Loveless bienvenue</td>\n",
       "      <td>2019-10-27T23:33:05Z</td>\n",
       "    </tr>\n",
       "    <tr>\n",
       "      <td>ديارسوبا سليمان</td>\n",
       "      <td>NaN</td>\n",
       "      <td>NaN</td>\n",
       "      <td>Loveless bienvenue</td>\n",
       "      <td>2019-10-27T20:27:06Z</td>\n",
       "    </tr>\n",
       "    <tr>\n",
       "      <td>潘俊翰</td>\n",
       "      <td>NaN</td>\n",
       "      <td>NaN</td>\n",
       "      <td>Loveless bienvenue</td>\n",
       "      <td>2019-10-27T13:33:05Z</td>\n",
       "    </tr>\n",
       "  </tbody>\n",
       "</table>\n",
       "<p>424 rows × 4 columns</p>\n",
       "</div>"
      ],
      "text/plain": [
       "                     user_l timestamp_l              user_b  \\\n",
       "compare_title                                                 \n",
       "$addl3backtamar1n134    NaN         NaN  Loveless bienvenue   \n",
       ".vxctoria               NaN         NaN  Loveless bienvenue   \n",
       "0x0n                    NaN         NaN  Loveless bienvenue   \n",
       "0zwood                  NaN         NaN  Loveless bienvenue   \n",
       "1999blacklist666        NaN         NaN  Loveless bienvenue   \n",
       "...                     ...         ...                 ...   \n",
       "ԳրիգորյանԷդգար          NaN         NaN  Loveless bienvenue   \n",
       "Դավիթ Ալիխանյան         NaN         NaN  Loveless bienvenue   \n",
       "حب خادع                 NaN         NaN  Loveless bienvenue   \n",
       "ديارسوبا سليمان         NaN         NaN  Loveless bienvenue   \n",
       "潘俊翰                     NaN         NaN  Loveless bienvenue   \n",
       "\n",
       "                               timestamp_b  \n",
       "compare_title                               \n",
       "$addl3backtamar1n134  2019-10-27T04:39:05Z  \n",
       ".vxctoria             2019-10-27T17:43:05Z  \n",
       "0x0n                  2019-10-27T23:41:05Z  \n",
       "0zwood                2019-10-27T09:37:06Z  \n",
       "1999blacklist666      2019-10-27T18:55:05Z  \n",
       "...                                    ...  \n",
       "ԳրիգորյանԷդգար        2019-10-27T07:59:06Z  \n",
       "Դավիթ Ալիխանյան       2019-10-27T08:03:07Z  \n",
       "حب خادع               2019-10-27T23:33:05Z  \n",
       "ديارسوبا سليمان       2019-10-27T20:27:06Z  \n",
       "潘俊翰                   2019-10-27T13:33:05Z  \n",
       "\n",
       "[424 rows x 4 columns]"
      ]
     },
     "execution_count": 17,
     "metadata": {},
     "output_type": "execute_result"
    }
   ],
   "source": [
    "underlap_l_missing"
   ]
  },
  {
   "cell_type": "code",
   "execution_count": 18,
   "metadata": {},
   "outputs": [
    {
     "data": {
      "text/html": [
       "<div>\n",
       "<style scoped>\n",
       "    .dataframe tbody tr th:only-of-type {\n",
       "        vertical-align: middle;\n",
       "    }\n",
       "\n",
       "    .dataframe tbody tr th {\n",
       "        vertical-align: top;\n",
       "    }\n",
       "\n",
       "    .dataframe thead th {\n",
       "        text-align: right;\n",
       "    }\n",
       "</style>\n",
       "<table border=\"1\" class=\"dataframe\">\n",
       "  <thead>\n",
       "    <tr style=\"text-align: right;\">\n",
       "      <th></th>\n",
       "      <th>user_l</th>\n",
       "      <th>timestamp_l</th>\n",
       "      <th>user_b</th>\n",
       "      <th>timestamp_b</th>\n",
       "    </tr>\n",
       "    <tr>\n",
       "      <th>compare_title</th>\n",
       "      <th></th>\n",
       "      <th></th>\n",
       "      <th></th>\n",
       "      <th></th>\n",
       "    </tr>\n",
       "  </thead>\n",
       "  <tbody>\n",
       "    <tr>\n",
       "      <td>Alexandrelau7</td>\n",
       "      <td>Loveless</td>\n",
       "      <td>2019-10-27T22:51:06Z</td>\n",
       "      <td>NaN</td>\n",
       "      <td>NaN</td>\n",
       "    </tr>\n",
       "    <tr>\n",
       "      <td>Francxshr/Archive 1</td>\n",
       "      <td>Loveless</td>\n",
       "      <td>2019-10-27T20:21:06Z</td>\n",
       "      <td>NaN</td>\n",
       "      <td>NaN</td>\n",
       "    </tr>\n",
       "    <tr>\n",
       "      <td>Manu911me</td>\n",
       "      <td>Loveless</td>\n",
       "      <td>2019-10-27T09:27:06Z</td>\n",
       "      <td>NaN</td>\n",
       "      <td>NaN</td>\n",
       "    </tr>\n",
       "    <tr>\n",
       "      <td>Maximet26</td>\n",
       "      <td>Loveless</td>\n",
       "      <td>2019-10-27T17:54:08Z</td>\n",
       "      <td>NaN</td>\n",
       "      <td>NaN</td>\n",
       "    </tr>\n",
       "    <tr>\n",
       "      <td>Salixe</td>\n",
       "      <td>Loveless</td>\n",
       "      <td>2019-10-27T15:57:07Z</td>\n",
       "      <td>NaN</td>\n",
       "      <td>NaN</td>\n",
       "    </tr>\n",
       "  </tbody>\n",
       "</table>\n",
       "</div>"
      ],
      "text/plain": [
       "                       user_l           timestamp_l user_b timestamp_b\n",
       "compare_title                                                         \n",
       "Alexandrelau7        Loveless  2019-10-27T22:51:06Z    NaN         NaN\n",
       "Francxshr/Archive 1  Loveless  2019-10-27T20:21:06Z    NaN         NaN\n",
       "Manu911me            Loveless  2019-10-27T09:27:06Z    NaN         NaN\n",
       "Maximet26            Loveless  2019-10-27T17:54:08Z    NaN         NaN\n",
       "Salixe               Loveless  2019-10-27T15:57:07Z    NaN         NaN"
      ]
     },
     "execution_count": 18,
     "metadata": {},
     "output_type": "execute_result"
    }
   ],
   "source": [
    "underlap_b_missing"
   ]
  },
  {
   "cell_type": "code",
   "execution_count": 19,
   "metadata": {},
   "outputs": [
    {
     "ename": "SyntaxError",
     "evalue": "invalid syntax (<ipython-input-19-aca1c510b50d>, line 2)",
     "output_type": "error",
     "traceback": [
      "\u001b[0;36m  File \u001b[0;32m\"<ipython-input-19-aca1c510b50d>\"\u001b[0;36m, line \u001b[0;32m2\u001b[0m\n\u001b[0;31m    Alexandrelau7 -- never existed in our database, have to look more into logs\u001b[0m\n\u001b[0m                                 ^\u001b[0m\n\u001b[0;31mSyntaxError\u001b[0m\u001b[0;31m:\u001b[0m invalid syntax\n"
     ]
    }
   ],
   "source": [
    "# status\n",
    "Alexandrelau7 -- never existed in our database, have to look more into logs\n",
    "Francxshr/Archive 1 -- this is not a new user but template usage\n",
    "Manu911me -- never existed in our database, have to look more into logs\n",
    "Maximet26 -- userblocked [we wont invite a bloced user]\n",
    "Salixe  -- name change [understandable]\n"
   ]
  },
  {
   "cell_type": "markdown",
   "metadata": {},
   "source": [
    "# Make sure users are getting invited within 3 minutes of registration"
   ]
  },
  {
   "cell_type": "code",
   "execution_count": 28,
   "metadata": {},
   "outputs": [
    {
     "data": {
      "text/html": [
       "<div>\n",
       "<style scoped>\n",
       "    .dataframe tbody tr th:only-of-type {\n",
       "        vertical-align: middle;\n",
       "    }\n",
       "\n",
       "    .dataframe tbody tr th {\n",
       "        vertical-align: top;\n",
       "    }\n",
       "\n",
       "    .dataframe thead th {\n",
       "        text-align: right;\n",
       "    }\n",
       "</style>\n",
       "<table border=\"1\" class=\"dataframe\">\n",
       "  <thead>\n",
       "    <tr style=\"text-align: right;\">\n",
       "      <th></th>\n",
       "      <th>userid</th>\n",
       "      <th>user</th>\n",
       "      <th>pageid</th>\n",
       "      <th>revid</th>\n",
       "      <th>parentid</th>\n",
       "      <th>ns</th>\n",
       "      <th>title</th>\n",
       "      <th>timestamp</th>\n",
       "      <th>new</th>\n",
       "      <th>top</th>\n",
       "      <th>comment</th>\n",
       "      <th>size</th>\n",
       "    </tr>\n",
       "  </thead>\n",
       "  <tbody>\n",
       "    <tr>\n",
       "      <td>0</td>\n",
       "      <td>3538808</td>\n",
       "      <td>Loveless bienvenue</td>\n",
       "      <td>12849339</td>\n",
       "      <td>163913539</td>\n",
       "      <td>0</td>\n",
       "      <td>3</td>\n",
       "      <td>Discussion utilisateur:Loveless bienvenue/draft/Chloé Favre</td>\n",
       "      <td>2019-10-27T23:59:05Z</td>\n",
       "      <td></td>\n",
       "      <td></td>\n",
       "      <td>Bienvenue !</td>\n",
       "      <td>1776</td>\n",
       "    </tr>\n",
       "    <tr>\n",
       "      <td>1</td>\n",
       "      <td>3538808</td>\n",
       "      <td>Loveless bienvenue</td>\n",
       "      <td>12849337</td>\n",
       "      <td>163913512</td>\n",
       "      <td>0</td>\n",
       "      <td>3</td>\n",
       "      <td>Discussion utilisateur:Loveless bienvenue/draft/MarcMonk</td>\n",
       "      <td>2019-10-27T23:57:04Z</td>\n",
       "      <td></td>\n",
       "      <td></td>\n",
       "      <td>Bienvenue !</td>\n",
       "      <td>1748</td>\n",
       "    </tr>\n",
       "    <tr>\n",
       "      <td>2</td>\n",
       "      <td>3538808</td>\n",
       "      <td>Loveless bienvenue</td>\n",
       "      <td>12849333</td>\n",
       "      <td>163913491</td>\n",
       "      <td>0</td>\n",
       "      <td>3</td>\n",
       "      <td>Discussion utilisateur:Loveless bienvenue/draft/Jakosmarto</td>\n",
       "      <td>2019-10-27T23:55:05Z</td>\n",
       "      <td></td>\n",
       "      <td></td>\n",
       "      <td>Bienvenue !</td>\n",
       "      <td>1748</td>\n",
       "    </tr>\n",
       "    <tr>\n",
       "      <td>3</td>\n",
       "      <td>3538808</td>\n",
       "      <td>Loveless bienvenue</td>\n",
       "      <td>12849324</td>\n",
       "      <td>163913378</td>\n",
       "      <td>0</td>\n",
       "      <td>3</td>\n",
       "      <td>Discussion utilisateur:Loveless bienvenue/draft/Levesquem</td>\n",
       "      <td>2019-10-27T23:47:05Z</td>\n",
       "      <td></td>\n",
       "      <td></td>\n",
       "      <td>Bienvenue !</td>\n",
       "      <td>1755</td>\n",
       "    </tr>\n",
       "    <tr>\n",
       "      <td>4</td>\n",
       "      <td>3538808</td>\n",
       "      <td>Loveless bienvenue</td>\n",
       "      <td>12849322</td>\n",
       "      <td>163913354</td>\n",
       "      <td>0</td>\n",
       "      <td>3</td>\n",
       "      <td>Discussion utilisateur:Loveless bienvenue/draft/Wackes Von Koenigshoffen</td>\n",
       "      <td>2019-10-27T23:45:04Z</td>\n",
       "      <td></td>\n",
       "      <td></td>\n",
       "      <td>Bienvenue !</td>\n",
       "      <td>1748</td>\n",
       "    </tr>\n",
       "  </tbody>\n",
       "</table>\n",
       "</div>"
      ],
      "text/plain": [
       "    userid                user    pageid      revid  parentid  ns  \\\n",
       "0  3538808  Loveless bienvenue  12849339  163913539         0   3   \n",
       "1  3538808  Loveless bienvenue  12849337  163913512         0   3   \n",
       "2  3538808  Loveless bienvenue  12849333  163913491         0   3   \n",
       "3  3538808  Loveless bienvenue  12849324  163913378         0   3   \n",
       "4  3538808  Loveless bienvenue  12849322  163913354         0   3   \n",
       "\n",
       "                                                                      title  \\\n",
       "0               Discussion utilisateur:Loveless bienvenue/draft/Chloé Favre   \n",
       "1                  Discussion utilisateur:Loveless bienvenue/draft/MarcMonk   \n",
       "2                Discussion utilisateur:Loveless bienvenue/draft/Jakosmarto   \n",
       "3                 Discussion utilisateur:Loveless bienvenue/draft/Levesquem   \n",
       "4  Discussion utilisateur:Loveless bienvenue/draft/Wackes Von Koenigshoffen   \n",
       "\n",
       "              timestamp new top      comment  size  \n",
       "0  2019-10-27T23:59:05Z          Bienvenue !  1776  \n",
       "1  2019-10-27T23:57:04Z          Bienvenue !  1748  \n",
       "2  2019-10-27T23:55:05Z          Bienvenue !  1748  \n",
       "3  2019-10-27T23:47:05Z          Bienvenue !  1755  \n",
       "4  2019-10-27T23:45:04Z          Bienvenue !  1748  "
      ]
     },
     "execution_count": 28,
     "metadata": {},
     "output_type": "execute_result"
    }
   ],
   "source": [
    "dfb_full.head()"
   ]
  },
  {
   "cell_type": "code",
   "execution_count": 39,
   "metadata": {},
   "outputs": [],
   "source": [
    "def get_registration_date(user):\n",
    "    r=mw.get(action='query', list='users', usprop='registration', ususers=user)\n",
    "    try:\n",
    "        reg = r['query']['users'][0]['registration']\n",
    "    except KeyError:\n",
    "        reg = None\n",
    "    return reg"
   ]
  },
  {
   "cell_type": "code",
   "execution_count": 40,
   "metadata": {},
   "outputs": [
    {
     "data": {
      "text/plain": [
       "0    2019-10-27T23:56:07Z\n",
       "1    2019-10-27T23:55:34Z\n",
       "2    2019-10-27T23:53:52Z\n",
       "3    2019-10-27T23:45:53Z\n",
       "Name: compare_title, dtype: object"
      ]
     },
     "execution_count": 40,
     "metadata": {},
     "output_type": "execute_result"
    }
   ],
   "source": [
    "dfb[:4]['compare_title'].apply(get_registration_date)"
   ]
  },
  {
   "cell_type": "code",
   "execution_count": 41,
   "metadata": {},
   "outputs": [
    {
     "name": "stderr",
     "output_type": "stream",
     "text": [
      "/home/paprika/.local/share/virtualenvs/experiment-action-controller-MJBx_Q7R/lib/python3.7/site-packages/ipykernel_launcher.py:1: SettingWithCopyWarning: \n",
      "A value is trying to be set on a copy of a slice from a DataFrame.\n",
      "Try using .loc[row_indexer,col_indexer] = value instead\n",
      "\n",
      "See the caveats in the documentation: http://pandas.pydata.org/pandas-docs/stable/user_guide/indexing.html#returning-a-view-versus-a-copy\n",
      "  \"\"\"Entry point for launching an IPython kernel.\n"
     ]
    }
   ],
   "source": [
    "dfb['registration'] = dfb['compare_title'].apply(get_registration_date)"
   ]
  },
  {
   "cell_type": "code",
   "execution_count": 43,
   "metadata": {},
   "outputs": [],
   "source": [
    "dfb = dfb[pd.notnull(dfb['registration'])]"
   ]
  },
  {
   "cell_type": "code",
   "execution_count": 44,
   "metadata": {},
   "outputs": [
    {
     "name": "stderr",
     "output_type": "stream",
     "text": [
      "/home/paprika/.local/share/virtualenvs/experiment-action-controller-MJBx_Q7R/lib/python3.7/site-packages/ipykernel_launcher.py:1: SettingWithCopyWarning: \n",
      "A value is trying to be set on a copy of a slice from a DataFrame.\n",
      "Try using .loc[row_indexer,col_indexer] = value instead\n",
      "\n",
      "See the caveats in the documentation: http://pandas.pydata.org/pandas-docs/stable/user_guide/indexing.html#returning-a-view-versus-a-copy\n",
      "  \"\"\"Entry point for launching an IPython kernel.\n"
     ]
    }
   ],
   "source": [
    "dfb['registration'] = dfb['registration'].apply(lambda t:datetime.datetime.fromisoformat(t[:-1]))"
   ]
  },
  {
   "cell_type": "code",
   "execution_count": 45,
   "metadata": {},
   "outputs": [
    {
     "name": "stderr",
     "output_type": "stream",
     "text": [
      "/home/paprika/.local/share/virtualenvs/experiment-action-controller-MJBx_Q7R/lib/python3.7/site-packages/ipykernel_launcher.py:1: SettingWithCopyWarning: \n",
      "A value is trying to be set on a copy of a slice from a DataFrame.\n",
      "Try using .loc[row_indexer,col_indexer] = value instead\n",
      "\n",
      "See the caveats in the documentation: http://pandas.pydata.org/pandas-docs/stable/user_guide/indexing.html#returning-a-view-versus-a-copy\n",
      "  \"\"\"Entry point for launching an IPython kernel.\n"
     ]
    }
   ],
   "source": [
    "dfb['welcome'] = dfb['timestamp'].apply(lambda t: datetime.datetime.fromisoformat(t[:-1]))"
   ]
  },
  {
   "cell_type": "code",
   "execution_count": 49,
   "metadata": {},
   "outputs": [
    {
     "name": "stderr",
     "output_type": "stream",
     "text": [
      "/home/paprika/.local/share/virtualenvs/experiment-action-controller-MJBx_Q7R/lib/python3.7/site-packages/ipykernel_launcher.py:1: SettingWithCopyWarning: \n",
      "A value is trying to be set on a copy of a slice from a DataFrame.\n",
      "Try using .loc[row_indexer,col_indexer] = value instead\n",
      "\n",
      "See the caveats in the documentation: http://pandas.pydata.org/pandas-docs/stable/user_guide/indexing.html#returning-a-view-versus-a-copy\n",
      "  \"\"\"Entry point for launching an IPython kernel.\n"
     ]
    }
   ],
   "source": [
    "dfb['welcome_lag'] =  dfb['welcome'] - dfb['registration']"
   ]
  },
  {
   "cell_type": "code",
   "execution_count": 60,
   "metadata": {},
   "outputs": [
    {
     "name": "stderr",
     "output_type": "stream",
     "text": [
      "/home/paprika/.local/share/virtualenvs/experiment-action-controller-MJBx_Q7R/lib/python3.7/site-packages/ipykernel_launcher.py:1: SettingWithCopyWarning: \n",
      "A value is trying to be set on a copy of a slice from a DataFrame.\n",
      "Try using .loc[row_indexer,col_indexer] = value instead\n",
      "\n",
      "See the caveats in the documentation: http://pandas.pydata.org/pandas-docs/stable/user_guide/indexing.html#returning-a-view-versus-a-copy\n",
      "  \"\"\"Entry point for launching an IPython kernel.\n"
     ]
    }
   ],
   "source": [
    "dfb['welcome_lag_seconds']=dfb['welcome_lag'].apply(lambda dt: dt.seconds)"
   ]
  },
  {
   "cell_type": "code",
   "execution_count": 51,
   "metadata": {},
   "outputs": [
    {
     "data": {
      "text/plain": [
       "count                       873\n",
       "mean     0 days 00:02:00.820160\n",
       "std      0 days 00:00:33.583129\n",
       "min             0 days 00:01:01\n",
       "25%             0 days 00:01:32\n",
       "50%             0 days 00:02:01\n",
       "75%             0 days 00:02:30\n",
       "max             0 days 00:03:04\n",
       "Name: welcome_lag, dtype: object"
      ]
     },
     "execution_count": 51,
     "metadata": {},
     "output_type": "execute_result"
    }
   ],
   "source": [
    "dfb['welcome_lag'].describe()"
   ]
  },
  {
   "cell_type": "code",
   "execution_count": 61,
   "metadata": {},
   "outputs": [
    {
     "data": {
      "text/plain": [
       "<matplotlib.axes._subplots.AxesSubplot at 0x7f9c84bad898>"
      ]
     },
     "execution_count": 61,
     "metadata": {},
     "output_type": "execute_result"
    },
    {
     "data": {
      "image/png": "[encoded data removed]",
      "text/plain": [
       "<Figure size 432x288 with 1 Axes>"
      ]
     },
     "metadata": {
      "needs_background": "light"
     },
     "output_type": "display_data"
    }
   ],
   "source": [
    "dfb['welcome_lag_seconds'].plot(kind='hist')"
   ]
  },
  {
   "cell_type": "code",
   "execution_count": null,
   "metadata": {},
   "outputs": [],
   "source": []
  },
  {
   "cell_type": "code",
   "execution_count": null,
   "metadata": {},
   "outputs": [],
   "source": []
  },
  {
   "cell_type": "code",
   "execution_count": null,
   "metadata": {},
   "outputs": [],
   "source": []
  },
  {
   "cell_type": "code",
   "execution_count": null,
   "metadata": {},
   "outputs": [],
   "source": []
  },
  {
   "cell_type": "code",
   "execution_count": null,
   "metadata": {},
   "outputs": [],
   "source": []
  },
  {
   "cell_type": "code",
   "execution_count": null,
   "metadata": {},
   "outputs": [],
   "source": []
  },
  {
   "cell_type": "code",
   "execution_count": null,
   "metadata": {},
   "outputs": [],
   "source": []
  }
 ],
 "metadata": {
  "kernelspec": {
   "display_name": "Python 3",
   "language": "python",
   "name": "python3"
  },
  "language_info": {
   "codemirror_mode": {
    "name": "ipython",
    "version": 3
   },
   "file_extension": ".py",
   "mimetype": "text/x-python",
   "name": "python",
   "nbconvert_exporter": "python",
   "pygments_lexer": "ipython3",
   "version": "3.7.3"
  }
 },
 "nbformat": 4,
 "nbformat_minor": 1
}
